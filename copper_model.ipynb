{
  "cells": [
    {
      "cell_type": "code",
      "execution_count": null,
      "metadata": {
        "id": "FYAqGgzzabum"
      },
      "outputs": [],
      "source": [
        "import warnings\n",
        "warnings.filterwarnings(\"ignore\")\n",
        "import pandas as pd\n",
        "import numpy as np\n",
        "import seaborn as sns\n",
        "import statistics as st\n",
        "from matplotlib import pyplot as plt\n",
        "from scipy import stats\n",
        "from sklearn.preprocessing import StandardScaler,OneHotEncoder,LabelBinarizer\n",
        "from sklearn.model_selection import train_test_split\n",
        "from sklearn.ensemble import ExtraTreesRegressor\n",
        "from sklearn.ensemble import ExtraTreesClassifier\n",
        "from sklearn.metrics import r2_score, mean_absolute_error,mean_squared_error\n",
        "from sklearn.metrics import accuracy_score, confusion_matrix,classification_report, roc_curve, auc\n",
        "from sklearn.model_selection import cross_val_score, GridSearchCV"
      ]
    },
    {
      "cell_type": "code",
      "execution_count": null,
      "metadata": {
        "id": "LhcrsvS9b6zt"
      },
      "outputs": [],
      "source": [
        "data=pd.read_csv('/content/Copper_Set.xlsx - Result 1.csv')"
      ]
    },
    {
      "cell_type": "code",
      "execution_count": null,
      "metadata": {
        "colab": {
          "base_uri": "https://localhost:8080/",
          "height": 964
        },
        "id": "a-HK_Xfeb_MD",
        "outputId": "b593a3eb-830e-4665-cf01-55f9f2c40f1c"
      },
      "outputs": [
        {
          "output_type": "execute_result",
          "data": {
            "text/plain": [
              "                                          id   item_date quantity tons  \\\n",
              "0       EC06F063-9DF0-440C-8764-0B0C05A4F6AE  20210401.0     54.151139   \n",
              "1       4E5F4B3D-DDDF-499D-AFDE-A3227EC49425  20210401.0    768.024839   \n",
              "2       E140FF1B-2407-4C02-A0DD-780A093B1158  20210401.0    386.127949   \n",
              "3       F8D507A0-9C62-4EFE-831E-33E1DA53BB50  20210401.0    202.411065   \n",
              "4       4E1C4E78-152B-430A-8094-ADD889C9D0AD  20210401.0    785.526262   \n",
              "...                                      ...         ...           ...   \n",
              "176446  E842CC08-C367-484C-9BFC-81BB4C110BAE  20200708.0   48.57964266   \n",
              "176447  DDBF6A5B-DB8E-4162-BF88-1EE491E3F920  20200708.0   3022.304001   \n",
              "176448  79810B6C-D5F6-4FC1-A92B-F813231829E2  20200708.0   4.568723085   \n",
              "176449  B9254C79-D0CC-494B-8EEA-1F129885817F  20200708.0    3.00494926   \n",
              "176450  9F0EEFCC-E6ED-49A5-BAEE-EA0750C7BCBB  20200708.0   48.33601037   \n",
              "\n",
              "          customer  country          status item type  application  thickness  \\\n",
              "0       30156308.0     28.0             Won         W         10.0       2.00   \n",
              "1       30202938.0     25.0             Won         W         41.0       0.80   \n",
              "2       30153963.0     30.0             Won        WI         28.0       0.38   \n",
              "3       30349574.0     32.0             Won         S         59.0       2.30   \n",
              "4       30211560.0     28.0             Won         W         10.0       4.00   \n",
              "...            ...      ...             ...       ...          ...        ...   \n",
              "176446  30205078.0     26.0  To be approved         S         10.0       2.90   \n",
              "176447  30336279.0     78.0             Won         W         59.0       2.00   \n",
              "176448  30231432.0     78.0             Won         W         41.0       0.50   \n",
              "176449  30213686.0     78.0             Won         W         10.0      10.00   \n",
              "176450  30205078.0     26.0  To be approved         S         10.0       2.90   \n",
              "\n",
              "         width                              material_ref   product_ref  \\\n",
              "0       1500.0                               DEQ1 S460MC  1.670799e+09   \n",
              "1       1210.0  0000000000000000000000000000000000104991  1.668702e+09   \n",
              "2        952.0                                  S0380700  6.283770e+05   \n",
              "3       1317.0                   DX51D+ZM310MAO 2.3X1317  1.668702e+09   \n",
              "4       2000.0                           2_S275JR+AR-CL1  6.406650e+05   \n",
              "...        ...                                       ...           ...   \n",
              "176446  1780.0  0000000000000000000000000000000701000100  1.641416e+08   \n",
              "176447  1035.0                                       NaN  6.406650e+05   \n",
              "176448  1250.0                                     QBR03  6.119930e+05   \n",
              "176449  1000.0                              S355J2+N-CL1  6.406650e+05   \n",
              "176450  1500.0                                         0           NaN   \n",
              "\n",
              "        delivery date  selling_price  \n",
              "0          20210701.0         854.00  \n",
              "1          20210401.0        1047.00  \n",
              "2          20210101.0         644.33  \n",
              "3          20210101.0         768.00  \n",
              "4          20210301.0         577.00  \n",
              "...               ...            ...  \n",
              "176446     20200801.0         623.00  \n",
              "176447     20200701.0         535.00  \n",
              "176448     20200701.0         974.00  \n",
              "176449     20200801.0         490.00  \n",
              "176450            NaN            NaN  \n",
              "\n",
              "[176451 rows x 14 columns]"
            ],
            "text/html": [
              "\n",
              "  <div id=\"df-60c4841d-7d45-4d33-b6dd-b51667dd9958\" class=\"colab-df-container\">\n",
              "    <div>\n",
              "<style scoped>\n",
              "    .dataframe tbody tr th:only-of-type {\n",
              "        vertical-align: middle;\n",
              "    }\n",
              "\n",
              "    .dataframe tbody tr th {\n",
              "        vertical-align: top;\n",
              "    }\n",
              "\n",
              "    .dataframe thead th {\n",
              "        text-align: right;\n",
              "    }\n",
              "</style>\n",
              "<table border=\"1\" class=\"dataframe\">\n",
              "  <thead>\n",
              "    <tr style=\"text-align: right;\">\n",
              "      <th></th>\n",
              "      <th>id</th>\n",
              "      <th>item_date</th>\n",
              "      <th>quantity tons</th>\n",
              "      <th>customer</th>\n",
              "      <th>country</th>\n",
              "      <th>status</th>\n",
              "      <th>item type</th>\n",
              "      <th>application</th>\n",
              "      <th>thickness</th>\n",
              "      <th>width</th>\n",
              "      <th>material_ref</th>\n",
              "      <th>product_ref</th>\n",
              "      <th>delivery date</th>\n",
              "      <th>selling_price</th>\n",
              "    </tr>\n",
              "  </thead>\n",
              "  <tbody>\n",
              "    <tr>\n",
              "      <th>0</th>\n",
              "      <td>EC06F063-9DF0-440C-8764-0B0C05A4F6AE</td>\n",
              "      <td>20210401.0</td>\n",
              "      <td>54.151139</td>\n",
              "      <td>30156308.0</td>\n",
              "      <td>28.0</td>\n",
              "      <td>Won</td>\n",
              "      <td>W</td>\n",
              "      <td>10.0</td>\n",
              "      <td>2.00</td>\n",
              "      <td>1500.0</td>\n",
              "      <td>DEQ1 S460MC</td>\n",
              "      <td>1.670799e+09</td>\n",
              "      <td>20210701.0</td>\n",
              "      <td>854.00</td>\n",
              "    </tr>\n",
              "    <tr>\n",
              "      <th>1</th>\n",
              "      <td>4E5F4B3D-DDDF-499D-AFDE-A3227EC49425</td>\n",
              "      <td>20210401.0</td>\n",
              "      <td>768.024839</td>\n",
              "      <td>30202938.0</td>\n",
              "      <td>25.0</td>\n",
              "      <td>Won</td>\n",
              "      <td>W</td>\n",
              "      <td>41.0</td>\n",
              "      <td>0.80</td>\n",
              "      <td>1210.0</td>\n",
              "      <td>0000000000000000000000000000000000104991</td>\n",
              "      <td>1.668702e+09</td>\n",
              "      <td>20210401.0</td>\n",
              "      <td>1047.00</td>\n",
              "    </tr>\n",
              "    <tr>\n",
              "      <th>2</th>\n",
              "      <td>E140FF1B-2407-4C02-A0DD-780A093B1158</td>\n",
              "      <td>20210401.0</td>\n",
              "      <td>386.127949</td>\n",
              "      <td>30153963.0</td>\n",
              "      <td>30.0</td>\n",
              "      <td>Won</td>\n",
              "      <td>WI</td>\n",
              "      <td>28.0</td>\n",
              "      <td>0.38</td>\n",
              "      <td>952.0</td>\n",
              "      <td>S0380700</td>\n",
              "      <td>6.283770e+05</td>\n",
              "      <td>20210101.0</td>\n",
              "      <td>644.33</td>\n",
              "    </tr>\n",
              "    <tr>\n",
              "      <th>3</th>\n",
              "      <td>F8D507A0-9C62-4EFE-831E-33E1DA53BB50</td>\n",
              "      <td>20210401.0</td>\n",
              "      <td>202.411065</td>\n",
              "      <td>30349574.0</td>\n",
              "      <td>32.0</td>\n",
              "      <td>Won</td>\n",
              "      <td>S</td>\n",
              "      <td>59.0</td>\n",
              "      <td>2.30</td>\n",
              "      <td>1317.0</td>\n",
              "      <td>DX51D+ZM310MAO 2.3X1317</td>\n",
              "      <td>1.668702e+09</td>\n",
              "      <td>20210101.0</td>\n",
              "      <td>768.00</td>\n",
              "    </tr>\n",
              "    <tr>\n",
              "      <th>4</th>\n",
              "      <td>4E1C4E78-152B-430A-8094-ADD889C9D0AD</td>\n",
              "      <td>20210401.0</td>\n",
              "      <td>785.526262</td>\n",
              "      <td>30211560.0</td>\n",
              "      <td>28.0</td>\n",
              "      <td>Won</td>\n",
              "      <td>W</td>\n",
              "      <td>10.0</td>\n",
              "      <td>4.00</td>\n",
              "      <td>2000.0</td>\n",
              "      <td>2_S275JR+AR-CL1</td>\n",
              "      <td>6.406650e+05</td>\n",
              "      <td>20210301.0</td>\n",
              "      <td>577.00</td>\n",
              "    </tr>\n",
              "    <tr>\n",
              "      <th>...</th>\n",
              "      <td>...</td>\n",
              "      <td>...</td>\n",
              "      <td>...</td>\n",
              "      <td>...</td>\n",
              "      <td>...</td>\n",
              "      <td>...</td>\n",
              "      <td>...</td>\n",
              "      <td>...</td>\n",
              "      <td>...</td>\n",
              "      <td>...</td>\n",
              "      <td>...</td>\n",
              "      <td>...</td>\n",
              "      <td>...</td>\n",
              "      <td>...</td>\n",
              "    </tr>\n",
              "    <tr>\n",
              "      <th>176446</th>\n",
              "      <td>E842CC08-C367-484C-9BFC-81BB4C110BAE</td>\n",
              "      <td>20200708.0</td>\n",
              "      <td>48.57964266</td>\n",
              "      <td>30205078.0</td>\n",
              "      <td>26.0</td>\n",
              "      <td>To be approved</td>\n",
              "      <td>S</td>\n",
              "      <td>10.0</td>\n",
              "      <td>2.90</td>\n",
              "      <td>1780.0</td>\n",
              "      <td>0000000000000000000000000000000701000100</td>\n",
              "      <td>1.641416e+08</td>\n",
              "      <td>20200801.0</td>\n",
              "      <td>623.00</td>\n",
              "    </tr>\n",
              "    <tr>\n",
              "      <th>176447</th>\n",
              "      <td>DDBF6A5B-DB8E-4162-BF88-1EE491E3F920</td>\n",
              "      <td>20200708.0</td>\n",
              "      <td>3022.304001</td>\n",
              "      <td>30336279.0</td>\n",
              "      <td>78.0</td>\n",
              "      <td>Won</td>\n",
              "      <td>W</td>\n",
              "      <td>59.0</td>\n",
              "      <td>2.00</td>\n",
              "      <td>1035.0</td>\n",
              "      <td>NaN</td>\n",
              "      <td>6.406650e+05</td>\n",
              "      <td>20200701.0</td>\n",
              "      <td>535.00</td>\n",
              "    </tr>\n",
              "    <tr>\n",
              "      <th>176448</th>\n",
              "      <td>79810B6C-D5F6-4FC1-A92B-F813231829E2</td>\n",
              "      <td>20200708.0</td>\n",
              "      <td>4.568723085</td>\n",
              "      <td>30231432.0</td>\n",
              "      <td>78.0</td>\n",
              "      <td>Won</td>\n",
              "      <td>W</td>\n",
              "      <td>41.0</td>\n",
              "      <td>0.50</td>\n",
              "      <td>1250.0</td>\n",
              "      <td>QBR03</td>\n",
              "      <td>6.119930e+05</td>\n",
              "      <td>20200701.0</td>\n",
              "      <td>974.00</td>\n",
              "    </tr>\n",
              "    <tr>\n",
              "      <th>176449</th>\n",
              "      <td>B9254C79-D0CC-494B-8EEA-1F129885817F</td>\n",
              "      <td>20200708.0</td>\n",
              "      <td>3.00494926</td>\n",
              "      <td>30213686.0</td>\n",
              "      <td>78.0</td>\n",
              "      <td>Won</td>\n",
              "      <td>W</td>\n",
              "      <td>10.0</td>\n",
              "      <td>10.00</td>\n",
              "      <td>1000.0</td>\n",
              "      <td>S355J2+N-CL1</td>\n",
              "      <td>6.406650e+05</td>\n",
              "      <td>20200801.0</td>\n",
              "      <td>490.00</td>\n",
              "    </tr>\n",
              "    <tr>\n",
              "      <th>176450</th>\n",
              "      <td>9F0EEFCC-E6ED-49A5-BAEE-EA0750C7BCBB</td>\n",
              "      <td>20200708.0</td>\n",
              "      <td>48.33601037</td>\n",
              "      <td>30205078.0</td>\n",
              "      <td>26.0</td>\n",
              "      <td>To be approved</td>\n",
              "      <td>S</td>\n",
              "      <td>10.0</td>\n",
              "      <td>2.90</td>\n",
              "      <td>1500.0</td>\n",
              "      <td>0</td>\n",
              "      <td>NaN</td>\n",
              "      <td>NaN</td>\n",
              "      <td>NaN</td>\n",
              "    </tr>\n",
              "  </tbody>\n",
              "</table>\n",
              "<p>176451 rows × 14 columns</p>\n",
              "</div>\n",
              "    <div class=\"colab-df-buttons\">\n",
              "\n",
              "  <div class=\"colab-df-container\">\n",
              "    <button class=\"colab-df-convert\" onclick=\"convertToInteractive('df-60c4841d-7d45-4d33-b6dd-b51667dd9958')\"\n",
              "            title=\"Convert this dataframe to an interactive table.\"\n",
              "            style=\"display:none;\">\n",
              "\n",
              "  <svg xmlns=\"http://www.w3.org/2000/svg\" height=\"24px\" viewBox=\"0 -960 960 960\">\n",
              "    <path d=\"M120-120v-720h720v720H120Zm60-500h600v-160H180v160Zm220 220h160v-160H400v160Zm0 220h160v-160H400v160ZM180-400h160v-160H180v160Zm440 0h160v-160H620v160ZM180-180h160v-160H180v160Zm440 0h160v-160H620v160Z\"/>\n",
              "  </svg>\n",
              "    </button>\n",
              "\n",
              "  <style>\n",
              "    .colab-df-container {\n",
              "      display:flex;\n",
              "      gap: 12px;\n",
              "    }\n",
              "\n",
              "    .colab-df-convert {\n",
              "      background-color: #E8F0FE;\n",
              "      border: none;\n",
              "      border-radius: 50%;\n",
              "      cursor: pointer;\n",
              "      display: none;\n",
              "      fill: #1967D2;\n",
              "      height: 32px;\n",
              "      padding: 0 0 0 0;\n",
              "      width: 32px;\n",
              "    }\n",
              "\n",
              "    .colab-df-convert:hover {\n",
              "      background-color: #E2EBFA;\n",
              "      box-shadow: 0px 1px 2px rgba(60, 64, 67, 0.3), 0px 1px 3px 1px rgba(60, 64, 67, 0.15);\n",
              "      fill: #174EA6;\n",
              "    }\n",
              "\n",
              "    .colab-df-buttons div {\n",
              "      margin-bottom: 4px;\n",
              "    }\n",
              "\n",
              "    [theme=dark] .colab-df-convert {\n",
              "      background-color: #3B4455;\n",
              "      fill: #D2E3FC;\n",
              "    }\n",
              "\n",
              "    [theme=dark] .colab-df-convert:hover {\n",
              "      background-color: #434B5C;\n",
              "      box-shadow: 0px 1px 3px 1px rgba(0, 0, 0, 0.15);\n",
              "      filter: drop-shadow(0px 1px 2px rgba(0, 0, 0, 0.3));\n",
              "      fill: #FFFFFF;\n",
              "    }\n",
              "  </style>\n",
              "\n",
              "    <script>\n",
              "      const buttonEl =\n",
              "        document.querySelector('#df-60c4841d-7d45-4d33-b6dd-b51667dd9958 button.colab-df-convert');\n",
              "      buttonEl.style.display =\n",
              "        google.colab.kernel.accessAllowed ? 'block' : 'none';\n",
              "\n",
              "      async function convertToInteractive(key) {\n",
              "        const element = document.querySelector('#df-60c4841d-7d45-4d33-b6dd-b51667dd9958');\n",
              "        const dataTable =\n",
              "          await google.colab.kernel.invokeFunction('convertToInteractive',\n",
              "                                                    [key], {});\n",
              "        if (!dataTable) return;\n",
              "\n",
              "        const docLinkHtml = 'Like what you see? Visit the ' +\n",
              "          '<a target=\"_blank\" href=https://colab.research.google.com/notebooks/data_table.ipynb>data table notebook</a>'\n",
              "          + ' to learn more about interactive tables.';\n",
              "        element.innerHTML = '';\n",
              "        dataTable['output_type'] = 'display_data';\n",
              "        await google.colab.output.renderOutput(dataTable, element);\n",
              "        const docLink = document.createElement('div');\n",
              "        docLink.innerHTML = docLinkHtml;\n",
              "        element.appendChild(docLink);\n",
              "      }\n",
              "    </script>\n",
              "  </div>\n",
              "\n",
              "\n",
              "<div id=\"df-bad61b6d-604f-429b-9cb3-772fd5a1d9c0\">\n",
              "  <button class=\"colab-df-quickchart\" onclick=\"quickchart('df-bad61b6d-604f-429b-9cb3-772fd5a1d9c0')\"\n",
              "            title=\"Suggest charts.\"\n",
              "            style=\"display:none;\">\n",
              "\n",
              "<svg xmlns=\"http://www.w3.org/2000/svg\" height=\"24px\"viewBox=\"0 0 24 24\"\n",
              "     width=\"24px\">\n",
              "    <g>\n",
              "        <path d=\"M19 3H5c-1.1 0-2 .9-2 2v14c0 1.1.9 2 2 2h14c1.1 0 2-.9 2-2V5c0-1.1-.9-2-2-2zM9 17H7v-7h2v7zm4 0h-2V7h2v10zm4 0h-2v-4h2v4z\"/>\n",
              "    </g>\n",
              "</svg>\n",
              "  </button>\n",
              "\n",
              "<style>\n",
              "  .colab-df-quickchart {\n",
              "      --bg-color: #E8F0FE;\n",
              "      --fill-color: #1967D2;\n",
              "      --hover-bg-color: #E2EBFA;\n",
              "      --hover-fill-color: #174EA6;\n",
              "      --disabled-fill-color: #AAA;\n",
              "      --disabled-bg-color: #DDD;\n",
              "  }\n",
              "\n",
              "  [theme=dark] .colab-df-quickchart {\n",
              "      --bg-color: #3B4455;\n",
              "      --fill-color: #D2E3FC;\n",
              "      --hover-bg-color: #434B5C;\n",
              "      --hover-fill-color: #FFFFFF;\n",
              "      --disabled-bg-color: #3B4455;\n",
              "      --disabled-fill-color: #666;\n",
              "  }\n",
              "\n",
              "  .colab-df-quickchart {\n",
              "    background-color: var(--bg-color);\n",
              "    border: none;\n",
              "    border-radius: 50%;\n",
              "    cursor: pointer;\n",
              "    display: none;\n",
              "    fill: var(--fill-color);\n",
              "    height: 32px;\n",
              "    padding: 0;\n",
              "    width: 32px;\n",
              "  }\n",
              "\n",
              "  .colab-df-quickchart:hover {\n",
              "    background-color: var(--hover-bg-color);\n",
              "    box-shadow: 0 1px 2px rgba(60, 64, 67, 0.3), 0 1px 3px 1px rgba(60, 64, 67, 0.15);\n",
              "    fill: var(--button-hover-fill-color);\n",
              "  }\n",
              "\n",
              "  .colab-df-quickchart-complete:disabled,\n",
              "  .colab-df-quickchart-complete:disabled:hover {\n",
              "    background-color: var(--disabled-bg-color);\n",
              "    fill: var(--disabled-fill-color);\n",
              "    box-shadow: none;\n",
              "  }\n",
              "\n",
              "  .colab-df-spinner {\n",
              "    border: 2px solid var(--fill-color);\n",
              "    border-color: transparent;\n",
              "    border-bottom-color: var(--fill-color);\n",
              "    animation:\n",
              "      spin 1s steps(1) infinite;\n",
              "  }\n",
              "\n",
              "  @keyframes spin {\n",
              "    0% {\n",
              "      border-color: transparent;\n",
              "      border-bottom-color: var(--fill-color);\n",
              "      border-left-color: var(--fill-color);\n",
              "    }\n",
              "    20% {\n",
              "      border-color: transparent;\n",
              "      border-left-color: var(--fill-color);\n",
              "      border-top-color: var(--fill-color);\n",
              "    }\n",
              "    30% {\n",
              "      border-color: transparent;\n",
              "      border-left-color: var(--fill-color);\n",
              "      border-top-color: var(--fill-color);\n",
              "      border-right-color: var(--fill-color);\n",
              "    }\n",
              "    40% {\n",
              "      border-color: transparent;\n",
              "      border-right-color: var(--fill-color);\n",
              "      border-top-color: var(--fill-color);\n",
              "    }\n",
              "    60% {\n",
              "      border-color: transparent;\n",
              "      border-right-color: var(--fill-color);\n",
              "    }\n",
              "    80% {\n",
              "      border-color: transparent;\n",
              "      border-right-color: var(--fill-color);\n",
              "      border-bottom-color: var(--fill-color);\n",
              "    }\n",
              "    90% {\n",
              "      border-color: transparent;\n",
              "      border-bottom-color: var(--fill-color);\n",
              "    }\n",
              "  }\n",
              "</style>\n",
              "\n",
              "  <script>\n",
              "    async function quickchart(key) {\n",
              "      const quickchartButtonEl =\n",
              "        document.querySelector('#' + key + ' button');\n",
              "      quickchartButtonEl.disabled = true;  // To prevent multiple clicks.\n",
              "      quickchartButtonEl.classList.add('colab-df-spinner');\n",
              "      try {\n",
              "        const charts = await google.colab.kernel.invokeFunction(\n",
              "            'suggestCharts', [key], {});\n",
              "      } catch (error) {\n",
              "        console.error('Error during call to suggestCharts:', error);\n",
              "      }\n",
              "      quickchartButtonEl.classList.remove('colab-df-spinner');\n",
              "      quickchartButtonEl.classList.add('colab-df-quickchart-complete');\n",
              "    }\n",
              "    (() => {\n",
              "      let quickchartButtonEl =\n",
              "        document.querySelector('#df-bad61b6d-604f-429b-9cb3-772fd5a1d9c0 button');\n",
              "      quickchartButtonEl.style.display =\n",
              "        google.colab.kernel.accessAllowed ? 'block' : 'none';\n",
              "    })();\n",
              "  </script>\n",
              "</div>\n",
              "    </div>\n",
              "  </div>\n"
            ]
          },
          "metadata": {},
          "execution_count": 4
        }
      ],
      "source": [
        "data"
      ]
    },
    {
      "cell_type": "code",
      "execution_count": null,
      "metadata": {
        "colab": {
          "base_uri": "https://localhost:8080/",
          "height": 486
        },
        "id": "yMvyqWrab_Re",
        "outputId": "9d28ef6d-ff7a-4caa-df01-3674a53bfbe4"
      },
      "outputs": [
        {
          "output_type": "execute_result",
          "data": {
            "text/plain": [
              "                                     id   item_date quantity tons    customer  \\\n",
              "0  EC06F063-9DF0-440C-8764-0B0C05A4F6AE  20210401.0     54.151139  30156308.0   \n",
              "1  4E5F4B3D-DDDF-499D-AFDE-A3227EC49425  20210401.0    768.024839  30202938.0   \n",
              "2  E140FF1B-2407-4C02-A0DD-780A093B1158  20210401.0    386.127949  30153963.0   \n",
              "3  F8D507A0-9C62-4EFE-831E-33E1DA53BB50  20210401.0    202.411065  30349574.0   \n",
              "4  4E1C4E78-152B-430A-8094-ADD889C9D0AD  20210401.0    785.526262  30211560.0   \n",
              "\n",
              "   country status item type  application  thickness   width  \\\n",
              "0     28.0    Won         W         10.0       2.00  1500.0   \n",
              "1     25.0    Won         W         41.0       0.80  1210.0   \n",
              "2     30.0    Won        WI         28.0       0.38   952.0   \n",
              "3     32.0    Won         S         59.0       2.30  1317.0   \n",
              "4     28.0    Won         W         10.0       4.00  2000.0   \n",
              "\n",
              "                               material_ref   product_ref  delivery date  \\\n",
              "0                               DEQ1 S460MC  1.670799e+09     20210701.0   \n",
              "1  0000000000000000000000000000000000104991  1.668702e+09     20210401.0   \n",
              "2                                  S0380700  6.283770e+05     20210101.0   \n",
              "3                   DX51D+ZM310MAO 2.3X1317  1.668702e+09     20210101.0   \n",
              "4                           2_S275JR+AR-CL1  6.406650e+05     20210301.0   \n",
              "\n",
              "   selling_price  \n",
              "0         854.00  \n",
              "1        1047.00  \n",
              "2         644.33  \n",
              "3         768.00  \n",
              "4         577.00  "
            ],
            "text/html": [
              "\n",
              "  <div id=\"df-1bd8055d-4cfe-4291-b931-02a8f3afe5fd\" class=\"colab-df-container\">\n",
              "    <div>\n",
              "<style scoped>\n",
              "    .dataframe tbody tr th:only-of-type {\n",
              "        vertical-align: middle;\n",
              "    }\n",
              "\n",
              "    .dataframe tbody tr th {\n",
              "        vertical-align: top;\n",
              "    }\n",
              "\n",
              "    .dataframe thead th {\n",
              "        text-align: right;\n",
              "    }\n",
              "</style>\n",
              "<table border=\"1\" class=\"dataframe\">\n",
              "  <thead>\n",
              "    <tr style=\"text-align: right;\">\n",
              "      <th></th>\n",
              "      <th>id</th>\n",
              "      <th>item_date</th>\n",
              "      <th>quantity tons</th>\n",
              "      <th>customer</th>\n",
              "      <th>country</th>\n",
              "      <th>status</th>\n",
              "      <th>item type</th>\n",
              "      <th>application</th>\n",
              "      <th>thickness</th>\n",
              "      <th>width</th>\n",
              "      <th>material_ref</th>\n",
              "      <th>product_ref</th>\n",
              "      <th>delivery date</th>\n",
              "      <th>selling_price</th>\n",
              "    </tr>\n",
              "  </thead>\n",
              "  <tbody>\n",
              "    <tr>\n",
              "      <th>0</th>\n",
              "      <td>EC06F063-9DF0-440C-8764-0B0C05A4F6AE</td>\n",
              "      <td>20210401.0</td>\n",
              "      <td>54.151139</td>\n",
              "      <td>30156308.0</td>\n",
              "      <td>28.0</td>\n",
              "      <td>Won</td>\n",
              "      <td>W</td>\n",
              "      <td>10.0</td>\n",
              "      <td>2.00</td>\n",
              "      <td>1500.0</td>\n",
              "      <td>DEQ1 S460MC</td>\n",
              "      <td>1.670799e+09</td>\n",
              "      <td>20210701.0</td>\n",
              "      <td>854.00</td>\n",
              "    </tr>\n",
              "    <tr>\n",
              "      <th>1</th>\n",
              "      <td>4E5F4B3D-DDDF-499D-AFDE-A3227EC49425</td>\n",
              "      <td>20210401.0</td>\n",
              "      <td>768.024839</td>\n",
              "      <td>30202938.0</td>\n",
              "      <td>25.0</td>\n",
              "      <td>Won</td>\n",
              "      <td>W</td>\n",
              "      <td>41.0</td>\n",
              "      <td>0.80</td>\n",
              "      <td>1210.0</td>\n",
              "      <td>0000000000000000000000000000000000104991</td>\n",
              "      <td>1.668702e+09</td>\n",
              "      <td>20210401.0</td>\n",
              "      <td>1047.00</td>\n",
              "    </tr>\n",
              "    <tr>\n",
              "      <th>2</th>\n",
              "      <td>E140FF1B-2407-4C02-A0DD-780A093B1158</td>\n",
              "      <td>20210401.0</td>\n",
              "      <td>386.127949</td>\n",
              "      <td>30153963.0</td>\n",
              "      <td>30.0</td>\n",
              "      <td>Won</td>\n",
              "      <td>WI</td>\n",
              "      <td>28.0</td>\n",
              "      <td>0.38</td>\n",
              "      <td>952.0</td>\n",
              "      <td>S0380700</td>\n",
              "      <td>6.283770e+05</td>\n",
              "      <td>20210101.0</td>\n",
              "      <td>644.33</td>\n",
              "    </tr>\n",
              "    <tr>\n",
              "      <th>3</th>\n",
              "      <td>F8D507A0-9C62-4EFE-831E-33E1DA53BB50</td>\n",
              "      <td>20210401.0</td>\n",
              "      <td>202.411065</td>\n",
              "      <td>30349574.0</td>\n",
              "      <td>32.0</td>\n",
              "      <td>Won</td>\n",
              "      <td>S</td>\n",
              "      <td>59.0</td>\n",
              "      <td>2.30</td>\n",
              "      <td>1317.0</td>\n",
              "      <td>DX51D+ZM310MAO 2.3X1317</td>\n",
              "      <td>1.668702e+09</td>\n",
              "      <td>20210101.0</td>\n",
              "      <td>768.00</td>\n",
              "    </tr>\n",
              "    <tr>\n",
              "      <th>4</th>\n",
              "      <td>4E1C4E78-152B-430A-8094-ADD889C9D0AD</td>\n",
              "      <td>20210401.0</td>\n",
              "      <td>785.526262</td>\n",
              "      <td>30211560.0</td>\n",
              "      <td>28.0</td>\n",
              "      <td>Won</td>\n",
              "      <td>W</td>\n",
              "      <td>10.0</td>\n",
              "      <td>4.00</td>\n",
              "      <td>2000.0</td>\n",
              "      <td>2_S275JR+AR-CL1</td>\n",
              "      <td>6.406650e+05</td>\n",
              "      <td>20210301.0</td>\n",
              "      <td>577.00</td>\n",
              "    </tr>\n",
              "  </tbody>\n",
              "</table>\n",
              "</div>\n",
              "    <div class=\"colab-df-buttons\">\n",
              "\n",
              "  <div class=\"colab-df-container\">\n",
              "    <button class=\"colab-df-convert\" onclick=\"convertToInteractive('df-1bd8055d-4cfe-4291-b931-02a8f3afe5fd')\"\n",
              "            title=\"Convert this dataframe to an interactive table.\"\n",
              "            style=\"display:none;\">\n",
              "\n",
              "  <svg xmlns=\"http://www.w3.org/2000/svg\" height=\"24px\" viewBox=\"0 -960 960 960\">\n",
              "    <path d=\"M120-120v-720h720v720H120Zm60-500h600v-160H180v160Zm220 220h160v-160H400v160Zm0 220h160v-160H400v160ZM180-400h160v-160H180v160Zm440 0h160v-160H620v160ZM180-180h160v-160H180v160Zm440 0h160v-160H620v160Z\"/>\n",
              "  </svg>\n",
              "    </button>\n",
              "\n",
              "  <style>\n",
              "    .colab-df-container {\n",
              "      display:flex;\n",
              "      gap: 12px;\n",
              "    }\n",
              "\n",
              "    .colab-df-convert {\n",
              "      background-color: #E8F0FE;\n",
              "      border: none;\n",
              "      border-radius: 50%;\n",
              "      cursor: pointer;\n",
              "      display: none;\n",
              "      fill: #1967D2;\n",
              "      height: 32px;\n",
              "      padding: 0 0 0 0;\n",
              "      width: 32px;\n",
              "    }\n",
              "\n",
              "    .colab-df-convert:hover {\n",
              "      background-color: #E2EBFA;\n",
              "      box-shadow: 0px 1px 2px rgba(60, 64, 67, 0.3), 0px 1px 3px 1px rgba(60, 64, 67, 0.15);\n",
              "      fill: #174EA6;\n",
              "    }\n",
              "\n",
              "    .colab-df-buttons div {\n",
              "      margin-bottom: 4px;\n",
              "    }\n",
              "\n",
              "    [theme=dark] .colab-df-convert {\n",
              "      background-color: #3B4455;\n",
              "      fill: #D2E3FC;\n",
              "    }\n",
              "\n",
              "    [theme=dark] .colab-df-convert:hover {\n",
              "      background-color: #434B5C;\n",
              "      box-shadow: 0px 1px 3px 1px rgba(0, 0, 0, 0.15);\n",
              "      filter: drop-shadow(0px 1px 2px rgba(0, 0, 0, 0.3));\n",
              "      fill: #FFFFFF;\n",
              "    }\n",
              "  </style>\n",
              "\n",
              "    <script>\n",
              "      const buttonEl =\n",
              "        document.querySelector('#df-1bd8055d-4cfe-4291-b931-02a8f3afe5fd button.colab-df-convert');\n",
              "      buttonEl.style.display =\n",
              "        google.colab.kernel.accessAllowed ? 'block' : 'none';\n",
              "\n",
              "      async function convertToInteractive(key) {\n",
              "        const element = document.querySelector('#df-1bd8055d-4cfe-4291-b931-02a8f3afe5fd');\n",
              "        const dataTable =\n",
              "          await google.colab.kernel.invokeFunction('convertToInteractive',\n",
              "                                                    [key], {});\n",
              "        if (!dataTable) return;\n",
              "\n",
              "        const docLinkHtml = 'Like what you see? Visit the ' +\n",
              "          '<a target=\"_blank\" href=https://colab.research.google.com/notebooks/data_table.ipynb>data table notebook</a>'\n",
              "          + ' to learn more about interactive tables.';\n",
              "        element.innerHTML = '';\n",
              "        dataTable['output_type'] = 'display_data';\n",
              "        await google.colab.output.renderOutput(dataTable, element);\n",
              "        const docLink = document.createElement('div');\n",
              "        docLink.innerHTML = docLinkHtml;\n",
              "        element.appendChild(docLink);\n",
              "      }\n",
              "    </script>\n",
              "  </div>\n",
              "\n",
              "\n",
              "<div id=\"df-37de7605-5458-47a0-94b2-f4f577322773\">\n",
              "  <button class=\"colab-df-quickchart\" onclick=\"quickchart('df-37de7605-5458-47a0-94b2-f4f577322773')\"\n",
              "            title=\"Suggest charts.\"\n",
              "            style=\"display:none;\">\n",
              "\n",
              "<svg xmlns=\"http://www.w3.org/2000/svg\" height=\"24px\"viewBox=\"0 0 24 24\"\n",
              "     width=\"24px\">\n",
              "    <g>\n",
              "        <path d=\"M19 3H5c-1.1 0-2 .9-2 2v14c0 1.1.9 2 2 2h14c1.1 0 2-.9 2-2V5c0-1.1-.9-2-2-2zM9 17H7v-7h2v7zm4 0h-2V7h2v10zm4 0h-2v-4h2v4z\"/>\n",
              "    </g>\n",
              "</svg>\n",
              "  </button>\n",
              "\n",
              "<style>\n",
              "  .colab-df-quickchart {\n",
              "      --bg-color: #E8F0FE;\n",
              "      --fill-color: #1967D2;\n",
              "      --hover-bg-color: #E2EBFA;\n",
              "      --hover-fill-color: #174EA6;\n",
              "      --disabled-fill-color: #AAA;\n",
              "      --disabled-bg-color: #DDD;\n",
              "  }\n",
              "\n",
              "  [theme=dark] .colab-df-quickchart {\n",
              "      --bg-color: #3B4455;\n",
              "      --fill-color: #D2E3FC;\n",
              "      --hover-bg-color: #434B5C;\n",
              "      --hover-fill-color: #FFFFFF;\n",
              "      --disabled-bg-color: #3B4455;\n",
              "      --disabled-fill-color: #666;\n",
              "  }\n",
              "\n",
              "  .colab-df-quickchart {\n",
              "    background-color: var(--bg-color);\n",
              "    border: none;\n",
              "    border-radius: 50%;\n",
              "    cursor: pointer;\n",
              "    display: none;\n",
              "    fill: var(--fill-color);\n",
              "    height: 32px;\n",
              "    padding: 0;\n",
              "    width: 32px;\n",
              "  }\n",
              "\n",
              "  .colab-df-quickchart:hover {\n",
              "    background-color: var(--hover-bg-color);\n",
              "    box-shadow: 0 1px 2px rgba(60, 64, 67, 0.3), 0 1px 3px 1px rgba(60, 64, 67, 0.15);\n",
              "    fill: var(--button-hover-fill-color);\n",
              "  }\n",
              "\n",
              "  .colab-df-quickchart-complete:disabled,\n",
              "  .colab-df-quickchart-complete:disabled:hover {\n",
              "    background-color: var(--disabled-bg-color);\n",
              "    fill: var(--disabled-fill-color);\n",
              "    box-shadow: none;\n",
              "  }\n",
              "\n",
              "  .colab-df-spinner {\n",
              "    border: 2px solid var(--fill-color);\n",
              "    border-color: transparent;\n",
              "    border-bottom-color: var(--fill-color);\n",
              "    animation:\n",
              "      spin 1s steps(1) infinite;\n",
              "  }\n",
              "\n",
              "  @keyframes spin {\n",
              "    0% {\n",
              "      border-color: transparent;\n",
              "      border-bottom-color: var(--fill-color);\n",
              "      border-left-color: var(--fill-color);\n",
              "    }\n",
              "    20% {\n",
              "      border-color: transparent;\n",
              "      border-left-color: var(--fill-color);\n",
              "      border-top-color: var(--fill-color);\n",
              "    }\n",
              "    30% {\n",
              "      border-color: transparent;\n",
              "      border-left-color: var(--fill-color);\n",
              "      border-top-color: var(--fill-color);\n",
              "      border-right-color: var(--fill-color);\n",
              "    }\n",
              "    40% {\n",
              "      border-color: transparent;\n",
              "      border-right-color: var(--fill-color);\n",
              "      border-top-color: var(--fill-color);\n",
              "    }\n",
              "    60% {\n",
              "      border-color: transparent;\n",
              "      border-right-color: var(--fill-color);\n",
              "    }\n",
              "    80% {\n",
              "      border-color: transparent;\n",
              "      border-right-color: var(--fill-color);\n",
              "      border-bottom-color: var(--fill-color);\n",
              "    }\n",
              "    90% {\n",
              "      border-color: transparent;\n",
              "      border-bottom-color: var(--fill-color);\n",
              "    }\n",
              "  }\n",
              "</style>\n",
              "\n",
              "  <script>\n",
              "    async function quickchart(key) {\n",
              "      const quickchartButtonEl =\n",
              "        document.querySelector('#' + key + ' button');\n",
              "      quickchartButtonEl.disabled = true;  // To prevent multiple clicks.\n",
              "      quickchartButtonEl.classList.add('colab-df-spinner');\n",
              "      try {\n",
              "        const charts = await google.colab.kernel.invokeFunction(\n",
              "            'suggestCharts', [key], {});\n",
              "      } catch (error) {\n",
              "        console.error('Error during call to suggestCharts:', error);\n",
              "      }\n",
              "      quickchartButtonEl.classList.remove('colab-df-spinner');\n",
              "      quickchartButtonEl.classList.add('colab-df-quickchart-complete');\n",
              "    }\n",
              "    (() => {\n",
              "      let quickchartButtonEl =\n",
              "        document.querySelector('#df-37de7605-5458-47a0-94b2-f4f577322773 button');\n",
              "      quickchartButtonEl.style.display =\n",
              "        google.colab.kernel.accessAllowed ? 'block' : 'none';\n",
              "    })();\n",
              "  </script>\n",
              "</div>\n",
              "    </div>\n",
              "  </div>\n"
            ]
          },
          "metadata": {},
          "execution_count": 5
        }
      ],
      "source": [
        "data_1=data.copy()\n",
        "data_1.head()"
      ]
    },
    {
      "cell_type": "code",
      "execution_count": null,
      "metadata": {
        "colab": {
          "base_uri": "https://localhost:8080/"
        },
        "id": "s8XfZLjTb_TP",
        "outputId": "25fc228b-9168-457e-c3f2-e3dad715fc32"
      },
      "outputs": [
        {
          "output_type": "execute_result",
          "data": {
            "text/plain": [
              "(176451, 14)"
            ]
          },
          "metadata": {},
          "execution_count": 6
        }
      ],
      "source": [
        "data_1.shape"
      ]
    },
    {
      "cell_type": "code",
      "execution_count": null,
      "metadata": {
        "colab": {
          "base_uri": "https://localhost:8080/"
        },
        "id": "MssEjavYb_Wz",
        "outputId": "11a392f4-8adc-4be6-c242-3749b766192d"
      },
      "outputs": [
        {
          "output_type": "execute_result",
          "data": {
            "text/plain": [
              "Index(['id', 'item_date', 'quantity tons', 'customer', 'country', 'status',\n",
              "       'item type', 'application', 'thickness', 'width', 'material_ref',\n",
              "       'product_ref', 'delivery date', 'selling_price'],\n",
              "      dtype='object')"
            ]
          },
          "metadata": {},
          "execution_count": 7
        }
      ],
      "source": [
        "data_1.columns"
      ]
    },
    {
      "cell_type": "code",
      "execution_count": null,
      "metadata": {
        "id": "J2zrNk-7b_Ya"
      },
      "outputs": [],
      "source": [
        "data_1.drop(columns = ['id'],inplace=True)"
      ]
    },
    {
      "cell_type": "code",
      "execution_count": null,
      "metadata": {
        "colab": {
          "base_uri": "https://localhost:8080/",
          "height": 135
        },
        "id": "Nzn2vQ6Wb_cR",
        "outputId": "32e902b2-4982-47cb-b0bc-935f52f19f57"
      },
      "outputs": [
        {
          "output_type": "execute_result",
          "data": {
            "text/plain": [
              "    item_date quantity tons    customer  country status item type  \\\n",
              "0  20210401.0     54.151139  30156308.0     28.0    Won         W   \n",
              "\n",
              "   application  thickness   width material_ref   product_ref  delivery date  \\\n",
              "0         10.0        2.0  1500.0  DEQ1 S460MC  1.670799e+09     20210701.0   \n",
              "\n",
              "   selling_price  \n",
              "0          854.0  "
            ],
            "text/html": [
              "\n",
              "  <div id=\"df-bf99b0b7-8732-44fc-a6af-662569f76ee1\" class=\"colab-df-container\">\n",
              "    <div>\n",
              "<style scoped>\n",
              "    .dataframe tbody tr th:only-of-type {\n",
              "        vertical-align: middle;\n",
              "    }\n",
              "\n",
              "    .dataframe tbody tr th {\n",
              "        vertical-align: top;\n",
              "    }\n",
              "\n",
              "    .dataframe thead th {\n",
              "        text-align: right;\n",
              "    }\n",
              "</style>\n",
              "<table border=\"1\" class=\"dataframe\">\n",
              "  <thead>\n",
              "    <tr style=\"text-align: right;\">\n",
              "      <th></th>\n",
              "      <th>item_date</th>\n",
              "      <th>quantity tons</th>\n",
              "      <th>customer</th>\n",
              "      <th>country</th>\n",
              "      <th>status</th>\n",
              "      <th>item type</th>\n",
              "      <th>application</th>\n",
              "      <th>thickness</th>\n",
              "      <th>width</th>\n",
              "      <th>material_ref</th>\n",
              "      <th>product_ref</th>\n",
              "      <th>delivery date</th>\n",
              "      <th>selling_price</th>\n",
              "    </tr>\n",
              "  </thead>\n",
              "  <tbody>\n",
              "    <tr>\n",
              "      <th>0</th>\n",
              "      <td>20210401.0</td>\n",
              "      <td>54.151139</td>\n",
              "      <td>30156308.0</td>\n",
              "      <td>28.0</td>\n",
              "      <td>Won</td>\n",
              "      <td>W</td>\n",
              "      <td>10.0</td>\n",
              "      <td>2.0</td>\n",
              "      <td>1500.0</td>\n",
              "      <td>DEQ1 S460MC</td>\n",
              "      <td>1.670799e+09</td>\n",
              "      <td>20210701.0</td>\n",
              "      <td>854.0</td>\n",
              "    </tr>\n",
              "  </tbody>\n",
              "</table>\n",
              "</div>\n",
              "    <div class=\"colab-df-buttons\">\n",
              "\n",
              "  <div class=\"colab-df-container\">\n",
              "    <button class=\"colab-df-convert\" onclick=\"convertToInteractive('df-bf99b0b7-8732-44fc-a6af-662569f76ee1')\"\n",
              "            title=\"Convert this dataframe to an interactive table.\"\n",
              "            style=\"display:none;\">\n",
              "\n",
              "  <svg xmlns=\"http://www.w3.org/2000/svg\" height=\"24px\" viewBox=\"0 -960 960 960\">\n",
              "    <path d=\"M120-120v-720h720v720H120Zm60-500h600v-160H180v160Zm220 220h160v-160H400v160Zm0 220h160v-160H400v160ZM180-400h160v-160H180v160Zm440 0h160v-160H620v160ZM180-180h160v-160H180v160Zm440 0h160v-160H620v160Z\"/>\n",
              "  </svg>\n",
              "    </button>\n",
              "\n",
              "  <style>\n",
              "    .colab-df-container {\n",
              "      display:flex;\n",
              "      gap: 12px;\n",
              "    }\n",
              "\n",
              "    .colab-df-convert {\n",
              "      background-color: #E8F0FE;\n",
              "      border: none;\n",
              "      border-radius: 50%;\n",
              "      cursor: pointer;\n",
              "      display: none;\n",
              "      fill: #1967D2;\n",
              "      height: 32px;\n",
              "      padding: 0 0 0 0;\n",
              "      width: 32px;\n",
              "    }\n",
              "\n",
              "    .colab-df-convert:hover {\n",
              "      background-color: #E2EBFA;\n",
              "      box-shadow: 0px 1px 2px rgba(60, 64, 67, 0.3), 0px 1px 3px 1px rgba(60, 64, 67, 0.15);\n",
              "      fill: #174EA6;\n",
              "    }\n",
              "\n",
              "    .colab-df-buttons div {\n",
              "      margin-bottom: 4px;\n",
              "    }\n",
              "\n",
              "    [theme=dark] .colab-df-convert {\n",
              "      background-color: #3B4455;\n",
              "      fill: #D2E3FC;\n",
              "    }\n",
              "\n",
              "    [theme=dark] .colab-df-convert:hover {\n",
              "      background-color: #434B5C;\n",
              "      box-shadow: 0px 1px 3px 1px rgba(0, 0, 0, 0.15);\n",
              "      filter: drop-shadow(0px 1px 2px rgba(0, 0, 0, 0.3));\n",
              "      fill: #FFFFFF;\n",
              "    }\n",
              "  </style>\n",
              "\n",
              "    <script>\n",
              "      const buttonEl =\n",
              "        document.querySelector('#df-bf99b0b7-8732-44fc-a6af-662569f76ee1 button.colab-df-convert');\n",
              "      buttonEl.style.display =\n",
              "        google.colab.kernel.accessAllowed ? 'block' : 'none';\n",
              "\n",
              "      async function convertToInteractive(key) {\n",
              "        const element = document.querySelector('#df-bf99b0b7-8732-44fc-a6af-662569f76ee1');\n",
              "        const dataTable =\n",
              "          await google.colab.kernel.invokeFunction('convertToInteractive',\n",
              "                                                    [key], {});\n",
              "        if (!dataTable) return;\n",
              "\n",
              "        const docLinkHtml = 'Like what you see? Visit the ' +\n",
              "          '<a target=\"_blank\" href=https://colab.research.google.com/notebooks/data_table.ipynb>data table notebook</a>'\n",
              "          + ' to learn more about interactive tables.';\n",
              "        element.innerHTML = '';\n",
              "        dataTable['output_type'] = 'display_data';\n",
              "        await google.colab.output.renderOutput(dataTable, element);\n",
              "        const docLink = document.createElement('div');\n",
              "        docLink.innerHTML = docLinkHtml;\n",
              "        element.appendChild(docLink);\n",
              "      }\n",
              "    </script>\n",
              "  </div>\n",
              "\n",
              "    </div>\n",
              "  </div>\n"
            ]
          },
          "metadata": {},
          "execution_count": 9
        }
      ],
      "source": [
        "data_1.head(1)"
      ]
    },
    {
      "cell_type": "code",
      "execution_count": null,
      "metadata": {
        "colab": {
          "base_uri": "https://localhost:8080/"
        },
        "id": "hAYaZEctcZHV",
        "outputId": "851096d1-3abb-4680-e5a2-17254dc21dfa"
      },
      "outputs": [
        {
          "output_type": "execute_result",
          "data": {
            "text/plain": [
              "item_date            1\n",
              "quantity tons        0\n",
              "customer             1\n",
              "country             28\n",
              "status               2\n",
              "item type            0\n",
              "application         24\n",
              "thickness            1\n",
              "width                0\n",
              "material_ref     75781\n",
              "product_ref          1\n",
              "delivery date        2\n",
              "selling_price        2\n",
              "dtype: int64"
            ]
          },
          "metadata": {},
          "execution_count": 10
        }
      ],
      "source": [
        "data_1.isnull().sum()"
      ]
    },
    {
      "cell_type": "code",
      "execution_count": null,
      "metadata": {
        "colab": {
          "base_uri": "https://localhost:8080/",
          "height": 118
        },
        "id": "ISF4dSznch7a",
        "outputId": "48d90037-fb44-46e5-f794-04b6ec0b719b"
      },
      "outputs": [
        {
          "output_type": "execute_result",
          "data": {
            "text/plain": [
              "   item_date  quantity tons  customer   country    status  item type  \\\n",
              "0   0.000567            0.0  0.000567  0.015868  0.001133        0.0   \n",
              "\n",
              "   application  thickness  width  material_ref  product_ref  delivery date  \\\n",
              "0     0.013602   0.000567    0.0     42.947334     0.000567       0.001133   \n",
              "\n",
              "   selling_price  \n",
              "0       0.001133  "
            ],
            "text/html": [
              "\n",
              "  <div id=\"df-816f5b34-7d1c-4f02-9bf8-718dd26ce0f0\" class=\"colab-df-container\">\n",
              "    <div>\n",
              "<style scoped>\n",
              "    .dataframe tbody tr th:only-of-type {\n",
              "        vertical-align: middle;\n",
              "    }\n",
              "\n",
              "    .dataframe tbody tr th {\n",
              "        vertical-align: top;\n",
              "    }\n",
              "\n",
              "    .dataframe thead th {\n",
              "        text-align: right;\n",
              "    }\n",
              "</style>\n",
              "<table border=\"1\" class=\"dataframe\">\n",
              "  <thead>\n",
              "    <tr style=\"text-align: right;\">\n",
              "      <th></th>\n",
              "      <th>item_date</th>\n",
              "      <th>quantity tons</th>\n",
              "      <th>customer</th>\n",
              "      <th>country</th>\n",
              "      <th>status</th>\n",
              "      <th>item type</th>\n",
              "      <th>application</th>\n",
              "      <th>thickness</th>\n",
              "      <th>width</th>\n",
              "      <th>material_ref</th>\n",
              "      <th>product_ref</th>\n",
              "      <th>delivery date</th>\n",
              "      <th>selling_price</th>\n",
              "    </tr>\n",
              "  </thead>\n",
              "  <tbody>\n",
              "    <tr>\n",
              "      <th>0</th>\n",
              "      <td>0.000567</td>\n",
              "      <td>0.0</td>\n",
              "      <td>0.000567</td>\n",
              "      <td>0.015868</td>\n",
              "      <td>0.001133</td>\n",
              "      <td>0.0</td>\n",
              "      <td>0.013602</td>\n",
              "      <td>0.000567</td>\n",
              "      <td>0.0</td>\n",
              "      <td>42.947334</td>\n",
              "      <td>0.000567</td>\n",
              "      <td>0.001133</td>\n",
              "      <td>0.001133</td>\n",
              "    </tr>\n",
              "  </tbody>\n",
              "</table>\n",
              "</div>\n",
              "    <div class=\"colab-df-buttons\">\n",
              "\n",
              "  <div class=\"colab-df-container\">\n",
              "    <button class=\"colab-df-convert\" onclick=\"convertToInteractive('df-816f5b34-7d1c-4f02-9bf8-718dd26ce0f0')\"\n",
              "            title=\"Convert this dataframe to an interactive table.\"\n",
              "            style=\"display:none;\">\n",
              "\n",
              "  <svg xmlns=\"http://www.w3.org/2000/svg\" height=\"24px\" viewBox=\"0 -960 960 960\">\n",
              "    <path d=\"M120-120v-720h720v720H120Zm60-500h600v-160H180v160Zm220 220h160v-160H400v160Zm0 220h160v-160H400v160ZM180-400h160v-160H180v160Zm440 0h160v-160H620v160ZM180-180h160v-160H180v160Zm440 0h160v-160H620v160Z\"/>\n",
              "  </svg>\n",
              "    </button>\n",
              "\n",
              "  <style>\n",
              "    .colab-df-container {\n",
              "      display:flex;\n",
              "      gap: 12px;\n",
              "    }\n",
              "\n",
              "    .colab-df-convert {\n",
              "      background-color: #E8F0FE;\n",
              "      border: none;\n",
              "      border-radius: 50%;\n",
              "      cursor: pointer;\n",
              "      display: none;\n",
              "      fill: #1967D2;\n",
              "      height: 32px;\n",
              "      padding: 0 0 0 0;\n",
              "      width: 32px;\n",
              "    }\n",
              "\n",
              "    .colab-df-convert:hover {\n",
              "      background-color: #E2EBFA;\n",
              "      box-shadow: 0px 1px 2px rgba(60, 64, 67, 0.3), 0px 1px 3px 1px rgba(60, 64, 67, 0.15);\n",
              "      fill: #174EA6;\n",
              "    }\n",
              "\n",
              "    .colab-df-buttons div {\n",
              "      margin-bottom: 4px;\n",
              "    }\n",
              "\n",
              "    [theme=dark] .colab-df-convert {\n",
              "      background-color: #3B4455;\n",
              "      fill: #D2E3FC;\n",
              "    }\n",
              "\n",
              "    [theme=dark] .colab-df-convert:hover {\n",
              "      background-color: #434B5C;\n",
              "      box-shadow: 0px 1px 3px 1px rgba(0, 0, 0, 0.15);\n",
              "      filter: drop-shadow(0px 1px 2px rgba(0, 0, 0, 0.3));\n",
              "      fill: #FFFFFF;\n",
              "    }\n",
              "  </style>\n",
              "\n",
              "    <script>\n",
              "      const buttonEl =\n",
              "        document.querySelector('#df-816f5b34-7d1c-4f02-9bf8-718dd26ce0f0 button.colab-df-convert');\n",
              "      buttonEl.style.display =\n",
              "        google.colab.kernel.accessAllowed ? 'block' : 'none';\n",
              "\n",
              "      async function convertToInteractive(key) {\n",
              "        const element = document.querySelector('#df-816f5b34-7d1c-4f02-9bf8-718dd26ce0f0');\n",
              "        const dataTable =\n",
              "          await google.colab.kernel.invokeFunction('convertToInteractive',\n",
              "                                                    [key], {});\n",
              "        if (!dataTable) return;\n",
              "\n",
              "        const docLinkHtml = 'Like what you see? Visit the ' +\n",
              "          '<a target=\"_blank\" href=https://colab.research.google.com/notebooks/data_table.ipynb>data table notebook</a>'\n",
              "          + ' to learn more about interactive tables.';\n",
              "        element.innerHTML = '';\n",
              "        dataTable['output_type'] = 'display_data';\n",
              "        await google.colab.output.renderOutput(dataTable, element);\n",
              "        const docLink = document.createElement('div');\n",
              "        docLink.innerHTML = docLinkHtml;\n",
              "        element.appendChild(docLink);\n",
              "      }\n",
              "    </script>\n",
              "  </div>\n",
              "\n",
              "    </div>\n",
              "  </div>\n"
            ]
          },
          "metadata": {},
          "execution_count": 11
        }
      ],
      "source": [
        "# looking for the percentage of null data in the dataframe\n",
        "pd.DataFrame(data_1.isna().mean()*100).T"
      ]
    },
    {
      "cell_type": "code",
      "execution_count": null,
      "metadata": {
        "id": "E-pjBjj1clFQ"
      },
      "outputs": [],
      "source": [
        "#data_2=data_1.drop(columns=['material_ref'],inplace=True)\n",
        "# material_ref has large set of null values, so replacing them with unknown\n",
        "data_1['material_ref'].fillna('unknown', inplace=True)\n",
        "# deleting the remaining null values as they are less than 1% of data which can be neglected\n",
        "#data_1 = data_1.dropna()"
      ]
    },
    {
      "cell_type": "code",
      "execution_count": null,
      "metadata": {
        "colab": {
          "base_uri": "https://localhost:8080/",
          "height": 135
        },
        "id": "h_6s37oOddJ3",
        "outputId": "5f63bc02-21ac-4a96-feb0-7280ad2cd465"
      },
      "outputs": [
        {
          "output_type": "execute_result",
          "data": {
            "text/plain": [
              "    item_date quantity tons    customer  country status item type  \\\n",
              "0  20210401.0     54.151139  30156308.0     28.0    Won         W   \n",
              "\n",
              "   application  thickness   width material_ref   product_ref  delivery date  \\\n",
              "0         10.0        2.0  1500.0  DEQ1 S460MC  1.670799e+09     20210701.0   \n",
              "\n",
              "   selling_price  \n",
              "0          854.0  "
            ],
            "text/html": [
              "\n",
              "  <div id=\"df-6966309b-9dcc-4282-84a3-3f9f4f741e83\" class=\"colab-df-container\">\n",
              "    <div>\n",
              "<style scoped>\n",
              "    .dataframe tbody tr th:only-of-type {\n",
              "        vertical-align: middle;\n",
              "    }\n",
              "\n",
              "    .dataframe tbody tr th {\n",
              "        vertical-align: top;\n",
              "    }\n",
              "\n",
              "    .dataframe thead th {\n",
              "        text-align: right;\n",
              "    }\n",
              "</style>\n",
              "<table border=\"1\" class=\"dataframe\">\n",
              "  <thead>\n",
              "    <tr style=\"text-align: right;\">\n",
              "      <th></th>\n",
              "      <th>item_date</th>\n",
              "      <th>quantity tons</th>\n",
              "      <th>customer</th>\n",
              "      <th>country</th>\n",
              "      <th>status</th>\n",
              "      <th>item type</th>\n",
              "      <th>application</th>\n",
              "      <th>thickness</th>\n",
              "      <th>width</th>\n",
              "      <th>material_ref</th>\n",
              "      <th>product_ref</th>\n",
              "      <th>delivery date</th>\n",
              "      <th>selling_price</th>\n",
              "    </tr>\n",
              "  </thead>\n",
              "  <tbody>\n",
              "    <tr>\n",
              "      <th>0</th>\n",
              "      <td>20210401.0</td>\n",
              "      <td>54.151139</td>\n",
              "      <td>30156308.0</td>\n",
              "      <td>28.0</td>\n",
              "      <td>Won</td>\n",
              "      <td>W</td>\n",
              "      <td>10.0</td>\n",
              "      <td>2.0</td>\n",
              "      <td>1500.0</td>\n",
              "      <td>DEQ1 S460MC</td>\n",
              "      <td>1.670799e+09</td>\n",
              "      <td>20210701.0</td>\n",
              "      <td>854.0</td>\n",
              "    </tr>\n",
              "  </tbody>\n",
              "</table>\n",
              "</div>\n",
              "    <div class=\"colab-df-buttons\">\n",
              "\n",
              "  <div class=\"colab-df-container\">\n",
              "    <button class=\"colab-df-convert\" onclick=\"convertToInteractive('df-6966309b-9dcc-4282-84a3-3f9f4f741e83')\"\n",
              "            title=\"Convert this dataframe to an interactive table.\"\n",
              "            style=\"display:none;\">\n",
              "\n",
              "  <svg xmlns=\"http://www.w3.org/2000/svg\" height=\"24px\" viewBox=\"0 -960 960 960\">\n",
              "    <path d=\"M120-120v-720h720v720H120Zm60-500h600v-160H180v160Zm220 220h160v-160H400v160Zm0 220h160v-160H400v160ZM180-400h160v-160H180v160Zm440 0h160v-160H620v160ZM180-180h160v-160H180v160Zm440 0h160v-160H620v160Z\"/>\n",
              "  </svg>\n",
              "    </button>\n",
              "\n",
              "  <style>\n",
              "    .colab-df-container {\n",
              "      display:flex;\n",
              "      gap: 12px;\n",
              "    }\n",
              "\n",
              "    .colab-df-convert {\n",
              "      background-color: #E8F0FE;\n",
              "      border: none;\n",
              "      border-radius: 50%;\n",
              "      cursor: pointer;\n",
              "      display: none;\n",
              "      fill: #1967D2;\n",
              "      height: 32px;\n",
              "      padding: 0 0 0 0;\n",
              "      width: 32px;\n",
              "    }\n",
              "\n",
              "    .colab-df-convert:hover {\n",
              "      background-color: #E2EBFA;\n",
              "      box-shadow: 0px 1px 2px rgba(60, 64, 67, 0.3), 0px 1px 3px 1px rgba(60, 64, 67, 0.15);\n",
              "      fill: #174EA6;\n",
              "    }\n",
              "\n",
              "    .colab-df-buttons div {\n",
              "      margin-bottom: 4px;\n",
              "    }\n",
              "\n",
              "    [theme=dark] .colab-df-convert {\n",
              "      background-color: #3B4455;\n",
              "      fill: #D2E3FC;\n",
              "    }\n",
              "\n",
              "    [theme=dark] .colab-df-convert:hover {\n",
              "      background-color: #434B5C;\n",
              "      box-shadow: 0px 1px 3px 1px rgba(0, 0, 0, 0.15);\n",
              "      filter: drop-shadow(0px 1px 2px rgba(0, 0, 0, 0.3));\n",
              "      fill: #FFFFFF;\n",
              "    }\n",
              "  </style>\n",
              "\n",
              "    <script>\n",
              "      const buttonEl =\n",
              "        document.querySelector('#df-6966309b-9dcc-4282-84a3-3f9f4f741e83 button.colab-df-convert');\n",
              "      buttonEl.style.display =\n",
              "        google.colab.kernel.accessAllowed ? 'block' : 'none';\n",
              "\n",
              "      async function convertToInteractive(key) {\n",
              "        const element = document.querySelector('#df-6966309b-9dcc-4282-84a3-3f9f4f741e83');\n",
              "        const dataTable =\n",
              "          await google.colab.kernel.invokeFunction('convertToInteractive',\n",
              "                                                    [key], {});\n",
              "        if (!dataTable) return;\n",
              "\n",
              "        const docLinkHtml = 'Like what you see? Visit the ' +\n",
              "          '<a target=\"_blank\" href=https://colab.research.google.com/notebooks/data_table.ipynb>data table notebook</a>'\n",
              "          + ' to learn more about interactive tables.';\n",
              "        element.innerHTML = '';\n",
              "        dataTable['output_type'] = 'display_data';\n",
              "        await google.colab.output.renderOutput(dataTable, element);\n",
              "        const docLink = document.createElement('div');\n",
              "        docLink.innerHTML = docLinkHtml;\n",
              "        element.appendChild(docLink);\n",
              "      }\n",
              "    </script>\n",
              "  </div>\n",
              "\n",
              "    </div>\n",
              "  </div>\n"
            ]
          },
          "metadata": {},
          "execution_count": 13
        }
      ],
      "source": [
        "data_1.head(1)"
      ]
    },
    {
      "cell_type": "code",
      "execution_count": null,
      "metadata": {
        "colab": {
          "base_uri": "https://localhost:8080/"
        },
        "id": "OKno15Qmd40v",
        "outputId": "fa5828d4-66dd-4682-f41c-c24e8cbe00d6"
      },
      "outputs": [
        {
          "output_type": "execute_result",
          "data": {
            "text/plain": [
              "item_date         1\n",
              "quantity tons     0\n",
              "customer          1\n",
              "country          28\n",
              "status            2\n",
              "item type         0\n",
              "application      24\n",
              "thickness         1\n",
              "width             0\n",
              "material_ref      0\n",
              "product_ref       1\n",
              "delivery date     2\n",
              "selling_price     2\n",
              "dtype: int64"
            ]
          },
          "metadata": {},
          "execution_count": 14
        }
      ],
      "source": [
        "data_1.isnull().sum()"
      ]
    },
    {
      "cell_type": "code",
      "execution_count": null,
      "metadata": {
        "id": "iGepnZvBdr5x"
      },
      "outputs": [],
      "source": [
        "# filling the missing values using statistical techniques\n",
        "data_1 = data_1.fillna({'item_date': st.mode(data_1['item_date']),\n",
        "                'delivery date': st.mode(data_1['delivery date']),\n",
        "                'customer': data_1['customer'].mean(),\n",
        "                'country': data_1['country'].mean(),\n",
        "                'application': data_1['application'].mean(),\n",
        "                'selling_price': data_1['selling_price'].mean(),\n",
        "                'thickness': data_1['thickness'].median()})"
      ]
    },
    {
      "cell_type": "code",
      "execution_count": null,
      "metadata": {
        "id": "eFTSG4GZeH_u"
      },
      "outputs": [],
      "source": [
        "data_1['status'].fillna(data_1['status'].mode()[0], inplace = True)"
      ]
    },
    {
      "cell_type": "code",
      "execution_count": null,
      "metadata": {
        "colab": {
          "base_uri": "https://localhost:8080/"
        },
        "id": "8heFKwaaeBgO",
        "outputId": "a1a820ff-5553-47db-d3a0-89ddbc1f4ca9"
      },
      "outputs": [
        {
          "output_type": "execute_result",
          "data": {
            "text/plain": [
              "item_date        0\n",
              "quantity tons    0\n",
              "customer         0\n",
              "country          0\n",
              "status           0\n",
              "item type        0\n",
              "application      0\n",
              "thickness        0\n",
              "width            0\n",
              "material_ref     0\n",
              "product_ref      1\n",
              "delivery date    0\n",
              "selling_price    0\n",
              "dtype: int64"
            ]
          },
          "metadata": {},
          "execution_count": 17
        }
      ],
      "source": [
        "data_1.isnull().sum()"
      ]
    },
    {
      "cell_type": "code",
      "execution_count": null,
      "metadata": {
        "colab": {
          "base_uri": "https://localhost:8080/"
        },
        "id": "LPLFGV6MeSMS",
        "outputId": "094b46d0-76fc-41b3-b6c5-5a6a6f536a51"
      },
      "outputs": [
        {
          "output_type": "stream",
          "name": "stdout",
          "text": [
            "<class 'pandas.core.frame.DataFrame'>\n",
            "RangeIndex: 176451 entries, 0 to 176450\n",
            "Data columns (total 13 columns):\n",
            " #   Column         Non-Null Count   Dtype  \n",
            "---  ------         --------------   -----  \n",
            " 0   item_date      176451 non-null  float64\n",
            " 1   quantity tons  176451 non-null  object \n",
            " 2   customer       176451 non-null  float64\n",
            " 3   country        176451 non-null  float64\n",
            " 4   status         176451 non-null  object \n",
            " 5   item type      176451 non-null  object \n",
            " 6   application    176451 non-null  float64\n",
            " 7   thickness      176451 non-null  float64\n",
            " 8   width          176451 non-null  float64\n",
            " 9   material_ref   176451 non-null  object \n",
            " 10  product_ref    176450 non-null  float64\n",
            " 11  delivery date  176451 non-null  float64\n",
            " 12  selling_price  176451 non-null  float64\n",
            "dtypes: float64(9), object(4)\n",
            "memory usage: 17.5+ MB\n"
          ]
        }
      ],
      "source": [
        "data_1.info()"
      ]
    },
    {
      "cell_type": "code",
      "execution_count": null,
      "metadata": {
        "id": "MZvJ4z5kegR5"
      },
      "outputs": [],
      "source": [
        "#converting quantity value to numeric float type\n",
        "#data_1['item_date'] = pd.to_datetime(data_1['item_date'])\n",
        "#data_1['delivery date'] = pd.to_datetime(data_1['delivery date'])\n",
        "#data_1['quantity tons'] = pd.to_numeric(data_1['quantity tons'], errors='coerce')"
      ]
    },
    {
      "cell_type": "code",
      "execution_count": null,
      "metadata": {
        "id": "hP6Tvnt1K0tf"
      },
      "outputs": [],
      "source": [
        "# dealing with data in wrong format\n",
        "# for categorical variables, this step is ignored\n",
        "# df = df[df['status'].isin(['Won', 'Lost'])]\n",
        "data_1['item_date'] = pd.to_datetime(data_1['item_date'], format='%Y%m%d', errors='coerce').dt.date\n",
        "data_1['quantity tons'] = pd.to_numeric(data_1['quantity tons'], errors='coerce')\n",
        "data_1['customer'] = pd.to_numeric(data_1['customer'], errors='coerce')\n",
        "data_1['country'] = pd.to_numeric(data_1['country'], errors='coerce')\n",
        "data_1['application'] = pd.to_numeric(data_1['application'], errors='coerce')\n",
        "data_1['thickness'] = pd.to_numeric(data_1['thickness'], errors='coerce')\n",
        "data_1['width'] = pd.to_numeric(data_1['width'], errors='coerce')\n",
        "data_1['product_ref'] = pd.to_numeric(data_1['product_ref'], errors='coerce')\n",
        "data_1['delivery date'] = pd.to_datetime(data_1['delivery date'], format='%Y%m%d', errors='coerce').dt.date\n",
        "data_1['selling_price'] = pd.to_numeric(data_1['selling_price'], errors='coerce')"
      ]
    },
    {
      "cell_type": "code",
      "execution_count": null,
      "metadata": {
        "colab": {
          "base_uri": "https://localhost:8080/"
        },
        "id": "yphO4Ev_em2k",
        "outputId": "a95de97b-01e1-4b87-90b3-c8201417d836"
      },
      "outputs": [
        {
          "output_type": "stream",
          "name": "stdout",
          "text": [
            "<class 'pandas.core.frame.DataFrame'>\n",
            "RangeIndex: 176451 entries, 0 to 176450\n",
            "Data columns (total 13 columns):\n",
            " #   Column         Non-Null Count   Dtype  \n",
            "---  ------         --------------   -----  \n",
            " 0   item_date      176449 non-null  object \n",
            " 1   quantity tons  176450 non-null  float64\n",
            " 2   customer       176451 non-null  float64\n",
            " 3   country        176451 non-null  float64\n",
            " 4   status         176451 non-null  object \n",
            " 5   item type      176451 non-null  object \n",
            " 6   application    176451 non-null  float64\n",
            " 7   thickness      176451 non-null  float64\n",
            " 8   width          176451 non-null  float64\n",
            " 9   material_ref   176451 non-null  object \n",
            " 10  product_ref    176450 non-null  float64\n",
            " 11  delivery date  176449 non-null  object \n",
            " 12  selling_price  176451 non-null  float64\n",
            "dtypes: float64(8), object(5)\n",
            "memory usage: 17.5+ MB\n"
          ]
        }
      ],
      "source": [
        "data_1.info()"
      ]
    },
    {
      "cell_type": "code",
      "execution_count": null,
      "metadata": {
        "colab": {
          "base_uri": "https://localhost:8080/"
        },
        "id": "wey0egfsezfh",
        "outputId": "1cd80e07-3f8b-4f06-d96f-d1035d585a7f"
      },
      "outputs": [
        {
          "output_type": "execute_result",
          "data": {
            "text/plain": [
              "54.151139    1\n",
              "12.202590    1\n",
              "12.769324    1\n",
              "26.798462    1\n",
              "33.830052    1\n",
              "            ..\n",
              "16.151161    1\n",
              "13.413305    1\n",
              "10.011271    1\n",
              "14.526247    1\n",
              "48.336010    1\n",
              "Name: quantity tons, Length: 176450, dtype: int64"
            ]
          },
          "metadata": {},
          "execution_count": 22
        }
      ],
      "source": [
        "data_1['quantity tons'].value_counts()"
      ]
    },
    {
      "cell_type": "code",
      "execution_count": null,
      "metadata": {
        "colab": {
          "base_uri": "https://localhost:8080/"
        },
        "id": "lselKCp4fI8K",
        "outputId": "f0e28ee8-9a4c-43c3-a473-b9d436ca5406"
      },
      "outputs": [
        {
          "output_type": "execute_result",
          "data": {
            "text/plain": [
              "30157111.0    4876\n",
              "30161088.0    3474\n",
              "30201846.0    3133\n",
              "30165529.0    2728\n",
              "30202938.0    2548\n",
              "              ... \n",
              "30147616.0       1\n",
              "30357481.0       1\n",
              "30340816.0       1\n",
              "30271291.0       1\n",
              "30406633.0       1\n",
              "Name: customer, Length: 1159, dtype: int64"
            ]
          },
          "metadata": {},
          "execution_count": 23
        }
      ],
      "source": [
        "data_1['customer'].value_counts()"
      ]
    },
    {
      "cell_type": "code",
      "execution_count": null,
      "metadata": {
        "colab": {
          "base_uri": "https://localhost:8080/"
        },
        "id": "PAYZOs6ofTtf",
        "outputId": "a8a8e9b4-807f-4744-993c-6ae5a262850c"
      },
      "outputs": [
        {
          "output_type": "execute_result",
          "data": {
            "text/plain": [
              "78.000000     30880\n",
              "26.000000     26918\n",
              "25.000000     22332\n",
              "27.000000     21149\n",
              "32.000000     18012\n",
              "28.000000     15603\n",
              "84.000000     12491\n",
              "77.000000      9622\n",
              "30.000000      8088\n",
              "39.000000      3690\n",
              "79.000000      2702\n",
              "38.000000      1687\n",
              "40.000000      1636\n",
              "80.000000       804\n",
              "113.000000      714\n",
              "89.000000        90\n",
              "44.916695        28\n",
              "107.000000        5\n",
              "Name: country, dtype: int64"
            ]
          },
          "metadata": {},
          "execution_count": 24
        }
      ],
      "source": [
        "data_1['country'].value_counts()"
      ]
    },
    {
      "cell_type": "code",
      "execution_count": null,
      "metadata": {
        "colab": {
          "base_uri": "https://localhost:8080/"
        },
        "id": "qg2sqATAfhCG",
        "outputId": "a573a13e-9233-4a60-c486-6473d517884a"
      },
      "outputs": [
        {
          "output_type": "execute_result",
          "data": {
            "text/plain": [
              "Won                112011\n",
              "Lost                33660\n",
              "Not lost for AM     19234\n",
              "Revised              4195\n",
              "To be approved       4160\n",
              "Draft                3127\n",
              "Offered                53\n",
              "Offerable              10\n",
              "Wonderful               1\n",
              "Name: status, dtype: int64"
            ]
          },
          "metadata": {},
          "execution_count": 25
        }
      ],
      "source": [
        "data_1['status'].value_counts()"
      ]
    },
    {
      "cell_type": "code",
      "execution_count": null,
      "metadata": {
        "colab": {
          "base_uri": "https://localhost:8080/"
        },
        "id": "GtJSPpqFgN1U",
        "outputId": "68e86323-bb87-4c6a-8c20-55c32a3413fc"
      },
      "outputs": [
        {
          "output_type": "execute_result",
          "data": {
            "text/plain": [
              "W         101966\n",
              "S          67749\n",
              "PL          5586\n",
              "Others       610\n",
              "WI           512\n",
              "IPL           27\n",
              "SLAWR          1\n",
              "Name: item type, dtype: int64"
            ]
          },
          "metadata": {},
          "execution_count": 26
        }
      ],
      "source": [
        "data_1['item type'].value_counts()"
      ]
    },
    {
      "cell_type": "code",
      "execution_count": null,
      "metadata": {
        "colab": {
          "base_uri": "https://localhost:8080/"
        },
        "id": "Ccu0XoXCgVMb",
        "outputId": "e03ce5e7-bfff-44d9-fb00-74e07b5b17ac"
      },
      "outputs": [
        {
          "output_type": "execute_result",
          "data": {
            "text/plain": [
              "10.00000    75319\n",
              "41.00000    44448\n",
              "15.00000    20344\n",
              "59.00000     8729\n",
              "42.00000     5745\n",
              "56.00000     4690\n",
              "29.00000     1886\n",
              "27.00000     1748\n",
              "26.00000     1609\n",
              "28.00000     1590\n",
              "40.00000     1559\n",
              "25.00000     1467\n",
              "79.00000     1420\n",
              "22.00000     1017\n",
              "20.00000      759\n",
              "66.00000      661\n",
              "3.00000       635\n",
              "38.00000      505\n",
              "58.00000      444\n",
              "4.00000       286\n",
              "39.00000      267\n",
              "65.00000      246\n",
              "67.00000      219\n",
              "68.00000      181\n",
              "19.00000      143\n",
              "99.00000      142\n",
              "69.00000      122\n",
              "5.00000       110\n",
              "70.00000      102\n",
              "2.00000        34\n",
              "25.58919       24\n",
              "Name: application, dtype: int64"
            ]
          },
          "metadata": {},
          "execution_count": 27
        }
      ],
      "source": [
        "data_1['application'].value_counts()"
      ]
    },
    {
      "cell_type": "code",
      "execution_count": null,
      "metadata": {
        "colab": {
          "base_uri": "https://localhost:8080/"
        },
        "id": "duznSfJCgWPc",
        "outputId": "4ba2eae5-e4d1-47dd-ea90-905dac799339"
      },
      "outputs": [
        {
          "output_type": "execute_result",
          "data": {
            "text/plain": [
              "2.00      13074\n",
              "3.00      12872\n",
              "0.50      12024\n",
              "1.50      11457\n",
              "1.00       9261\n",
              "          ...  \n",
              "400.00        1\n",
              "7.55          1\n",
              "7.06          1\n",
              "9.39          1\n",
              "2.29          1\n",
              "Name: thickness, Length: 590, dtype: int64"
            ]
          },
          "metadata": {},
          "execution_count": 28
        }
      ],
      "source": [
        "data_1['thickness'].value_counts()"
      ]
    },
    {
      "cell_type": "code",
      "execution_count": null,
      "metadata": {
        "colab": {
          "base_uri": "https://localhost:8080/"
        },
        "id": "f55GZLqugW-Q",
        "outputId": "5929262e-fec2-43b1-f5a6-bc2c030af621"
      },
      "outputs": [
        {
          "output_type": "execute_result",
          "data": {
            "text/plain": [
              "1250.0    38248\n",
              "1500.0    31846\n",
              "1000.0    11948\n",
              "2000.0     7452\n",
              "1220.0     4299\n",
              "          ...  \n",
              "778.0         1\n",
              "1.0           1\n",
              "687.0         1\n",
              "1921.0        1\n",
              "1633.0        1\n",
              "Name: width, Length: 1383, dtype: int64"
            ]
          },
          "metadata": {},
          "execution_count": 29
        }
      ],
      "source": [
        "data_1['width'].value_counts()"
      ]
    },
    {
      "cell_type": "code",
      "execution_count": null,
      "metadata": {
        "colab": {
          "base_uri": "https://localhost:8080/"
        },
        "id": "2f8rWClngyhv",
        "outputId": "d10b4d71-afb2-4479-e9ae-dcb3d1f2393c"
      },
      "outputs": [
        {
          "output_type": "execute_result",
          "data": {
            "text/plain": [
              "6.119930e+05    44214\n",
              "1.641416e+08    27627\n",
              "6.406650e+05    26708\n",
              "1.670799e+09    18422\n",
              "6.283770e+05    18185\n",
              "1.668702e+09    14949\n",
              "6.404050e+05     9383\n",
              "1.671864e+09     5086\n",
              "1.332077e+09     4399\n",
              "1.693868e+09     1796\n",
              "1.668701e+09     1195\n",
              "1.671876e+09      822\n",
              "6.281170e+05      765\n",
              "1.643372e+08      649\n",
              "1.668702e+09      359\n",
              "1.693868e+09      290\n",
              "1.282008e+09      281\n",
              "1.721130e+09      251\n",
              "1.665572e+09      198\n",
              "6.281120e+05      176\n",
              "6.117280e+05      148\n",
              "1.690738e+09      146\n",
              "1.722208e+09      125\n",
              "6.404000e+05       83\n",
              "1.668702e+09       54\n",
              "1.643364e+08       49\n",
              "6.117330e+05       45\n",
              "1.690738e+09       19\n",
              "1.665584e+09       12\n",
              "1.665572e+09       10\n",
              "1.665585e+09        2\n",
              "9.294238e+08        1\n",
              "1.665585e+09        1\n",
              "Name: product_ref, dtype: int64"
            ]
          },
          "metadata": {},
          "execution_count": 30
        }
      ],
      "source": [
        "data_1['product_ref'].value_counts()"
      ]
    },
    {
      "cell_type": "code",
      "execution_count": null,
      "metadata": {
        "colab": {
          "base_uri": "https://localhost:8080/",
          "height": 634
        },
        "id": "7RorZ5GBhFOE",
        "outputId": "246fe6e3-cace-403c-c71d-8570e925977a"
      },
      "outputs": [
        {
          "output_type": "execute_result",
          "data": {
            "text/plain": [
              "         item_date  quantity tons    customer  country          status  \\\n",
              "0       2021-04-01      54.151139  30156308.0     28.0             Won   \n",
              "1       2021-04-01     768.024839  30202938.0     25.0             Won   \n",
              "2       2021-04-01     386.127949  30153963.0     30.0             Won   \n",
              "3       2021-04-01     202.411065  30349574.0     32.0             Won   \n",
              "4       2021-04-01     785.526262  30211560.0     28.0             Won   \n",
              "...            ...            ...         ...      ...             ...   \n",
              "176446  2020-07-08      48.579643  30205078.0     26.0  To be approved   \n",
              "176447  2020-07-08    3022.304001  30336279.0     78.0             Won   \n",
              "176448  2020-07-08       4.568723  30231432.0     78.0             Won   \n",
              "176449  2020-07-08       3.004949  30213686.0     78.0             Won   \n",
              "176450  2020-07-08      48.336010  30205078.0     26.0  To be approved   \n",
              "\n",
              "       item type  application  thickness   width  \\\n",
              "0              W         10.0       2.00  1500.0   \n",
              "1              W         41.0       0.80  1210.0   \n",
              "2             WI         28.0       0.38   952.0   \n",
              "3              S         59.0       2.30  1317.0   \n",
              "4              W         10.0       4.00  2000.0   \n",
              "...          ...          ...        ...     ...   \n",
              "176446         S         10.0       2.90  1780.0   \n",
              "176447         W         59.0       2.00  1035.0   \n",
              "176448         W         41.0       0.50  1250.0   \n",
              "176449         W         10.0      10.00  1000.0   \n",
              "176450         S         10.0       2.90  1500.0   \n",
              "\n",
              "                                    material_ref   product_ref delivery date  \\\n",
              "0                                    DEQ1 S460MC  1.670799e+09    2021-07-01   \n",
              "1       0000000000000000000000000000000000104991  1.668702e+09    2021-04-01   \n",
              "2                                       S0380700  6.283770e+05    2021-01-01   \n",
              "3                        DX51D+ZM310MAO 2.3X1317  1.668702e+09    2021-01-01   \n",
              "4                                2_S275JR+AR-CL1  6.406650e+05    2021-03-01   \n",
              "...                                          ...           ...           ...   \n",
              "176446  0000000000000000000000000000000701000100  1.641416e+08    2020-08-01   \n",
              "176447                                   unknown  6.406650e+05    2020-07-01   \n",
              "176448                                     QBR03  6.119930e+05    2020-07-01   \n",
              "176449                              S355J2+N-CL1  6.406650e+05    2020-08-01   \n",
              "176450                                         0           NaN    2021-01-01   \n",
              "\n",
              "        selling_price  \n",
              "0          854.000000  \n",
              "1         1047.000000  \n",
              "2          644.330000  \n",
              "3          768.000000  \n",
              "4          577.000000  \n",
              "...               ...  \n",
              "176446     623.000000  \n",
              "176447     535.000000  \n",
              "176448     974.000000  \n",
              "176449     490.000000  \n",
              "176450    1955.154778  \n",
              "\n",
              "[176451 rows x 13 columns]"
            ],
            "text/html": [
              "\n",
              "  <div id=\"df-2eed009d-676b-4c23-971b-8d0a024a4f2b\" class=\"colab-df-container\">\n",
              "    <div>\n",
              "<style scoped>\n",
              "    .dataframe tbody tr th:only-of-type {\n",
              "        vertical-align: middle;\n",
              "    }\n",
              "\n",
              "    .dataframe tbody tr th {\n",
              "        vertical-align: top;\n",
              "    }\n",
              "\n",
              "    .dataframe thead th {\n",
              "        text-align: right;\n",
              "    }\n",
              "</style>\n",
              "<table border=\"1\" class=\"dataframe\">\n",
              "  <thead>\n",
              "    <tr style=\"text-align: right;\">\n",
              "      <th></th>\n",
              "      <th>item_date</th>\n",
              "      <th>quantity tons</th>\n",
              "      <th>customer</th>\n",
              "      <th>country</th>\n",
              "      <th>status</th>\n",
              "      <th>item type</th>\n",
              "      <th>application</th>\n",
              "      <th>thickness</th>\n",
              "      <th>width</th>\n",
              "      <th>material_ref</th>\n",
              "      <th>product_ref</th>\n",
              "      <th>delivery date</th>\n",
              "      <th>selling_price</th>\n",
              "    </tr>\n",
              "  </thead>\n",
              "  <tbody>\n",
              "    <tr>\n",
              "      <th>0</th>\n",
              "      <td>2021-04-01</td>\n",
              "      <td>54.151139</td>\n",
              "      <td>30156308.0</td>\n",
              "      <td>28.0</td>\n",
              "      <td>Won</td>\n",
              "      <td>W</td>\n",
              "      <td>10.0</td>\n",
              "      <td>2.00</td>\n",
              "      <td>1500.0</td>\n",
              "      <td>DEQ1 S460MC</td>\n",
              "      <td>1.670799e+09</td>\n",
              "      <td>2021-07-01</td>\n",
              "      <td>854.000000</td>\n",
              "    </tr>\n",
              "    <tr>\n",
              "      <th>1</th>\n",
              "      <td>2021-04-01</td>\n",
              "      <td>768.024839</td>\n",
              "      <td>30202938.0</td>\n",
              "      <td>25.0</td>\n",
              "      <td>Won</td>\n",
              "      <td>W</td>\n",
              "      <td>41.0</td>\n",
              "      <td>0.80</td>\n",
              "      <td>1210.0</td>\n",
              "      <td>0000000000000000000000000000000000104991</td>\n",
              "      <td>1.668702e+09</td>\n",
              "      <td>2021-04-01</td>\n",
              "      <td>1047.000000</td>\n",
              "    </tr>\n",
              "    <tr>\n",
              "      <th>2</th>\n",
              "      <td>2021-04-01</td>\n",
              "      <td>386.127949</td>\n",
              "      <td>30153963.0</td>\n",
              "      <td>30.0</td>\n",
              "      <td>Won</td>\n",
              "      <td>WI</td>\n",
              "      <td>28.0</td>\n",
              "      <td>0.38</td>\n",
              "      <td>952.0</td>\n",
              "      <td>S0380700</td>\n",
              "      <td>6.283770e+05</td>\n",
              "      <td>2021-01-01</td>\n",
              "      <td>644.330000</td>\n",
              "    </tr>\n",
              "    <tr>\n",
              "      <th>3</th>\n",
              "      <td>2021-04-01</td>\n",
              "      <td>202.411065</td>\n",
              "      <td>30349574.0</td>\n",
              "      <td>32.0</td>\n",
              "      <td>Won</td>\n",
              "      <td>S</td>\n",
              "      <td>59.0</td>\n",
              "      <td>2.30</td>\n",
              "      <td>1317.0</td>\n",
              "      <td>DX51D+ZM310MAO 2.3X1317</td>\n",
              "      <td>1.668702e+09</td>\n",
              "      <td>2021-01-01</td>\n",
              "      <td>768.000000</td>\n",
              "    </tr>\n",
              "    <tr>\n",
              "      <th>4</th>\n",
              "      <td>2021-04-01</td>\n",
              "      <td>785.526262</td>\n",
              "      <td>30211560.0</td>\n",
              "      <td>28.0</td>\n",
              "      <td>Won</td>\n",
              "      <td>W</td>\n",
              "      <td>10.0</td>\n",
              "      <td>4.00</td>\n",
              "      <td>2000.0</td>\n",
              "      <td>2_S275JR+AR-CL1</td>\n",
              "      <td>6.406650e+05</td>\n",
              "      <td>2021-03-01</td>\n",
              "      <td>577.000000</td>\n",
              "    </tr>\n",
              "    <tr>\n",
              "      <th>...</th>\n",
              "      <td>...</td>\n",
              "      <td>...</td>\n",
              "      <td>...</td>\n",
              "      <td>...</td>\n",
              "      <td>...</td>\n",
              "      <td>...</td>\n",
              "      <td>...</td>\n",
              "      <td>...</td>\n",
              "      <td>...</td>\n",
              "      <td>...</td>\n",
              "      <td>...</td>\n",
              "      <td>...</td>\n",
              "      <td>...</td>\n",
              "    </tr>\n",
              "    <tr>\n",
              "      <th>176446</th>\n",
              "      <td>2020-07-08</td>\n",
              "      <td>48.579643</td>\n",
              "      <td>30205078.0</td>\n",
              "      <td>26.0</td>\n",
              "      <td>To be approved</td>\n",
              "      <td>S</td>\n",
              "      <td>10.0</td>\n",
              "      <td>2.90</td>\n",
              "      <td>1780.0</td>\n",
              "      <td>0000000000000000000000000000000701000100</td>\n",
              "      <td>1.641416e+08</td>\n",
              "      <td>2020-08-01</td>\n",
              "      <td>623.000000</td>\n",
              "    </tr>\n",
              "    <tr>\n",
              "      <th>176447</th>\n",
              "      <td>2020-07-08</td>\n",
              "      <td>3022.304001</td>\n",
              "      <td>30336279.0</td>\n",
              "      <td>78.0</td>\n",
              "      <td>Won</td>\n",
              "      <td>W</td>\n",
              "      <td>59.0</td>\n",
              "      <td>2.00</td>\n",
              "      <td>1035.0</td>\n",
              "      <td>unknown</td>\n",
              "      <td>6.406650e+05</td>\n",
              "      <td>2020-07-01</td>\n",
              "      <td>535.000000</td>\n",
              "    </tr>\n",
              "    <tr>\n",
              "      <th>176448</th>\n",
              "      <td>2020-07-08</td>\n",
              "      <td>4.568723</td>\n",
              "      <td>30231432.0</td>\n",
              "      <td>78.0</td>\n",
              "      <td>Won</td>\n",
              "      <td>W</td>\n",
              "      <td>41.0</td>\n",
              "      <td>0.50</td>\n",
              "      <td>1250.0</td>\n",
              "      <td>QBR03</td>\n",
              "      <td>6.119930e+05</td>\n",
              "      <td>2020-07-01</td>\n",
              "      <td>974.000000</td>\n",
              "    </tr>\n",
              "    <tr>\n",
              "      <th>176449</th>\n",
              "      <td>2020-07-08</td>\n",
              "      <td>3.004949</td>\n",
              "      <td>30213686.0</td>\n",
              "      <td>78.0</td>\n",
              "      <td>Won</td>\n",
              "      <td>W</td>\n",
              "      <td>10.0</td>\n",
              "      <td>10.00</td>\n",
              "      <td>1000.0</td>\n",
              "      <td>S355J2+N-CL1</td>\n",
              "      <td>6.406650e+05</td>\n",
              "      <td>2020-08-01</td>\n",
              "      <td>490.000000</td>\n",
              "    </tr>\n",
              "    <tr>\n",
              "      <th>176450</th>\n",
              "      <td>2020-07-08</td>\n",
              "      <td>48.336010</td>\n",
              "      <td>30205078.0</td>\n",
              "      <td>26.0</td>\n",
              "      <td>To be approved</td>\n",
              "      <td>S</td>\n",
              "      <td>10.0</td>\n",
              "      <td>2.90</td>\n",
              "      <td>1500.0</td>\n",
              "      <td>0</td>\n",
              "      <td>NaN</td>\n",
              "      <td>2021-01-01</td>\n",
              "      <td>1955.154778</td>\n",
              "    </tr>\n",
              "  </tbody>\n",
              "</table>\n",
              "<p>176451 rows × 13 columns</p>\n",
              "</div>\n",
              "    <div class=\"colab-df-buttons\">\n",
              "\n",
              "  <div class=\"colab-df-container\">\n",
              "    <button class=\"colab-df-convert\" onclick=\"convertToInteractive('df-2eed009d-676b-4c23-971b-8d0a024a4f2b')\"\n",
              "            title=\"Convert this dataframe to an interactive table.\"\n",
              "            style=\"display:none;\">\n",
              "\n",
              "  <svg xmlns=\"http://www.w3.org/2000/svg\" height=\"24px\" viewBox=\"0 -960 960 960\">\n",
              "    <path d=\"M120-120v-720h720v720H120Zm60-500h600v-160H180v160Zm220 220h160v-160H400v160Zm0 220h160v-160H400v160ZM180-400h160v-160H180v160Zm440 0h160v-160H620v160ZM180-180h160v-160H180v160Zm440 0h160v-160H620v160Z\"/>\n",
              "  </svg>\n",
              "    </button>\n",
              "\n",
              "  <style>\n",
              "    .colab-df-container {\n",
              "      display:flex;\n",
              "      gap: 12px;\n",
              "    }\n",
              "\n",
              "    .colab-df-convert {\n",
              "      background-color: #E8F0FE;\n",
              "      border: none;\n",
              "      border-radius: 50%;\n",
              "      cursor: pointer;\n",
              "      display: none;\n",
              "      fill: #1967D2;\n",
              "      height: 32px;\n",
              "      padding: 0 0 0 0;\n",
              "      width: 32px;\n",
              "    }\n",
              "\n",
              "    .colab-df-convert:hover {\n",
              "      background-color: #E2EBFA;\n",
              "      box-shadow: 0px 1px 2px rgba(60, 64, 67, 0.3), 0px 1px 3px 1px rgba(60, 64, 67, 0.15);\n",
              "      fill: #174EA6;\n",
              "    }\n",
              "\n",
              "    .colab-df-buttons div {\n",
              "      margin-bottom: 4px;\n",
              "    }\n",
              "\n",
              "    [theme=dark] .colab-df-convert {\n",
              "      background-color: #3B4455;\n",
              "      fill: #D2E3FC;\n",
              "    }\n",
              "\n",
              "    [theme=dark] .colab-df-convert:hover {\n",
              "      background-color: #434B5C;\n",
              "      box-shadow: 0px 1px 3px 1px rgba(0, 0, 0, 0.15);\n",
              "      filter: drop-shadow(0px 1px 2px rgba(0, 0, 0, 0.3));\n",
              "      fill: #FFFFFF;\n",
              "    }\n",
              "  </style>\n",
              "\n",
              "    <script>\n",
              "      const buttonEl =\n",
              "        document.querySelector('#df-2eed009d-676b-4c23-971b-8d0a024a4f2b button.colab-df-convert');\n",
              "      buttonEl.style.display =\n",
              "        google.colab.kernel.accessAllowed ? 'block' : 'none';\n",
              "\n",
              "      async function convertToInteractive(key) {\n",
              "        const element = document.querySelector('#df-2eed009d-676b-4c23-971b-8d0a024a4f2b');\n",
              "        const dataTable =\n",
              "          await google.colab.kernel.invokeFunction('convertToInteractive',\n",
              "                                                    [key], {});\n",
              "        if (!dataTable) return;\n",
              "\n",
              "        const docLinkHtml = 'Like what you see? Visit the ' +\n",
              "          '<a target=\"_blank\" href=https://colab.research.google.com/notebooks/data_table.ipynb>data table notebook</a>'\n",
              "          + ' to learn more about interactive tables.';\n",
              "        element.innerHTML = '';\n",
              "        dataTable['output_type'] = 'display_data';\n",
              "        await google.colab.output.renderOutput(dataTable, element);\n",
              "        const docLink = document.createElement('div');\n",
              "        docLink.innerHTML = docLinkHtml;\n",
              "        element.appendChild(docLink);\n",
              "      }\n",
              "    </script>\n",
              "  </div>\n",
              "\n",
              "\n",
              "<div id=\"df-cef07cfa-e781-4446-93fe-f9b565bdf61b\">\n",
              "  <button class=\"colab-df-quickchart\" onclick=\"quickchart('df-cef07cfa-e781-4446-93fe-f9b565bdf61b')\"\n",
              "            title=\"Suggest charts.\"\n",
              "            style=\"display:none;\">\n",
              "\n",
              "<svg xmlns=\"http://www.w3.org/2000/svg\" height=\"24px\"viewBox=\"0 0 24 24\"\n",
              "     width=\"24px\">\n",
              "    <g>\n",
              "        <path d=\"M19 3H5c-1.1 0-2 .9-2 2v14c0 1.1.9 2 2 2h14c1.1 0 2-.9 2-2V5c0-1.1-.9-2-2-2zM9 17H7v-7h2v7zm4 0h-2V7h2v10zm4 0h-2v-4h2v4z\"/>\n",
              "    </g>\n",
              "</svg>\n",
              "  </button>\n",
              "\n",
              "<style>\n",
              "  .colab-df-quickchart {\n",
              "      --bg-color: #E8F0FE;\n",
              "      --fill-color: #1967D2;\n",
              "      --hover-bg-color: #E2EBFA;\n",
              "      --hover-fill-color: #174EA6;\n",
              "      --disabled-fill-color: #AAA;\n",
              "      --disabled-bg-color: #DDD;\n",
              "  }\n",
              "\n",
              "  [theme=dark] .colab-df-quickchart {\n",
              "      --bg-color: #3B4455;\n",
              "      --fill-color: #D2E3FC;\n",
              "      --hover-bg-color: #434B5C;\n",
              "      --hover-fill-color: #FFFFFF;\n",
              "      --disabled-bg-color: #3B4455;\n",
              "      --disabled-fill-color: #666;\n",
              "  }\n",
              "\n",
              "  .colab-df-quickchart {\n",
              "    background-color: var(--bg-color);\n",
              "    border: none;\n",
              "    border-radius: 50%;\n",
              "    cursor: pointer;\n",
              "    display: none;\n",
              "    fill: var(--fill-color);\n",
              "    height: 32px;\n",
              "    padding: 0;\n",
              "    width: 32px;\n",
              "  }\n",
              "\n",
              "  .colab-df-quickchart:hover {\n",
              "    background-color: var(--hover-bg-color);\n",
              "    box-shadow: 0 1px 2px rgba(60, 64, 67, 0.3), 0 1px 3px 1px rgba(60, 64, 67, 0.15);\n",
              "    fill: var(--button-hover-fill-color);\n",
              "  }\n",
              "\n",
              "  .colab-df-quickchart-complete:disabled,\n",
              "  .colab-df-quickchart-complete:disabled:hover {\n",
              "    background-color: var(--disabled-bg-color);\n",
              "    fill: var(--disabled-fill-color);\n",
              "    box-shadow: none;\n",
              "  }\n",
              "\n",
              "  .colab-df-spinner {\n",
              "    border: 2px solid var(--fill-color);\n",
              "    border-color: transparent;\n",
              "    border-bottom-color: var(--fill-color);\n",
              "    animation:\n",
              "      spin 1s steps(1) infinite;\n",
              "  }\n",
              "\n",
              "  @keyframes spin {\n",
              "    0% {\n",
              "      border-color: transparent;\n",
              "      border-bottom-color: var(--fill-color);\n",
              "      border-left-color: var(--fill-color);\n",
              "    }\n",
              "    20% {\n",
              "      border-color: transparent;\n",
              "      border-left-color: var(--fill-color);\n",
              "      border-top-color: var(--fill-color);\n",
              "    }\n",
              "    30% {\n",
              "      border-color: transparent;\n",
              "      border-left-color: var(--fill-color);\n",
              "      border-top-color: var(--fill-color);\n",
              "      border-right-color: var(--fill-color);\n",
              "    }\n",
              "    40% {\n",
              "      border-color: transparent;\n",
              "      border-right-color: var(--fill-color);\n",
              "      border-top-color: var(--fill-color);\n",
              "    }\n",
              "    60% {\n",
              "      border-color: transparent;\n",
              "      border-right-color: var(--fill-color);\n",
              "    }\n",
              "    80% {\n",
              "      border-color: transparent;\n",
              "      border-right-color: var(--fill-color);\n",
              "      border-bottom-color: var(--fill-color);\n",
              "    }\n",
              "    90% {\n",
              "      border-color: transparent;\n",
              "      border-bottom-color: var(--fill-color);\n",
              "    }\n",
              "  }\n",
              "</style>\n",
              "\n",
              "  <script>\n",
              "    async function quickchart(key) {\n",
              "      const quickchartButtonEl =\n",
              "        document.querySelector('#' + key + ' button');\n",
              "      quickchartButtonEl.disabled = true;  // To prevent multiple clicks.\n",
              "      quickchartButtonEl.classList.add('colab-df-spinner');\n",
              "      try {\n",
              "        const charts = await google.colab.kernel.invokeFunction(\n",
              "            'suggestCharts', [key], {});\n",
              "      } catch (error) {\n",
              "        console.error('Error during call to suggestCharts:', error);\n",
              "      }\n",
              "      quickchartButtonEl.classList.remove('colab-df-spinner');\n",
              "      quickchartButtonEl.classList.add('colab-df-quickchart-complete');\n",
              "    }\n",
              "    (() => {\n",
              "      let quickchartButtonEl =\n",
              "        document.querySelector('#df-cef07cfa-e781-4446-93fe-f9b565bdf61b button');\n",
              "      quickchartButtonEl.style.display =\n",
              "        google.colab.kernel.accessAllowed ? 'block' : 'none';\n",
              "    })();\n",
              "  </script>\n",
              "</div>\n",
              "    </div>\n",
              "  </div>\n"
            ]
          },
          "metadata": {},
          "execution_count": 31
        }
      ],
      "source": [
        "data_1.drop_duplicates()"
      ]
    },
    {
      "cell_type": "code",
      "execution_count": null,
      "metadata": {
        "colab": {
          "base_uri": "https://localhost:8080/",
          "height": 300
        },
        "id": "rwNhhN7PhJ-L",
        "outputId": "d392fe02-0d18-4775-b28e-114daa5c1d79"
      },
      "outputs": [
        {
          "output_type": "execute_result",
          "data": {
            "text/plain": [
              "       quantity tons      customer        country    application  \\\n",
              "count   1.764500e+05  1.764510e+05  176451.000000  176451.000000   \n",
              "mean    6.045826e+03  3.052049e+07      44.916695      25.589190   \n",
              "std     2.383588e+06  2.469115e+07      24.418916      17.766678   \n",
              "min    -4.000000e+00  1.245800e+04      25.000000       2.000000   \n",
              "25%     1.120539e+01  3.019688e+07      26.000000      10.000000   \n",
              "50%     3.040785e+01  3.020524e+07      30.000000      15.000000   \n",
              "75%     6.732497e+01  3.028042e+07      78.000000      41.000000   \n",
              "max     1.000000e+09  2.147484e+09     113.000000      99.000000   \n",
              "\n",
              "           thickness          width   product_ref  selling_price  \n",
              "count  176451.000000  176451.000000  1.764500e+05   1.764510e+05  \n",
              "mean        2.570234    1295.473026  4.763355e+08   1.955155e+03  \n",
              "std         6.652452     262.173577  7.190487e+08   3.366686e+05  \n",
              "min         0.180000       1.000000  6.117280e+05  -1.160000e+03  \n",
              "25%         0.700000    1179.000000  6.119930e+05   6.750000e+02  \n",
              "50%         1.500000    1250.000000  6.406650e+05   8.160000e+02  \n",
              "75%         3.000000    1500.000000  1.332077e+09   9.570000e+02  \n",
              "max      2500.000000    2990.000000  1.722208e+09   1.000010e+08  "
            ],
            "text/html": [
              "\n",
              "  <div id=\"df-a16d4aa8-bec8-49bc-8748-67d167105683\" class=\"colab-df-container\">\n",
              "    <div>\n",
              "<style scoped>\n",
              "    .dataframe tbody tr th:only-of-type {\n",
              "        vertical-align: middle;\n",
              "    }\n",
              "\n",
              "    .dataframe tbody tr th {\n",
              "        vertical-align: top;\n",
              "    }\n",
              "\n",
              "    .dataframe thead th {\n",
              "        text-align: right;\n",
              "    }\n",
              "</style>\n",
              "<table border=\"1\" class=\"dataframe\">\n",
              "  <thead>\n",
              "    <tr style=\"text-align: right;\">\n",
              "      <th></th>\n",
              "      <th>quantity tons</th>\n",
              "      <th>customer</th>\n",
              "      <th>country</th>\n",
              "      <th>application</th>\n",
              "      <th>thickness</th>\n",
              "      <th>width</th>\n",
              "      <th>product_ref</th>\n",
              "      <th>selling_price</th>\n",
              "    </tr>\n",
              "  </thead>\n",
              "  <tbody>\n",
              "    <tr>\n",
              "      <th>count</th>\n",
              "      <td>1.764500e+05</td>\n",
              "      <td>1.764510e+05</td>\n",
              "      <td>176451.000000</td>\n",
              "      <td>176451.000000</td>\n",
              "      <td>176451.000000</td>\n",
              "      <td>176451.000000</td>\n",
              "      <td>1.764500e+05</td>\n",
              "      <td>1.764510e+05</td>\n",
              "    </tr>\n",
              "    <tr>\n",
              "      <th>mean</th>\n",
              "      <td>6.045826e+03</td>\n",
              "      <td>3.052049e+07</td>\n",
              "      <td>44.916695</td>\n",
              "      <td>25.589190</td>\n",
              "      <td>2.570234</td>\n",
              "      <td>1295.473026</td>\n",
              "      <td>4.763355e+08</td>\n",
              "      <td>1.955155e+03</td>\n",
              "    </tr>\n",
              "    <tr>\n",
              "      <th>std</th>\n",
              "      <td>2.383588e+06</td>\n",
              "      <td>2.469115e+07</td>\n",
              "      <td>24.418916</td>\n",
              "      <td>17.766678</td>\n",
              "      <td>6.652452</td>\n",
              "      <td>262.173577</td>\n",
              "      <td>7.190487e+08</td>\n",
              "      <td>3.366686e+05</td>\n",
              "    </tr>\n",
              "    <tr>\n",
              "      <th>min</th>\n",
              "      <td>-4.000000e+00</td>\n",
              "      <td>1.245800e+04</td>\n",
              "      <td>25.000000</td>\n",
              "      <td>2.000000</td>\n",
              "      <td>0.180000</td>\n",
              "      <td>1.000000</td>\n",
              "      <td>6.117280e+05</td>\n",
              "      <td>-1.160000e+03</td>\n",
              "    </tr>\n",
              "    <tr>\n",
              "      <th>25%</th>\n",
              "      <td>1.120539e+01</td>\n",
              "      <td>3.019688e+07</td>\n",
              "      <td>26.000000</td>\n",
              "      <td>10.000000</td>\n",
              "      <td>0.700000</td>\n",
              "      <td>1179.000000</td>\n",
              "      <td>6.119930e+05</td>\n",
              "      <td>6.750000e+02</td>\n",
              "    </tr>\n",
              "    <tr>\n",
              "      <th>50%</th>\n",
              "      <td>3.040785e+01</td>\n",
              "      <td>3.020524e+07</td>\n",
              "      <td>30.000000</td>\n",
              "      <td>15.000000</td>\n",
              "      <td>1.500000</td>\n",
              "      <td>1250.000000</td>\n",
              "      <td>6.406650e+05</td>\n",
              "      <td>8.160000e+02</td>\n",
              "    </tr>\n",
              "    <tr>\n",
              "      <th>75%</th>\n",
              "      <td>6.732497e+01</td>\n",
              "      <td>3.028042e+07</td>\n",
              "      <td>78.000000</td>\n",
              "      <td>41.000000</td>\n",
              "      <td>3.000000</td>\n",
              "      <td>1500.000000</td>\n",
              "      <td>1.332077e+09</td>\n",
              "      <td>9.570000e+02</td>\n",
              "    </tr>\n",
              "    <tr>\n",
              "      <th>max</th>\n",
              "      <td>1.000000e+09</td>\n",
              "      <td>2.147484e+09</td>\n",
              "      <td>113.000000</td>\n",
              "      <td>99.000000</td>\n",
              "      <td>2500.000000</td>\n",
              "      <td>2990.000000</td>\n",
              "      <td>1.722208e+09</td>\n",
              "      <td>1.000010e+08</td>\n",
              "    </tr>\n",
              "  </tbody>\n",
              "</table>\n",
              "</div>\n",
              "    <div class=\"colab-df-buttons\">\n",
              "\n",
              "  <div class=\"colab-df-container\">\n",
              "    <button class=\"colab-df-convert\" onclick=\"convertToInteractive('df-a16d4aa8-bec8-49bc-8748-67d167105683')\"\n",
              "            title=\"Convert this dataframe to an interactive table.\"\n",
              "            style=\"display:none;\">\n",
              "\n",
              "  <svg xmlns=\"http://www.w3.org/2000/svg\" height=\"24px\" viewBox=\"0 -960 960 960\">\n",
              "    <path d=\"M120-120v-720h720v720H120Zm60-500h600v-160H180v160Zm220 220h160v-160H400v160Zm0 220h160v-160H400v160ZM180-400h160v-160H180v160Zm440 0h160v-160H620v160ZM180-180h160v-160H180v160Zm440 0h160v-160H620v160Z\"/>\n",
              "  </svg>\n",
              "    </button>\n",
              "\n",
              "  <style>\n",
              "    .colab-df-container {\n",
              "      display:flex;\n",
              "      gap: 12px;\n",
              "    }\n",
              "\n",
              "    .colab-df-convert {\n",
              "      background-color: #E8F0FE;\n",
              "      border: none;\n",
              "      border-radius: 50%;\n",
              "      cursor: pointer;\n",
              "      display: none;\n",
              "      fill: #1967D2;\n",
              "      height: 32px;\n",
              "      padding: 0 0 0 0;\n",
              "      width: 32px;\n",
              "    }\n",
              "\n",
              "    .colab-df-convert:hover {\n",
              "      background-color: #E2EBFA;\n",
              "      box-shadow: 0px 1px 2px rgba(60, 64, 67, 0.3), 0px 1px 3px 1px rgba(60, 64, 67, 0.15);\n",
              "      fill: #174EA6;\n",
              "    }\n",
              "\n",
              "    .colab-df-buttons div {\n",
              "      margin-bottom: 4px;\n",
              "    }\n",
              "\n",
              "    [theme=dark] .colab-df-convert {\n",
              "      background-color: #3B4455;\n",
              "      fill: #D2E3FC;\n",
              "    }\n",
              "\n",
              "    [theme=dark] .colab-df-convert:hover {\n",
              "      background-color: #434B5C;\n",
              "      box-shadow: 0px 1px 3px 1px rgba(0, 0, 0, 0.15);\n",
              "      filter: drop-shadow(0px 1px 2px rgba(0, 0, 0, 0.3));\n",
              "      fill: #FFFFFF;\n",
              "    }\n",
              "  </style>\n",
              "\n",
              "    <script>\n",
              "      const buttonEl =\n",
              "        document.querySelector('#df-a16d4aa8-bec8-49bc-8748-67d167105683 button.colab-df-convert');\n",
              "      buttonEl.style.display =\n",
              "        google.colab.kernel.accessAllowed ? 'block' : 'none';\n",
              "\n",
              "      async function convertToInteractive(key) {\n",
              "        const element = document.querySelector('#df-a16d4aa8-bec8-49bc-8748-67d167105683');\n",
              "        const dataTable =\n",
              "          await google.colab.kernel.invokeFunction('convertToInteractive',\n",
              "                                                    [key], {});\n",
              "        if (!dataTable) return;\n",
              "\n",
              "        const docLinkHtml = 'Like what you see? Visit the ' +\n",
              "          '<a target=\"_blank\" href=https://colab.research.google.com/notebooks/data_table.ipynb>data table notebook</a>'\n",
              "          + ' to learn more about interactive tables.';\n",
              "        element.innerHTML = '';\n",
              "        dataTable['output_type'] = 'display_data';\n",
              "        await google.colab.output.renderOutput(dataTable, element);\n",
              "        const docLink = document.createElement('div');\n",
              "        docLink.innerHTML = docLinkHtml;\n",
              "        element.appendChild(docLink);\n",
              "      }\n",
              "    </script>\n",
              "  </div>\n",
              "\n",
              "\n",
              "<div id=\"df-71fe3d26-9cb3-4fa6-ae8f-908da0e16d83\">\n",
              "  <button class=\"colab-df-quickchart\" onclick=\"quickchart('df-71fe3d26-9cb3-4fa6-ae8f-908da0e16d83')\"\n",
              "            title=\"Suggest charts.\"\n",
              "            style=\"display:none;\">\n",
              "\n",
              "<svg xmlns=\"http://www.w3.org/2000/svg\" height=\"24px\"viewBox=\"0 0 24 24\"\n",
              "     width=\"24px\">\n",
              "    <g>\n",
              "        <path d=\"M19 3H5c-1.1 0-2 .9-2 2v14c0 1.1.9 2 2 2h14c1.1 0 2-.9 2-2V5c0-1.1-.9-2-2-2zM9 17H7v-7h2v7zm4 0h-2V7h2v10zm4 0h-2v-4h2v4z\"/>\n",
              "    </g>\n",
              "</svg>\n",
              "  </button>\n",
              "\n",
              "<style>\n",
              "  .colab-df-quickchart {\n",
              "      --bg-color: #E8F0FE;\n",
              "      --fill-color: #1967D2;\n",
              "      --hover-bg-color: #E2EBFA;\n",
              "      --hover-fill-color: #174EA6;\n",
              "      --disabled-fill-color: #AAA;\n",
              "      --disabled-bg-color: #DDD;\n",
              "  }\n",
              "\n",
              "  [theme=dark] .colab-df-quickchart {\n",
              "      --bg-color: #3B4455;\n",
              "      --fill-color: #D2E3FC;\n",
              "      --hover-bg-color: #434B5C;\n",
              "      --hover-fill-color: #FFFFFF;\n",
              "      --disabled-bg-color: #3B4455;\n",
              "      --disabled-fill-color: #666;\n",
              "  }\n",
              "\n",
              "  .colab-df-quickchart {\n",
              "    background-color: var(--bg-color);\n",
              "    border: none;\n",
              "    border-radius: 50%;\n",
              "    cursor: pointer;\n",
              "    display: none;\n",
              "    fill: var(--fill-color);\n",
              "    height: 32px;\n",
              "    padding: 0;\n",
              "    width: 32px;\n",
              "  }\n",
              "\n",
              "  .colab-df-quickchart:hover {\n",
              "    background-color: var(--hover-bg-color);\n",
              "    box-shadow: 0 1px 2px rgba(60, 64, 67, 0.3), 0 1px 3px 1px rgba(60, 64, 67, 0.15);\n",
              "    fill: var(--button-hover-fill-color);\n",
              "  }\n",
              "\n",
              "  .colab-df-quickchart-complete:disabled,\n",
              "  .colab-df-quickchart-complete:disabled:hover {\n",
              "    background-color: var(--disabled-bg-color);\n",
              "    fill: var(--disabled-fill-color);\n",
              "    box-shadow: none;\n",
              "  }\n",
              "\n",
              "  .colab-df-spinner {\n",
              "    border: 2px solid var(--fill-color);\n",
              "    border-color: transparent;\n",
              "    border-bottom-color: var(--fill-color);\n",
              "    animation:\n",
              "      spin 1s steps(1) infinite;\n",
              "  }\n",
              "\n",
              "  @keyframes spin {\n",
              "    0% {\n",
              "      border-color: transparent;\n",
              "      border-bottom-color: var(--fill-color);\n",
              "      border-left-color: var(--fill-color);\n",
              "    }\n",
              "    20% {\n",
              "      border-color: transparent;\n",
              "      border-left-color: var(--fill-color);\n",
              "      border-top-color: var(--fill-color);\n",
              "    }\n",
              "    30% {\n",
              "      border-color: transparent;\n",
              "      border-left-color: var(--fill-color);\n",
              "      border-top-color: var(--fill-color);\n",
              "      border-right-color: var(--fill-color);\n",
              "    }\n",
              "    40% {\n",
              "      border-color: transparent;\n",
              "      border-right-color: var(--fill-color);\n",
              "      border-top-color: var(--fill-color);\n",
              "    }\n",
              "    60% {\n",
              "      border-color: transparent;\n",
              "      border-right-color: var(--fill-color);\n",
              "    }\n",
              "    80% {\n",
              "      border-color: transparent;\n",
              "      border-right-color: var(--fill-color);\n",
              "      border-bottom-color: var(--fill-color);\n",
              "    }\n",
              "    90% {\n",
              "      border-color: transparent;\n",
              "      border-bottom-color: var(--fill-color);\n",
              "    }\n",
              "  }\n",
              "</style>\n",
              "\n",
              "  <script>\n",
              "    async function quickchart(key) {\n",
              "      const quickchartButtonEl =\n",
              "        document.querySelector('#' + key + ' button');\n",
              "      quickchartButtonEl.disabled = true;  // To prevent multiple clicks.\n",
              "      quickchartButtonEl.classList.add('colab-df-spinner');\n",
              "      try {\n",
              "        const charts = await google.colab.kernel.invokeFunction(\n",
              "            'suggestCharts', [key], {});\n",
              "      } catch (error) {\n",
              "        console.error('Error during call to suggestCharts:', error);\n",
              "      }\n",
              "      quickchartButtonEl.classList.remove('colab-df-spinner');\n",
              "      quickchartButtonEl.classList.add('colab-df-quickchart-complete');\n",
              "    }\n",
              "    (() => {\n",
              "      let quickchartButtonEl =\n",
              "        document.querySelector('#df-71fe3d26-9cb3-4fa6-ae8f-908da0e16d83 button');\n",
              "      quickchartButtonEl.style.display =\n",
              "        google.colab.kernel.accessAllowed ? 'block' : 'none';\n",
              "    })();\n",
              "  </script>\n",
              "</div>\n",
              "    </div>\n",
              "  </div>\n"
            ]
          },
          "metadata": {},
          "execution_count": 32
        }
      ],
      "source": [
        "data_1.describe()"
      ]
    },
    {
      "cell_type": "code",
      "execution_count": null,
      "metadata": {
        "colab": {
          "base_uri": "https://localhost:8080/"
        },
        "id": "bZHYkk08hOVN",
        "outputId": "f9a7c652-e98d-40d5-f209-931b635ad655"
      },
      "outputs": [
        {
          "output_type": "execute_result",
          "data": {
            "text/plain": [
              "(87.5, -36.5)"
            ]
          },
          "metadata": {},
          "execution_count": 33
        }
      ],
      "source": [
        "q3 = data_1.application.quantile(0.75)\n",
        "q1 = data_1.application.quantile(0.25)\n",
        "iqr = (q3 - q1)\n",
        "upper_tres = q3 + (1.5*iqr)\n",
        "lower_tres = q1 - (1.5*iqr)\n",
        "upper_tres ,lower_tres"
      ]
    },
    {
      "cell_type": "code",
      "execution_count": null,
      "metadata": {
        "colab": {
          "base_uri": "https://localhost:8080/"
        },
        "id": "RIIfHTf3hpXT",
        "outputId": "80937ebf-c269-4640-910b-e048a8488a48"
      },
      "outputs": [
        {
          "output_type": "execute_result",
          "data": {
            "text/plain": [
              "(30405714.0, 30071586.0)"
            ]
          },
          "metadata": {},
          "execution_count": 34
        }
      ],
      "source": [
        "q3 = data_1.customer.quantile(0.75)\n",
        "q1 = data_1.customer.quantile(0.25)\n",
        "iqr = (q3 - q1)\n",
        "upper_tres = q3 + (1.5*iqr)\n",
        "lower_tres = q1 - (1.5*iqr)\n",
        "upper_tres ,lower_tres"
      ]
    },
    {
      "cell_type": "code",
      "execution_count": null,
      "metadata": {
        "colab": {
          "base_uri": "https://localhost:8080/"
        },
        "id": "dACMwmMvhxpS",
        "outputId": "f6405e94-2eda-4987-9636-67cc773b4e3c"
      },
      "outputs": [
        {
          "output_type": "execute_result",
          "data": {
            "text/plain": [
              "(151.5043400925, -72.9739823275)"
            ]
          },
          "metadata": {},
          "execution_count": 35
        }
      ],
      "source": [
        "q3 = data_1['quantity tons'].quantile(0.75)\n",
        "q1 = data_1['quantity tons'].quantile(0.25)\n",
        "iqr = (q3 - q1)\n",
        "upper_tres = q3 + (1.5*iqr)\n",
        "lower_tres = q1 - (1.5*iqr)\n",
        "upper_tres ,lower_tres"
      ]
    },
    {
      "cell_type": "code",
      "execution_count": null,
      "metadata": {
        "colab": {
          "base_uri": "https://localhost:8080/"
        },
        "id": "l9JXdd8MiT1N",
        "outputId": "c8eaf547-fef7-45b8-f611-a9aff4aac61f"
      },
      "outputs": [
        {
          "output_type": "execute_result",
          "data": {
            "text/plain": [
              "(6.449999999999999, -2.75)"
            ]
          },
          "metadata": {},
          "execution_count": 36
        }
      ],
      "source": [
        "\n",
        "q3 = data_1['thickness'].quantile(0.75)\n",
        "q1 = data_1['thickness'].quantile(0.25)\n",
        "iqr = (q3 - q1)\n",
        "upper_tres = q3 + (1.5*iqr)\n",
        "lower_tres = q1 - (1.5*iqr)\n",
        "upper_tres ,lower_tres\n"
      ]
    },
    {
      "cell_type": "code",
      "execution_count": null,
      "metadata": {
        "colab": {
          "base_uri": "https://localhost:8080/"
        },
        "id": "M8yCzE2Qif0i",
        "outputId": "97867105-55d3-4558-99cf-0c5e11b38d7c"
      },
      "outputs": [
        {
          "output_type": "execute_result",
          "data": {
            "text/plain": [
              "(1981.5, 697.5)"
            ]
          },
          "metadata": {},
          "execution_count": 37
        }
      ],
      "source": [
        "\n",
        "q3 = data_1['width'].quantile(0.75)\n",
        "q1 = data_1['width'].quantile(0.25)\n",
        "iqr = (q3 - q1)\n",
        "upper_tres = q3 + (1.5*iqr)\n",
        "lower_tres = q1 - (1.5*iqr)\n",
        "upper_tres ,lower_tres\n"
      ]
    },
    {
      "cell_type": "code",
      "execution_count": null,
      "metadata": {
        "colab": {
          "base_uri": "https://localhost:8080/"
        },
        "id": "DrcD1Ub5ixBD",
        "outputId": "8ce8c33b-f679-49f7-93bc-4604fdb3d0fe"
      },
      "outputs": [
        {
          "output_type": "execute_result",
          "data": {
            "text/plain": [
              "(3329274853.0, -1996585723.0)"
            ]
          },
          "metadata": {},
          "execution_count": 38
        }
      ],
      "source": [
        "\n",
        "q3 = data_1['product_ref'].quantile(0.75)\n",
        "q1 = data_1['product_ref'].quantile(0.25)\n",
        "iqr = (q3 - q1)\n",
        "upper_tres = q3 + (1.5*iqr)\n",
        "lower_tres = q1 - (1.5*iqr)\n",
        "upper_tres ,lower_tres\n"
      ]
    },
    {
      "cell_type": "code",
      "execution_count": null,
      "metadata": {
        "colab": {
          "base_uri": "https://localhost:8080/",
          "height": 135
        },
        "id": "Rtd00OcdXVVV",
        "outputId": "ae58777e-4d91-4e7a-8428-2a08e73be3bb"
      },
      "outputs": [
        {
          "output_type": "execute_result",
          "data": {
            "text/plain": [
              "    item_date  quantity tons    customer  country status item type  \\\n",
              "0  2021-04-01      54.151139  30156308.0     28.0    Won         W   \n",
              "\n",
              "   application  thickness   width material_ref   product_ref delivery date  \\\n",
              "0         10.0        2.0  1500.0  DEQ1 S460MC  1.670799e+09    2021-07-01   \n",
              "\n",
              "   selling_price  \n",
              "0          854.0  "
            ],
            "text/html": [
              "\n",
              "  <div id=\"df-d40140a3-e074-43cd-a86a-3c457bc9d8be\" class=\"colab-df-container\">\n",
              "    <div>\n",
              "<style scoped>\n",
              "    .dataframe tbody tr th:only-of-type {\n",
              "        vertical-align: middle;\n",
              "    }\n",
              "\n",
              "    .dataframe tbody tr th {\n",
              "        vertical-align: top;\n",
              "    }\n",
              "\n",
              "    .dataframe thead th {\n",
              "        text-align: right;\n",
              "    }\n",
              "</style>\n",
              "<table border=\"1\" class=\"dataframe\">\n",
              "  <thead>\n",
              "    <tr style=\"text-align: right;\">\n",
              "      <th></th>\n",
              "      <th>item_date</th>\n",
              "      <th>quantity tons</th>\n",
              "      <th>customer</th>\n",
              "      <th>country</th>\n",
              "      <th>status</th>\n",
              "      <th>item type</th>\n",
              "      <th>application</th>\n",
              "      <th>thickness</th>\n",
              "      <th>width</th>\n",
              "      <th>material_ref</th>\n",
              "      <th>product_ref</th>\n",
              "      <th>delivery date</th>\n",
              "      <th>selling_price</th>\n",
              "    </tr>\n",
              "  </thead>\n",
              "  <tbody>\n",
              "    <tr>\n",
              "      <th>0</th>\n",
              "      <td>2021-04-01</td>\n",
              "      <td>54.151139</td>\n",
              "      <td>30156308.0</td>\n",
              "      <td>28.0</td>\n",
              "      <td>Won</td>\n",
              "      <td>W</td>\n",
              "      <td>10.0</td>\n",
              "      <td>2.0</td>\n",
              "      <td>1500.0</td>\n",
              "      <td>DEQ1 S460MC</td>\n",
              "      <td>1.670799e+09</td>\n",
              "      <td>2021-07-01</td>\n",
              "      <td>854.0</td>\n",
              "    </tr>\n",
              "  </tbody>\n",
              "</table>\n",
              "</div>\n",
              "    <div class=\"colab-df-buttons\">\n",
              "\n",
              "  <div class=\"colab-df-container\">\n",
              "    <button class=\"colab-df-convert\" onclick=\"convertToInteractive('df-d40140a3-e074-43cd-a86a-3c457bc9d8be')\"\n",
              "            title=\"Convert this dataframe to an interactive table.\"\n",
              "            style=\"display:none;\">\n",
              "\n",
              "  <svg xmlns=\"http://www.w3.org/2000/svg\" height=\"24px\" viewBox=\"0 -960 960 960\">\n",
              "    <path d=\"M120-120v-720h720v720H120Zm60-500h600v-160H180v160Zm220 220h160v-160H400v160Zm0 220h160v-160H400v160ZM180-400h160v-160H180v160Zm440 0h160v-160H620v160ZM180-180h160v-160H180v160Zm440 0h160v-160H620v160Z\"/>\n",
              "  </svg>\n",
              "    </button>\n",
              "\n",
              "  <style>\n",
              "    .colab-df-container {\n",
              "      display:flex;\n",
              "      gap: 12px;\n",
              "    }\n",
              "\n",
              "    .colab-df-convert {\n",
              "      background-color: #E8F0FE;\n",
              "      border: none;\n",
              "      border-radius: 50%;\n",
              "      cursor: pointer;\n",
              "      display: none;\n",
              "      fill: #1967D2;\n",
              "      height: 32px;\n",
              "      padding: 0 0 0 0;\n",
              "      width: 32px;\n",
              "    }\n",
              "\n",
              "    .colab-df-convert:hover {\n",
              "      background-color: #E2EBFA;\n",
              "      box-shadow: 0px 1px 2px rgba(60, 64, 67, 0.3), 0px 1px 3px 1px rgba(60, 64, 67, 0.15);\n",
              "      fill: #174EA6;\n",
              "    }\n",
              "\n",
              "    .colab-df-buttons div {\n",
              "      margin-bottom: 4px;\n",
              "    }\n",
              "\n",
              "    [theme=dark] .colab-df-convert {\n",
              "      background-color: #3B4455;\n",
              "      fill: #D2E3FC;\n",
              "    }\n",
              "\n",
              "    [theme=dark] .colab-df-convert:hover {\n",
              "      background-color: #434B5C;\n",
              "      box-shadow: 0px 1px 3px 1px rgba(0, 0, 0, 0.15);\n",
              "      filter: drop-shadow(0px 1px 2px rgba(0, 0, 0, 0.3));\n",
              "      fill: #FFFFFF;\n",
              "    }\n",
              "  </style>\n",
              "\n",
              "    <script>\n",
              "      const buttonEl =\n",
              "        document.querySelector('#df-d40140a3-e074-43cd-a86a-3c457bc9d8be button.colab-df-convert');\n",
              "      buttonEl.style.display =\n",
              "        google.colab.kernel.accessAllowed ? 'block' : 'none';\n",
              "\n",
              "      async function convertToInteractive(key) {\n",
              "        const element = document.querySelector('#df-d40140a3-e074-43cd-a86a-3c457bc9d8be');\n",
              "        const dataTable =\n",
              "          await google.colab.kernel.invokeFunction('convertToInteractive',\n",
              "                                                    [key], {});\n",
              "        if (!dataTable) return;\n",
              "\n",
              "        const docLinkHtml = 'Like what you see? Visit the ' +\n",
              "          '<a target=\"_blank\" href=https://colab.research.google.com/notebooks/data_table.ipynb>data table notebook</a>'\n",
              "          + ' to learn more about interactive tables.';\n",
              "        element.innerHTML = '';\n",
              "        dataTable['output_type'] = 'display_data';\n",
              "        await google.colab.output.renderOutput(dataTable, element);\n",
              "        const docLink = document.createElement('div');\n",
              "        docLink.innerHTML = docLinkHtml;\n",
              "        element.appendChild(docLink);\n",
              "      }\n",
              "    </script>\n",
              "  </div>\n",
              "\n",
              "    </div>\n",
              "  </div>\n"
            ]
          },
          "metadata": {},
          "execution_count": 39
        }
      ],
      "source": [
        "data_1.head(1)"
      ]
    },
    {
      "cell_type": "code",
      "execution_count": null,
      "metadata": {
        "colab": {
          "base_uri": "https://localhost:8080/",
          "height": 135
        },
        "id": "UlQNNvSQXvth",
        "outputId": "737752bc-fd41-4e8f-8bff-c6a6b25e5658"
      },
      "outputs": [
        {
          "output_type": "execute_result",
          "data": {
            "text/plain": [
              "    item_date  quantity tons    customer  country status item type  \\\n",
              "0  2021-04-01      54.151139  30156308.0     28.0    Won         W   \n",
              "\n",
              "   application  thickness   width material_ref   product_ref delivery date  \\\n",
              "0         10.0        2.0  1500.0  DEQ1 S460MC  1.670799e+09    2021-07-01   \n",
              "\n",
              "   selling_price  \n",
              "0          854.0  "
            ],
            "text/html": [
              "\n",
              "  <div id=\"df-ada66170-2bf5-4b86-b21d-2c4e7e2c456d\" class=\"colab-df-container\">\n",
              "    <div>\n",
              "<style scoped>\n",
              "    .dataframe tbody tr th:only-of-type {\n",
              "        vertical-align: middle;\n",
              "    }\n",
              "\n",
              "    .dataframe tbody tr th {\n",
              "        vertical-align: top;\n",
              "    }\n",
              "\n",
              "    .dataframe thead th {\n",
              "        text-align: right;\n",
              "    }\n",
              "</style>\n",
              "<table border=\"1\" class=\"dataframe\">\n",
              "  <thead>\n",
              "    <tr style=\"text-align: right;\">\n",
              "      <th></th>\n",
              "      <th>item_date</th>\n",
              "      <th>quantity tons</th>\n",
              "      <th>customer</th>\n",
              "      <th>country</th>\n",
              "      <th>status</th>\n",
              "      <th>item type</th>\n",
              "      <th>application</th>\n",
              "      <th>thickness</th>\n",
              "      <th>width</th>\n",
              "      <th>material_ref</th>\n",
              "      <th>product_ref</th>\n",
              "      <th>delivery date</th>\n",
              "      <th>selling_price</th>\n",
              "    </tr>\n",
              "  </thead>\n",
              "  <tbody>\n",
              "    <tr>\n",
              "      <th>0</th>\n",
              "      <td>2021-04-01</td>\n",
              "      <td>54.151139</td>\n",
              "      <td>30156308.0</td>\n",
              "      <td>28.0</td>\n",
              "      <td>Won</td>\n",
              "      <td>W</td>\n",
              "      <td>10.0</td>\n",
              "      <td>2.0</td>\n",
              "      <td>1500.0</td>\n",
              "      <td>DEQ1 S460MC</td>\n",
              "      <td>1.670799e+09</td>\n",
              "      <td>2021-07-01</td>\n",
              "      <td>854.0</td>\n",
              "    </tr>\n",
              "  </tbody>\n",
              "</table>\n",
              "</div>\n",
              "    <div class=\"colab-df-buttons\">\n",
              "\n",
              "  <div class=\"colab-df-container\">\n",
              "    <button class=\"colab-df-convert\" onclick=\"convertToInteractive('df-ada66170-2bf5-4b86-b21d-2c4e7e2c456d')\"\n",
              "            title=\"Convert this dataframe to an interactive table.\"\n",
              "            style=\"display:none;\">\n",
              "\n",
              "  <svg xmlns=\"http://www.w3.org/2000/svg\" height=\"24px\" viewBox=\"0 -960 960 960\">\n",
              "    <path d=\"M120-120v-720h720v720H120Zm60-500h600v-160H180v160Zm220 220h160v-160H400v160Zm0 220h160v-160H400v160ZM180-400h160v-160H180v160Zm440 0h160v-160H620v160ZM180-180h160v-160H180v160Zm440 0h160v-160H620v160Z\"/>\n",
              "  </svg>\n",
              "    </button>\n",
              "\n",
              "  <style>\n",
              "    .colab-df-container {\n",
              "      display:flex;\n",
              "      gap: 12px;\n",
              "    }\n",
              "\n",
              "    .colab-df-convert {\n",
              "      background-color: #E8F0FE;\n",
              "      border: none;\n",
              "      border-radius: 50%;\n",
              "      cursor: pointer;\n",
              "      display: none;\n",
              "      fill: #1967D2;\n",
              "      height: 32px;\n",
              "      padding: 0 0 0 0;\n",
              "      width: 32px;\n",
              "    }\n",
              "\n",
              "    .colab-df-convert:hover {\n",
              "      background-color: #E2EBFA;\n",
              "      box-shadow: 0px 1px 2px rgba(60, 64, 67, 0.3), 0px 1px 3px 1px rgba(60, 64, 67, 0.15);\n",
              "      fill: #174EA6;\n",
              "    }\n",
              "\n",
              "    .colab-df-buttons div {\n",
              "      margin-bottom: 4px;\n",
              "    }\n",
              "\n",
              "    [theme=dark] .colab-df-convert {\n",
              "      background-color: #3B4455;\n",
              "      fill: #D2E3FC;\n",
              "    }\n",
              "\n",
              "    [theme=dark] .colab-df-convert:hover {\n",
              "      background-color: #434B5C;\n",
              "      box-shadow: 0px 1px 3px 1px rgba(0, 0, 0, 0.15);\n",
              "      filter: drop-shadow(0px 1px 2px rgba(0, 0, 0, 0.3));\n",
              "      fill: #FFFFFF;\n",
              "    }\n",
              "  </style>\n",
              "\n",
              "    <script>\n",
              "      const buttonEl =\n",
              "        document.querySelector('#df-ada66170-2bf5-4b86-b21d-2c4e7e2c456d button.colab-df-convert');\n",
              "      buttonEl.style.display =\n",
              "        google.colab.kernel.accessAllowed ? 'block' : 'none';\n",
              "\n",
              "      async function convertToInteractive(key) {\n",
              "        const element = document.querySelector('#df-ada66170-2bf5-4b86-b21d-2c4e7e2c456d');\n",
              "        const dataTable =\n",
              "          await google.colab.kernel.invokeFunction('convertToInteractive',\n",
              "                                                    [key], {});\n",
              "        if (!dataTable) return;\n",
              "\n",
              "        const docLinkHtml = 'Like what you see? Visit the ' +\n",
              "          '<a target=\"_blank\" href=https://colab.research.google.com/notebooks/data_table.ipynb>data table notebook</a>'\n",
              "          + ' to learn more about interactive tables.';\n",
              "        element.innerHTML = '';\n",
              "        dataTable['output_type'] = 'display_data';\n",
              "        await google.colab.output.renderOutput(dataTable, element);\n",
              "        const docLink = document.createElement('div');\n",
              "        docLink.innerHTML = docLinkHtml;\n",
              "        element.appendChild(docLink);\n",
              "      }\n",
              "    </script>\n",
              "  </div>\n",
              "\n",
              "    </div>\n",
              "  </div>\n"
            ]
          },
          "metadata": {},
          "execution_count": 40
        }
      ],
      "source": [
        "df=data_1.copy()\n",
        "df.head(1)"
      ]
    },
    {
      "cell_type": "code",
      "execution_count": null,
      "metadata": {
        "id": "fGbuh-ID88MS"
      },
      "outputs": [],
      "source": [
        "df_1=df.select_dtypes([\"int64\",\"float64\"])"
      ]
    },
    {
      "cell_type": "code",
      "execution_count": null,
      "metadata": {
        "colab": {
          "base_uri": "https://localhost:8080/",
          "height": 1000
        },
        "id": "FtUyuqSI8FqA",
        "outputId": "64fb3a76-302c-4129-9934-8d647e3b8eb4"
      },
      "outputs": [
        {
          "output_type": "stream",
          "name": "stdout",
          "text": [
            "quantity tons\n",
            "nan\n"
          ]
        },
        {
          "output_type": "display_data",
          "data": {
            "text/plain": [
              "<Figure size 640x480 with 1 Axes>"
            ],
            "image/png": "[encoded data removed]"
          },
          "metadata": {}
        },
        {
          "output_type": "stream",
          "name": "stdout",
          "text": [
            "customer\n",
            "85.72486835934254\n"
          ]
        },
        {
          "output_type": "display_data",
          "data": {
            "text/plain": [
              "<Figure size 640x480 with 1 Axes>"
            ],
            "image/png": "[encoded data removed]"
          },
          "metadata": {}
        },
        {
          "output_type": "stream",
          "name": "stdout",
          "text": [
            "country\n",
            "0.7529847149342801\n"
          ]
        },
        {
          "output_type": "display_data",
          "data": {
            "text/plain": [
              "<Figure size 640x480 with 1 Axes>"
            ],
            "image/png": "[encoded data removed]"
          },
          "metadata": {}
        },
        {
          "output_type": "stream",
          "name": "stdout",
          "text": [
            "application\n",
            "0.7328405742102669\n"
          ]
        },
        {
          "output_type": "display_data",
          "data": {
            "text/plain": [
              "<Figure size 640x480 with 1 Axes>"
            ],
            "image/png": "[encoded data removed]"
          },
          "metadata": {}
        },
        {
          "output_type": "stream",
          "name": "stdout",
          "text": [
            "thickness\n",
            "301.2612455957011\n"
          ]
        },
        {
          "output_type": "display_data",
          "data": {
            "text/plain": [
              "<Figure size 640x480 with 1 Axes>"
            ],
            "image/png": "[encoded data removed]"
          },
          "metadata": {}
        },
        {
          "output_type": "stream",
          "name": "stdout",
          "text": [
            "width\n",
            "0.36553903191152065\n"
          ]
        },
        {
          "output_type": "display_data",
          "data": {
            "text/plain": [
              "<Figure size 640x480 with 1 Axes>"
            ],
            "image/png": "[encoded data removed]"
          },
          "metadata": {}
        },
        {
          "output_type": "stream",
          "name": "stdout",
          "text": [
            "product_ref\n",
            "nan\n"
          ]
        },
        {
          "output_type": "display_data",
          "data": {
            "text/plain": [
              "<Figure size 640x480 with 1 Axes>"
            ],
            "image/png": "[encoded data removed]"
          },
          "metadata": {}
        },
        {
          "output_type": "stream",
          "name": "stdout",
          "text": [
            "selling_price\n",
            "297.02237204844124\n"
          ]
        },
        {
          "output_type": "display_data",
          "data": {
            "text/plain": [
              "<Figure size 640x480 with 1 Axes>"
            ],
            "image/png": "[encoded data removed]"
          },
          "metadata": {}
        }
      ],
      "source": [
        "from scipy.stats import skew\n",
        "for col in df_1:\n",
        "  print(col)\n",
        "  print(skew(df_1[col]))\n",
        "  plt.figure()\n",
        "  sns.distplot(df_1[col])\n",
        "  plt.show()"
      ]
    },
    {
      "cell_type": "code",
      "execution_count": null,
      "metadata": {
        "colab": {
          "base_uri": "https://localhost:8080/"
        },
        "id": "DFSeCAOp_UXt",
        "outputId": "3cc96bb4-de2a-4c4b-8141-db2669797129"
      },
      "outputs": [
        {
          "output_type": "stream",
          "name": "stdout",
          "text": [
            "7\n",
            "2\n",
            "0\n"
          ]
        }
      ],
      "source": [
        "import numpy as np\n",
        "mask1 = df['selling_price'] <= 0\n",
        "print(mask1.sum())\n",
        "df.loc[mask1, 'selling_price'] = np.nan\n",
        "\n",
        "mask1 = df['quantity tons'] <= 0\n",
        "print(mask1.sum())\n",
        "df.loc[mask1, 'quantity tons'] = np.nan\n",
        "\n",
        "mask1 = df['thickness'] <= 0\n",
        "print(mask1.sum())"
      ]
    },
    {
      "cell_type": "code",
      "execution_count": null,
      "metadata": {
        "colab": {
          "base_uri": "https://localhost:8080/"
        },
        "id": "Huv19N86_qRj",
        "outputId": "ec7eb65a-cd7e-44ec-d72b-b32c094ef9d1"
      },
      "outputs": [
        {
          "output_type": "execute_result",
          "data": {
            "text/plain": [
              "item_date        2\n",
              "quantity tons    3\n",
              "customer         0\n",
              "country          0\n",
              "status           0\n",
              "item type        0\n",
              "application      0\n",
              "thickness        0\n",
              "width            0\n",
              "material_ref     0\n",
              "product_ref      1\n",
              "delivery date    2\n",
              "selling_price    7\n",
              "dtype: int64"
            ]
          },
          "metadata": {},
          "execution_count": 44
        }
      ],
      "source": [
        "df.isnull().sum()"
      ]
    },
    {
      "cell_type": "code",
      "execution_count": null,
      "metadata": {
        "id": "hp6TWG5w_sqk"
      },
      "outputs": [],
      "source": [
        "df.dropna(inplace=True)"
      ]
    },
    {
      "cell_type": "code",
      "execution_count": null,
      "metadata": {
        "colab": {
          "base_uri": "https://localhost:8080/",
          "height": 1000
        },
        "id": "CyNcaMfi_9Go",
        "outputId": "147cb93e-db3a-48fc-c298-216d9e60ce92"
      },
      "outputs": [
        {
          "output_type": "display_data",
          "data": {
            "text/plain": [
              "<Figure size 640x480 with 1 Axes>"
            ],
            "image/png": "[encoded data removed]"
          },
          "metadata": {}
        },
        {
          "output_type": "display_data",
          "data": {
            "text/plain": [
              "<Figure size 640x480 with 1 Axes>"
            ],
            "image/png": "[encoded data removed]"
          },
          "metadata": {}
        },
        {
          "output_type": "display_data",
          "data": {
            "text/plain": [
              "<Figure size 640x480 with 1 Axes>"
            ],
            "image/png": "[encoded data removed]"
          },
          "metadata": {}
        }
      ],
      "source": [
        "import numpy as np\n",
        "df['selling_price_sqrt'] = np.sqrt(df['selling_price'])\n",
        "sns.distplot(df['selling_price_sqrt'])\n",
        "plt.show()\n",
        "\n",
        "df['quantity tons_sqrt'] = np.sqrt(df['quantity tons'])\n",
        "sns.distplot(df['quantity tons_sqrt'])\n",
        "plt.show()\n",
        "\n",
        "df['thickness_sqrt'] = np.sqrt(df['thickness'])\n",
        "sns.distplot(df['thickness_sqrt'])\n",
        "plt.show()"
      ]
    },
    {
      "cell_type": "code",
      "execution_count": null,
      "metadata": {
        "colab": {
          "base_uri": "https://localhost:8080/",
          "height": 1000
        },
        "id": "S6XmjxDECdj3",
        "outputId": "c963160f-996e-417c-e355-a70b6ef31060"
      },
      "outputs": [
        {
          "output_type": "display_data",
          "data": {
            "text/plain": [
              "<Figure size 640x480 with 1 Axes>"
            ],
            "image/png": "[encoded data removed]"
          },
          "metadata": {}
        },
        {
          "output_type": "display_data",
          "data": {
            "text/plain": [
              "<Figure size 640x480 with 1 Axes>"
            ],
            "image/png": "[encoded data removed]"
          },
          "metadata": {}
        },
        {
          "output_type": "display_data",
          "data": {
            "text/plain": [
              "<Figure size 640x480 with 1 Axes>"
            ],
            "image/png": "[encoded data removed]"
          },
          "metadata": {}
        }
      ],
      "source": [
        "import numpy as np\n",
        "df['selling_price_log'] = np.log(df['selling_price'])\n",
        "sns.distplot(df['selling_price_log'])\n",
        "plt.show()\n",
        "\n",
        "df['quantity tons_log'] = np.log(df['quantity tons'])\n",
        "sns.distplot(df['quantity tons_log'])\n",
        "plt.show()\n",
        "\n",
        "df['thickness_log'] = np.log(df['thickness'])\n",
        "sns.distplot(df['thickness_log'])\n",
        "plt.show()\n"
      ]
    },
    {
      "cell_type": "code",
      "execution_count": null,
      "metadata": {
        "colab": {
          "base_uri": "https://localhost:8080/"
        },
        "id": "b37n6BhdDEW8",
        "outputId": "b3db480a-55ea-4428-cf38-3ab9364e0a36"
      },
      "outputs": [
        {
          "output_type": "stream",
          "name": "stdout",
          "text": [
            "quantity tons_log -- -0.07119157458853329\n",
            "customer -- 85.72195191808976\n",
            "country -- 0.7529407868597099\n",
            "application -- 0.7328802093626084\n",
            "thickness_log -- 0.34646959653020104\n",
            "width -- 0.3655237937017718\n",
            "selling_price_log -- -5.3404271986672915\n",
            "thickness_sqrt -- 1.3802161617914874\n",
            "quantity tons_sqrt -- 390.42827137698924\n",
            "selling_price_sqrt -- 288.3125123539253\n"
          ]
        }
      ],
      "source": [
        "Continues=['quantity tons_log','customer','country','application','thickness_log','width','selling_price_log','thickness_sqrt','quantity tons_sqrt','selling_price_sqrt']\n",
        "for i in Continues:\n",
        "    print(i,\"--\",df[i].skew())"
      ]
    },
    {
      "cell_type": "code",
      "execution_count": null,
      "metadata": {
        "colab": {
          "base_uri": "https://localhost:8080/",
          "height": 634
        },
        "id": "PRLRIcGGDwhu",
        "outputId": "6a4d40fc-a95e-465d-f035-a3faf5ecfe15"
      },
      "outputs": [
        {
          "output_type": "execute_result",
          "data": {
            "text/plain": [
              "         item_date  quantity tons    customer  country          status  \\\n",
              "0       2021-04-01      54.151139  30156308.0     28.0             Won   \n",
              "1       2021-04-01     768.024839  30202938.0     25.0             Won   \n",
              "2       2021-04-01     386.127949  30153963.0     30.0             Won   \n",
              "3       2021-04-01     202.411065  30349574.0     32.0             Won   \n",
              "4       2021-04-01     785.526262  30211560.0     28.0             Won   \n",
              "...            ...            ...         ...      ...             ...   \n",
              "176445  2020-07-08      36.717238  30213686.0     78.0             Won   \n",
              "176446  2020-07-08      48.579643  30205078.0     26.0  To be approved   \n",
              "176447  2020-07-08    3022.304001  30336279.0     78.0             Won   \n",
              "176448  2020-07-08       4.568723  30231432.0     78.0             Won   \n",
              "176449  2020-07-08       3.004949  30213686.0     78.0             Won   \n",
              "\n",
              "       item type  application  thickness   width  \\\n",
              "0              W         10.0       2.00  1500.0   \n",
              "1              W         41.0       0.80  1210.0   \n",
              "2             WI         28.0       0.38   952.0   \n",
              "3              S         59.0       2.30  1317.0   \n",
              "4              W         10.0       4.00  2000.0   \n",
              "...          ...          ...        ...     ...   \n",
              "176445         W         10.0       8.00  2000.0   \n",
              "176446         S         10.0       2.90  1780.0   \n",
              "176447         W         59.0       2.00  1035.0   \n",
              "176448         W         41.0       0.50  1250.0   \n",
              "176449         W         10.0      10.00  1000.0   \n",
              "\n",
              "                                    material_ref   product_ref delivery date  \\\n",
              "0                                    DEQ1 S460MC  1.670799e+09    2021-07-01   \n",
              "1       0000000000000000000000000000000000104991  1.668702e+09    2021-04-01   \n",
              "2                                       S0380700  6.283770e+05    2021-01-01   \n",
              "3                        DX51D+ZM310MAO 2.3X1317  1.668702e+09    2021-01-01   \n",
              "4                                2_S275JR+AR-CL1  6.406650e+05    2021-03-01   \n",
              "...                                          ...           ...           ...   \n",
              "176445                              S355J2+N-CL1  6.406650e+05    2020-08-01   \n",
              "176446  0000000000000000000000000000000701000100  1.641416e+08    2020-08-01   \n",
              "176447                                   unknown  6.406650e+05    2020-07-01   \n",
              "176448                                     QBR03  6.119930e+05    2020-07-01   \n",
              "176449                              S355J2+N-CL1  6.406650e+05    2020-08-01   \n",
              "\n",
              "        selling_price  selling_price_sqrt  quantity tons_sqrt  thickness_sqrt  \\\n",
              "0              854.00           29.223278            7.358746        1.414214   \n",
              "1             1047.00           32.357379           27.713261        0.894427   \n",
              "2              644.33           25.383656           19.650139        0.616441   \n",
              "3              768.00           27.712813           14.227124        1.516575   \n",
              "4              577.00           24.020824           28.027241        2.000000   \n",
              "...               ...                 ...                 ...             ...   \n",
              "176445         498.00           22.315914            6.059475        2.828427   \n",
              "176446         623.00           24.959968            6.969910        1.702939   \n",
              "176447         535.00           23.130067           54.975485        1.414214   \n",
              "176448         974.00           31.208973            2.137457        0.707107   \n",
              "176449         490.00           22.135944            1.733479        3.162278   \n",
              "\n",
              "        selling_price_log  quantity tons_log  thickness_log  \n",
              "0                6.749931           3.991779       0.693147  \n",
              "1                6.953684           6.643822      -0.223144  \n",
              "2                6.468211           5.956169      -0.967584  \n",
              "3                6.643790           5.310301       0.832909  \n",
              "4                6.357842           6.666354       1.386294  \n",
              "...                   ...                ...            ...  \n",
              "176445           6.210600           3.603246       2.079442  \n",
              "176446           6.434547           3.883205       1.064711  \n",
              "176447           6.282267           8.013775       0.693147  \n",
              "176448           6.881411           1.519234      -0.693147  \n",
              "176449           6.194405           1.100261       2.302585  \n",
              "\n",
              "[176436 rows x 19 columns]"
            ],
            "text/html": [
              "\n",
              "  <div id=\"df-46b5d155-bd16-4b93-ab65-746ea5c4b66b\" class=\"colab-df-container\">\n",
              "    <div>\n",
              "<style scoped>\n",
              "    .dataframe tbody tr th:only-of-type {\n",
              "        vertical-align: middle;\n",
              "    }\n",
              "\n",
              "    .dataframe tbody tr th {\n",
              "        vertical-align: top;\n",
              "    }\n",
              "\n",
              "    .dataframe thead th {\n",
              "        text-align: right;\n",
              "    }\n",
              "</style>\n",
              "<table border=\"1\" class=\"dataframe\">\n",
              "  <thead>\n",
              "    <tr style=\"text-align: right;\">\n",
              "      <th></th>\n",
              "      <th>item_date</th>\n",
              "      <th>quantity tons</th>\n",
              "      <th>customer</th>\n",
              "      <th>country</th>\n",
              "      <th>status</th>\n",
              "      <th>item type</th>\n",
              "      <th>application</th>\n",
              "      <th>thickness</th>\n",
              "      <th>width</th>\n",
              "      <th>material_ref</th>\n",
              "      <th>product_ref</th>\n",
              "      <th>delivery date</th>\n",
              "      <th>selling_price</th>\n",
              "      <th>selling_price_sqrt</th>\n",
              "      <th>quantity tons_sqrt</th>\n",
              "      <th>thickness_sqrt</th>\n",
              "      <th>selling_price_log</th>\n",
              "      <th>quantity tons_log</th>\n",
              "      <th>thickness_log</th>\n",
              "    </tr>\n",
              "  </thead>\n",
              "  <tbody>\n",
              "    <tr>\n",
              "      <th>0</th>\n",
              "      <td>2021-04-01</td>\n",
              "      <td>54.151139</td>\n",
              "      <td>30156308.0</td>\n",
              "      <td>28.0</td>\n",
              "      <td>Won</td>\n",
              "      <td>W</td>\n",
              "      <td>10.0</td>\n",
              "      <td>2.00</td>\n",
              "      <td>1500.0</td>\n",
              "      <td>DEQ1 S460MC</td>\n",
              "      <td>1.670799e+09</td>\n",
              "      <td>2021-07-01</td>\n",
              "      <td>854.00</td>\n",
              "      <td>29.223278</td>\n",
              "      <td>7.358746</td>\n",
              "      <td>1.414214</td>\n",
              "      <td>6.749931</td>\n",
              "      <td>3.991779</td>\n",
              "      <td>0.693147</td>\n",
              "    </tr>\n",
              "    <tr>\n",
              "      <th>1</th>\n",
              "      <td>2021-04-01</td>\n",
              "      <td>768.024839</td>\n",
              "      <td>30202938.0</td>\n",
              "      <td>25.0</td>\n",
              "      <td>Won</td>\n",
              "      <td>W</td>\n",
              "      <td>41.0</td>\n",
              "      <td>0.80</td>\n",
              "      <td>1210.0</td>\n",
              "      <td>0000000000000000000000000000000000104991</td>\n",
              "      <td>1.668702e+09</td>\n",
              "      <td>2021-04-01</td>\n",
              "      <td>1047.00</td>\n",
              "      <td>32.357379</td>\n",
              "      <td>27.713261</td>\n",
              "      <td>0.894427</td>\n",
              "      <td>6.953684</td>\n",
              "      <td>6.643822</td>\n",
              "      <td>-0.223144</td>\n",
              "    </tr>\n",
              "    <tr>\n",
              "      <th>2</th>\n",
              "      <td>2021-04-01</td>\n",
              "      <td>386.127949</td>\n",
              "      <td>30153963.0</td>\n",
              "      <td>30.0</td>\n",
              "      <td>Won</td>\n",
              "      <td>WI</td>\n",
              "      <td>28.0</td>\n",
              "      <td>0.38</td>\n",
              "      <td>952.0</td>\n",
              "      <td>S0380700</td>\n",
              "      <td>6.283770e+05</td>\n",
              "      <td>2021-01-01</td>\n",
              "      <td>644.33</td>\n",
              "      <td>25.383656</td>\n",
              "      <td>19.650139</td>\n",
              "      <td>0.616441</td>\n",
              "      <td>6.468211</td>\n",
              "      <td>5.956169</td>\n",
              "      <td>-0.967584</td>\n",
              "    </tr>\n",
              "    <tr>\n",
              "      <th>3</th>\n",
              "      <td>2021-04-01</td>\n",
              "      <td>202.411065</td>\n",
              "      <td>30349574.0</td>\n",
              "      <td>32.0</td>\n",
              "      <td>Won</td>\n",
              "      <td>S</td>\n",
              "      <td>59.0</td>\n",
              "      <td>2.30</td>\n",
              "      <td>1317.0</td>\n",
              "      <td>DX51D+ZM310MAO 2.3X1317</td>\n",
              "      <td>1.668702e+09</td>\n",
              "      <td>2021-01-01</td>\n",
              "      <td>768.00</td>\n",
              "      <td>27.712813</td>\n",
              "      <td>14.227124</td>\n",
              "      <td>1.516575</td>\n",
              "      <td>6.643790</td>\n",
              "      <td>5.310301</td>\n",
              "      <td>0.832909</td>\n",
              "    </tr>\n",
              "    <tr>\n",
              "      <th>4</th>\n",
              "      <td>2021-04-01</td>\n",
              "      <td>785.526262</td>\n",
              "      <td>30211560.0</td>\n",
              "      <td>28.0</td>\n",
              "      <td>Won</td>\n",
              "      <td>W</td>\n",
              "      <td>10.0</td>\n",
              "      <td>4.00</td>\n",
              "      <td>2000.0</td>\n",
              "      <td>2_S275JR+AR-CL1</td>\n",
              "      <td>6.406650e+05</td>\n",
              "      <td>2021-03-01</td>\n",
              "      <td>577.00</td>\n",
              "      <td>24.020824</td>\n",
              "      <td>28.027241</td>\n",
              "      <td>2.000000</td>\n",
              "      <td>6.357842</td>\n",
              "      <td>6.666354</td>\n",
              "      <td>1.386294</td>\n",
              "    </tr>\n",
              "    <tr>\n",
              "      <th>...</th>\n",
              "      <td>...</td>\n",
              "      <td>...</td>\n",
              "      <td>...</td>\n",
              "      <td>...</td>\n",
              "      <td>...</td>\n",
              "      <td>...</td>\n",
              "      <td>...</td>\n",
              "      <td>...</td>\n",
              "      <td>...</td>\n",
              "      <td>...</td>\n",
              "      <td>...</td>\n",
              "      <td>...</td>\n",
              "      <td>...</td>\n",
              "      <td>...</td>\n",
              "      <td>...</td>\n",
              "      <td>...</td>\n",
              "      <td>...</td>\n",
              "      <td>...</td>\n",
              "      <td>...</td>\n",
              "    </tr>\n",
              "    <tr>\n",
              "      <th>176445</th>\n",
              "      <td>2020-07-08</td>\n",
              "      <td>36.717238</td>\n",
              "      <td>30213686.0</td>\n",
              "      <td>78.0</td>\n",
              "      <td>Won</td>\n",
              "      <td>W</td>\n",
              "      <td>10.0</td>\n",
              "      <td>8.00</td>\n",
              "      <td>2000.0</td>\n",
              "      <td>S355J2+N-CL1</td>\n",
              "      <td>6.406650e+05</td>\n",
              "      <td>2020-08-01</td>\n",
              "      <td>498.00</td>\n",
              "      <td>22.315914</td>\n",
              "      <td>6.059475</td>\n",
              "      <td>2.828427</td>\n",
              "      <td>6.210600</td>\n",
              "      <td>3.603246</td>\n",
              "      <td>2.079442</td>\n",
              "    </tr>\n",
              "    <tr>\n",
              "      <th>176446</th>\n",
              "      <td>2020-07-08</td>\n",
              "      <td>48.579643</td>\n",
              "      <td>30205078.0</td>\n",
              "      <td>26.0</td>\n",
              "      <td>To be approved</td>\n",
              "      <td>S</td>\n",
              "      <td>10.0</td>\n",
              "      <td>2.90</td>\n",
              "      <td>1780.0</td>\n",
              "      <td>0000000000000000000000000000000701000100</td>\n",
              "      <td>1.641416e+08</td>\n",
              "      <td>2020-08-01</td>\n",
              "      <td>623.00</td>\n",
              "      <td>24.959968</td>\n",
              "      <td>6.969910</td>\n",
              "      <td>1.702939</td>\n",
              "      <td>6.434547</td>\n",
              "      <td>3.883205</td>\n",
              "      <td>1.064711</td>\n",
              "    </tr>\n",
              "    <tr>\n",
              "      <th>176447</th>\n",
              "      <td>2020-07-08</td>\n",
              "      <td>3022.304001</td>\n",
              "      <td>30336279.0</td>\n",
              "      <td>78.0</td>\n",
              "      <td>Won</td>\n",
              "      <td>W</td>\n",
              "      <td>59.0</td>\n",
              "      <td>2.00</td>\n",
              "      <td>1035.0</td>\n",
              "      <td>unknown</td>\n",
              "      <td>6.406650e+05</td>\n",
              "      <td>2020-07-01</td>\n",
              "      <td>535.00</td>\n",
              "      <td>23.130067</td>\n",
              "      <td>54.975485</td>\n",
              "      <td>1.414214</td>\n",
              "      <td>6.282267</td>\n",
              "      <td>8.013775</td>\n",
              "      <td>0.693147</td>\n",
              "    </tr>\n",
              "    <tr>\n",
              "      <th>176448</th>\n",
              "      <td>2020-07-08</td>\n",
              "      <td>4.568723</td>\n",
              "      <td>30231432.0</td>\n",
              "      <td>78.0</td>\n",
              "      <td>Won</td>\n",
              "      <td>W</td>\n",
              "      <td>41.0</td>\n",
              "      <td>0.50</td>\n",
              "      <td>1250.0</td>\n",
              "      <td>QBR03</td>\n",
              "      <td>6.119930e+05</td>\n",
              "      <td>2020-07-01</td>\n",
              "      <td>974.00</td>\n",
              "      <td>31.208973</td>\n",
              "      <td>2.137457</td>\n",
              "      <td>0.707107</td>\n",
              "      <td>6.881411</td>\n",
              "      <td>1.519234</td>\n",
              "      <td>-0.693147</td>\n",
              "    </tr>\n",
              "    <tr>\n",
              "      <th>176449</th>\n",
              "      <td>2020-07-08</td>\n",
              "      <td>3.004949</td>\n",
              "      <td>30213686.0</td>\n",
              "      <td>78.0</td>\n",
              "      <td>Won</td>\n",
              "      <td>W</td>\n",
              "      <td>10.0</td>\n",
              "      <td>10.00</td>\n",
              "      <td>1000.0</td>\n",
              "      <td>S355J2+N-CL1</td>\n",
              "      <td>6.406650e+05</td>\n",
              "      <td>2020-08-01</td>\n",
              "      <td>490.00</td>\n",
              "      <td>22.135944</td>\n",
              "      <td>1.733479</td>\n",
              "      <td>3.162278</td>\n",
              "      <td>6.194405</td>\n",
              "      <td>1.100261</td>\n",
              "      <td>2.302585</td>\n",
              "    </tr>\n",
              "  </tbody>\n",
              "</table>\n",
              "<p>176436 rows × 19 columns</p>\n",
              "</div>\n",
              "    <div class=\"colab-df-buttons\">\n",
              "\n",
              "  <div class=\"colab-df-container\">\n",
              "    <button class=\"colab-df-convert\" onclick=\"convertToInteractive('df-46b5d155-bd16-4b93-ab65-746ea5c4b66b')\"\n",
              "            title=\"Convert this dataframe to an interactive table.\"\n",
              "            style=\"display:none;\">\n",
              "\n",
              "  <svg xmlns=\"http://www.w3.org/2000/svg\" height=\"24px\" viewBox=\"0 -960 960 960\">\n",
              "    <path d=\"M120-120v-720h720v720H120Zm60-500h600v-160H180v160Zm220 220h160v-160H400v160Zm0 220h160v-160H400v160ZM180-400h160v-160H180v160Zm440 0h160v-160H620v160ZM180-180h160v-160H180v160Zm440 0h160v-160H620v160Z\"/>\n",
              "  </svg>\n",
              "    </button>\n",
              "\n",
              "  <style>\n",
              "    .colab-df-container {\n",
              "      display:flex;\n",
              "      gap: 12px;\n",
              "    }\n",
              "\n",
              "    .colab-df-convert {\n",
              "      background-color: #E8F0FE;\n",
              "      border: none;\n",
              "      border-radius: 50%;\n",
              "      cursor: pointer;\n",
              "      display: none;\n",
              "      fill: #1967D2;\n",
              "      height: 32px;\n",
              "      padding: 0 0 0 0;\n",
              "      width: 32px;\n",
              "    }\n",
              "\n",
              "    .colab-df-convert:hover {\n",
              "      background-color: #E2EBFA;\n",
              "      box-shadow: 0px 1px 2px rgba(60, 64, 67, 0.3), 0px 1px 3px 1px rgba(60, 64, 67, 0.15);\n",
              "      fill: #174EA6;\n",
              "    }\n",
              "\n",
              "    .colab-df-buttons div {\n",
              "      margin-bottom: 4px;\n",
              "    }\n",
              "\n",
              "    [theme=dark] .colab-df-convert {\n",
              "      background-color: #3B4455;\n",
              "      fill: #D2E3FC;\n",
              "    }\n",
              "\n",
              "    [theme=dark] .colab-df-convert:hover {\n",
              "      background-color: #434B5C;\n",
              "      box-shadow: 0px 1px 3px 1px rgba(0, 0, 0, 0.15);\n",
              "      filter: drop-shadow(0px 1px 2px rgba(0, 0, 0, 0.3));\n",
              "      fill: #FFFFFF;\n",
              "    }\n",
              "  </style>\n",
              "\n",
              "    <script>\n",
              "      const buttonEl =\n",
              "        document.querySelector('#df-46b5d155-bd16-4b93-ab65-746ea5c4b66b button.colab-df-convert');\n",
              "      buttonEl.style.display =\n",
              "        google.colab.kernel.accessAllowed ? 'block' : 'none';\n",
              "\n",
              "      async function convertToInteractive(key) {\n",
              "        const element = document.querySelector('#df-46b5d155-bd16-4b93-ab65-746ea5c4b66b');\n",
              "        const dataTable =\n",
              "          await google.colab.kernel.invokeFunction('convertToInteractive',\n",
              "                                                    [key], {});\n",
              "        if (!dataTable) return;\n",
              "\n",
              "        const docLinkHtml = 'Like what you see? Visit the ' +\n",
              "          '<a target=\"_blank\" href=https://colab.research.google.com/notebooks/data_table.ipynb>data table notebook</a>'\n",
              "          + ' to learn more about interactive tables.';\n",
              "        element.innerHTML = '';\n",
              "        dataTable['output_type'] = 'display_data';\n",
              "        await google.colab.output.renderOutput(dataTable, element);\n",
              "        const docLink = document.createElement('div');\n",
              "        docLink.innerHTML = docLinkHtml;\n",
              "        element.appendChild(docLink);\n",
              "      }\n",
              "    </script>\n",
              "  </div>\n",
              "\n",
              "\n",
              "<div id=\"df-636f45dc-765b-4827-90a0-3817422eec4b\">\n",
              "  <button class=\"colab-df-quickchart\" onclick=\"quickchart('df-636f45dc-765b-4827-90a0-3817422eec4b')\"\n",
              "            title=\"Suggest charts.\"\n",
              "            style=\"display:none;\">\n",
              "\n",
              "<svg xmlns=\"http://www.w3.org/2000/svg\" height=\"24px\"viewBox=\"0 0 24 24\"\n",
              "     width=\"24px\">\n",
              "    <g>\n",
              "        <path d=\"M19 3H5c-1.1 0-2 .9-2 2v14c0 1.1.9 2 2 2h14c1.1 0 2-.9 2-2V5c0-1.1-.9-2-2-2zM9 17H7v-7h2v7zm4 0h-2V7h2v10zm4 0h-2v-4h2v4z\"/>\n",
              "    </g>\n",
              "</svg>\n",
              "  </button>\n",
              "\n",
              "<style>\n",
              "  .colab-df-quickchart {\n",
              "      --bg-color: #E8F0FE;\n",
              "      --fill-color: #1967D2;\n",
              "      --hover-bg-color: #E2EBFA;\n",
              "      --hover-fill-color: #174EA6;\n",
              "      --disabled-fill-color: #AAA;\n",
              "      --disabled-bg-color: #DDD;\n",
              "  }\n",
              "\n",
              "  [theme=dark] .colab-df-quickchart {\n",
              "      --bg-color: #3B4455;\n",
              "      --fill-color: #D2E3FC;\n",
              "      --hover-bg-color: #434B5C;\n",
              "      --hover-fill-color: #FFFFFF;\n",
              "      --disabled-bg-color: #3B4455;\n",
              "      --disabled-fill-color: #666;\n",
              "  }\n",
              "\n",
              "  .colab-df-quickchart {\n",
              "    background-color: var(--bg-color);\n",
              "    border: none;\n",
              "    border-radius: 50%;\n",
              "    cursor: pointer;\n",
              "    display: none;\n",
              "    fill: var(--fill-color);\n",
              "    height: 32px;\n",
              "    padding: 0;\n",
              "    width: 32px;\n",
              "  }\n",
              "\n",
              "  .colab-df-quickchart:hover {\n",
              "    background-color: var(--hover-bg-color);\n",
              "    box-shadow: 0 1px 2px rgba(60, 64, 67, 0.3), 0 1px 3px 1px rgba(60, 64, 67, 0.15);\n",
              "    fill: var(--button-hover-fill-color);\n",
              "  }\n",
              "\n",
              "  .colab-df-quickchart-complete:disabled,\n",
              "  .colab-df-quickchart-complete:disabled:hover {\n",
              "    background-color: var(--disabled-bg-color);\n",
              "    fill: var(--disabled-fill-color);\n",
              "    box-shadow: none;\n",
              "  }\n",
              "\n",
              "  .colab-df-spinner {\n",
              "    border: 2px solid var(--fill-color);\n",
              "    border-color: transparent;\n",
              "    border-bottom-color: var(--fill-color);\n",
              "    animation:\n",
              "      spin 1s steps(1) infinite;\n",
              "  }\n",
              "\n",
              "  @keyframes spin {\n",
              "    0% {\n",
              "      border-color: transparent;\n",
              "      border-bottom-color: var(--fill-color);\n",
              "      border-left-color: var(--fill-color);\n",
              "    }\n",
              "    20% {\n",
              "      border-color: transparent;\n",
              "      border-left-color: var(--fill-color);\n",
              "      border-top-color: var(--fill-color);\n",
              "    }\n",
              "    30% {\n",
              "      border-color: transparent;\n",
              "      border-left-color: var(--fill-color);\n",
              "      border-top-color: var(--fill-color);\n",
              "      border-right-color: var(--fill-color);\n",
              "    }\n",
              "    40% {\n",
              "      border-color: transparent;\n",
              "      border-right-color: var(--fill-color);\n",
              "      border-top-color: var(--fill-color);\n",
              "    }\n",
              "    60% {\n",
              "      border-color: transparent;\n",
              "      border-right-color: var(--fill-color);\n",
              "    }\n",
              "    80% {\n",
              "      border-color: transparent;\n",
              "      border-right-color: var(--fill-color);\n",
              "      border-bottom-color: var(--fill-color);\n",
              "    }\n",
              "    90% {\n",
              "      border-color: transparent;\n",
              "      border-bottom-color: var(--fill-color);\n",
              "    }\n",
              "  }\n",
              "</style>\n",
              "\n",
              "  <script>\n",
              "    async function quickchart(key) {\n",
              "      const quickchartButtonEl =\n",
              "        document.querySelector('#' + key + ' button');\n",
              "      quickchartButtonEl.disabled = true;  // To prevent multiple clicks.\n",
              "      quickchartButtonEl.classList.add('colab-df-spinner');\n",
              "      try {\n",
              "        const charts = await google.colab.kernel.invokeFunction(\n",
              "            'suggestCharts', [key], {});\n",
              "      } catch (error) {\n",
              "        console.error('Error during call to suggestCharts:', error);\n",
              "      }\n",
              "      quickchartButtonEl.classList.remove('colab-df-spinner');\n",
              "      quickchartButtonEl.classList.add('colab-df-quickchart-complete');\n",
              "    }\n",
              "    (() => {\n",
              "      let quickchartButtonEl =\n",
              "        document.querySelector('#df-636f45dc-765b-4827-90a0-3817422eec4b button');\n",
              "      quickchartButtonEl.style.display =\n",
              "        google.colab.kernel.accessAllowed ? 'block' : 'none';\n",
              "    })();\n",
              "  </script>\n",
              "</div>\n",
              "    </div>\n",
              "  </div>\n"
            ]
          },
          "metadata": {},
          "execution_count": 49
        }
      ],
      "source": [
        "df"
      ]
    },
    {
      "cell_type": "code",
      "execution_count": null,
      "metadata": {
        "id": "K_ye-nj5D3Tv"
      },
      "outputs": [],
      "source": [
        "df.drop(columns=['selling_price_sqrt','quantity tons_sqrt','thickness_sqrt'],inplace=True)"
      ]
    },
    {
      "cell_type": "code",
      "execution_count": null,
      "metadata": {
        "id": "FJ---qkrFThD"
      },
      "outputs": [],
      "source": [
        "material_null=df['material_ref'].str.startswith(\"000000\")\n",
        "replace_null=(material_null==True)\n",
        "df['material_ref'][replace_null]=np.NaN"
      ]
    },
    {
      "cell_type": "code",
      "execution_count": null,
      "metadata": {
        "colab": {
          "base_uri": "https://localhost:8080/"
        },
        "id": "XahtKztkFjy1",
        "outputId": "1d8e9f57-bbd8-40e3-d7f0-2c7fc70d87df"
      },
      "outputs": [
        {
          "output_type": "execute_result",
          "data": {
            "text/plain": [
              "21924"
            ]
          },
          "metadata": {},
          "execution_count": 52
        }
      ],
      "source": [
        "df['material_ref'].isnull().sum()"
      ]
    },
    {
      "cell_type": "code",
      "execution_count": null,
      "metadata": {
        "colab": {
          "base_uri": "https://localhost:8080/"
        },
        "id": "GNvcsFKVFotN",
        "outputId": "46b328fd-7572-4bb3-91cd-4d8c629c9d1b"
      },
      "outputs": [
        {
          "output_type": "execute_result",
          "data": {
            "text/plain": [
              "0"
            ]
          },
          "metadata": {},
          "execution_count": 53
        }
      ],
      "source": [
        "df['material_ref'].fillna(df['material_ref'].mode()[0],inplace=True)\n",
        "df['material_ref'].isnull().sum()"
      ]
    },
    {
      "cell_type": "code",
      "execution_count": null,
      "metadata": {
        "colab": {
          "base_uri": "https://localhost:8080/",
          "height": 634
        },
        "id": "2fISOq8uFuFK",
        "outputId": "227fe8ac-f7f4-4732-ec85-271d3987a31b"
      },
      "outputs": [
        {
          "output_type": "execute_result",
          "data": {
            "text/plain": [
              "         item_date  quantity tons    customer  country          status  \\\n",
              "0       2021-04-01      54.151139  30156308.0     28.0             Won   \n",
              "1       2021-04-01     768.024839  30202938.0     25.0             Won   \n",
              "2       2021-04-01     386.127949  30153963.0     30.0             Won   \n",
              "3       2021-04-01     202.411065  30349574.0     32.0             Won   \n",
              "4       2021-04-01     785.526262  30211560.0     28.0             Won   \n",
              "...            ...            ...         ...      ...             ...   \n",
              "176445  2020-07-08      36.717238  30213686.0     78.0             Won   \n",
              "176446  2020-07-08      48.579643  30205078.0     26.0  To be approved   \n",
              "176447  2020-07-08    3022.304001  30336279.0     78.0             Won   \n",
              "176448  2020-07-08       4.568723  30231432.0     78.0             Won   \n",
              "176449  2020-07-08       3.004949  30213686.0     78.0             Won   \n",
              "\n",
              "       item type  application  thickness   width             material_ref  \\\n",
              "0              W         10.0       2.00  1500.0              DEQ1 S460MC   \n",
              "1              W         41.0       0.80  1210.0                  unknown   \n",
              "2             WI         28.0       0.38   952.0                 S0380700   \n",
              "3              S         59.0       2.30  1317.0  DX51D+ZM310MAO 2.3X1317   \n",
              "4              W         10.0       4.00  2000.0          2_S275JR+AR-CL1   \n",
              "...          ...          ...        ...     ...                      ...   \n",
              "176445         W         10.0       8.00  2000.0             S355J2+N-CL1   \n",
              "176446         S         10.0       2.90  1780.0                  unknown   \n",
              "176447         W         59.0       2.00  1035.0                  unknown   \n",
              "176448         W         41.0       0.50  1250.0                    QBR03   \n",
              "176449         W         10.0      10.00  1000.0             S355J2+N-CL1   \n",
              "\n",
              "         product_ref delivery date  selling_price  selling_price_log  \\\n",
              "0       1.670799e+09    2021-07-01         854.00           6.749931   \n",
              "1       1.668702e+09    2021-04-01        1047.00           6.953684   \n",
              "2       6.283770e+05    2021-01-01         644.33           6.468211   \n",
              "3       1.668702e+09    2021-01-01         768.00           6.643790   \n",
              "4       6.406650e+05    2021-03-01         577.00           6.357842   \n",
              "...              ...           ...            ...                ...   \n",
              "176445  6.406650e+05    2020-08-01         498.00           6.210600   \n",
              "176446  1.641416e+08    2020-08-01         623.00           6.434547   \n",
              "176447  6.406650e+05    2020-07-01         535.00           6.282267   \n",
              "176448  6.119930e+05    2020-07-01         974.00           6.881411   \n",
              "176449  6.406650e+05    2020-08-01         490.00           6.194405   \n",
              "\n",
              "        quantity tons_log  thickness_log  \n",
              "0                3.991779       0.693147  \n",
              "1                6.643822      -0.223144  \n",
              "2                5.956169      -0.967584  \n",
              "3                5.310301       0.832909  \n",
              "4                6.666354       1.386294  \n",
              "...                   ...            ...  \n",
              "176445           3.603246       2.079442  \n",
              "176446           3.883205       1.064711  \n",
              "176447           8.013775       0.693147  \n",
              "176448           1.519234      -0.693147  \n",
              "176449           1.100261       2.302585  \n",
              "\n",
              "[176436 rows x 16 columns]"
            ],
            "text/html": [
              "\n",
              "  <div id=\"df-37e0d39b-1bd2-4c14-bfe5-138d37630596\" class=\"colab-df-container\">\n",
              "    <div>\n",
              "<style scoped>\n",
              "    .dataframe tbody tr th:only-of-type {\n",
              "        vertical-align: middle;\n",
              "    }\n",
              "\n",
              "    .dataframe tbody tr th {\n",
              "        vertical-align: top;\n",
              "    }\n",
              "\n",
              "    .dataframe thead th {\n",
              "        text-align: right;\n",
              "    }\n",
              "</style>\n",
              "<table border=\"1\" class=\"dataframe\">\n",
              "  <thead>\n",
              "    <tr style=\"text-align: right;\">\n",
              "      <th></th>\n",
              "      <th>item_date</th>\n",
              "      <th>quantity tons</th>\n",
              "      <th>customer</th>\n",
              "      <th>country</th>\n",
              "      <th>status</th>\n",
              "      <th>item type</th>\n",
              "      <th>application</th>\n",
              "      <th>thickness</th>\n",
              "      <th>width</th>\n",
              "      <th>material_ref</th>\n",
              "      <th>product_ref</th>\n",
              "      <th>delivery date</th>\n",
              "      <th>selling_price</th>\n",
              "      <th>selling_price_log</th>\n",
              "      <th>quantity tons_log</th>\n",
              "      <th>thickness_log</th>\n",
              "    </tr>\n",
              "  </thead>\n",
              "  <tbody>\n",
              "    <tr>\n",
              "      <th>0</th>\n",
              "      <td>2021-04-01</td>\n",
              "      <td>54.151139</td>\n",
              "      <td>30156308.0</td>\n",
              "      <td>28.0</td>\n",
              "      <td>Won</td>\n",
              "      <td>W</td>\n",
              "      <td>10.0</td>\n",
              "      <td>2.00</td>\n",
              "      <td>1500.0</td>\n",
              "      <td>DEQ1 S460MC</td>\n",
              "      <td>1.670799e+09</td>\n",
              "      <td>2021-07-01</td>\n",
              "      <td>854.00</td>\n",
              "      <td>6.749931</td>\n",
              "      <td>3.991779</td>\n",
              "      <td>0.693147</td>\n",
              "    </tr>\n",
              "    <tr>\n",
              "      <th>1</th>\n",
              "      <td>2021-04-01</td>\n",
              "      <td>768.024839</td>\n",
              "      <td>30202938.0</td>\n",
              "      <td>25.0</td>\n",
              "      <td>Won</td>\n",
              "      <td>W</td>\n",
              "      <td>41.0</td>\n",
              "      <td>0.80</td>\n",
              "      <td>1210.0</td>\n",
              "      <td>unknown</td>\n",
              "      <td>1.668702e+09</td>\n",
              "      <td>2021-04-01</td>\n",
              "      <td>1047.00</td>\n",
              "      <td>6.953684</td>\n",
              "      <td>6.643822</td>\n",
              "      <td>-0.223144</td>\n",
              "    </tr>\n",
              "    <tr>\n",
              "      <th>2</th>\n",
              "      <td>2021-04-01</td>\n",
              "      <td>386.127949</td>\n",
              "      <td>30153963.0</td>\n",
              "      <td>30.0</td>\n",
              "      <td>Won</td>\n",
              "      <td>WI</td>\n",
              "      <td>28.0</td>\n",
              "      <td>0.38</td>\n",
              "      <td>952.0</td>\n",
              "      <td>S0380700</td>\n",
              "      <td>6.283770e+05</td>\n",
              "      <td>2021-01-01</td>\n",
              "      <td>644.33</td>\n",
              "      <td>6.468211</td>\n",
              "      <td>5.956169</td>\n",
              "      <td>-0.967584</td>\n",
              "    </tr>\n",
              "    <tr>\n",
              "      <th>3</th>\n",
              "      <td>2021-04-01</td>\n",
              "      <td>202.411065</td>\n",
              "      <td>30349574.0</td>\n",
              "      <td>32.0</td>\n",
              "      <td>Won</td>\n",
              "      <td>S</td>\n",
              "      <td>59.0</td>\n",
              "      <td>2.30</td>\n",
              "      <td>1317.0</td>\n",
              "      <td>DX51D+ZM310MAO 2.3X1317</td>\n",
              "      <td>1.668702e+09</td>\n",
              "      <td>2021-01-01</td>\n",
              "      <td>768.00</td>\n",
              "      <td>6.643790</td>\n",
              "      <td>5.310301</td>\n",
              "      <td>0.832909</td>\n",
              "    </tr>\n",
              "    <tr>\n",
              "      <th>4</th>\n",
              "      <td>2021-04-01</td>\n",
              "      <td>785.526262</td>\n",
              "      <td>30211560.0</td>\n",
              "      <td>28.0</td>\n",
              "      <td>Won</td>\n",
              "      <td>W</td>\n",
              "      <td>10.0</td>\n",
              "      <td>4.00</td>\n",
              "      <td>2000.0</td>\n",
              "      <td>2_S275JR+AR-CL1</td>\n",
              "      <td>6.406650e+05</td>\n",
              "      <td>2021-03-01</td>\n",
              "      <td>577.00</td>\n",
              "      <td>6.357842</td>\n",
              "      <td>6.666354</td>\n",
              "      <td>1.386294</td>\n",
              "    </tr>\n",
              "    <tr>\n",
              "      <th>...</th>\n",
              "      <td>...</td>\n",
              "      <td>...</td>\n",
              "      <td>...</td>\n",
              "      <td>...</td>\n",
              "      <td>...</td>\n",
              "      <td>...</td>\n",
              "      <td>...</td>\n",
              "      <td>...</td>\n",
              "      <td>...</td>\n",
              "      <td>...</td>\n",
              "      <td>...</td>\n",
              "      <td>...</td>\n",
              "      <td>...</td>\n",
              "      <td>...</td>\n",
              "      <td>...</td>\n",
              "      <td>...</td>\n",
              "    </tr>\n",
              "    <tr>\n",
              "      <th>176445</th>\n",
              "      <td>2020-07-08</td>\n",
              "      <td>36.717238</td>\n",
              "      <td>30213686.0</td>\n",
              "      <td>78.0</td>\n",
              "      <td>Won</td>\n",
              "      <td>W</td>\n",
              "      <td>10.0</td>\n",
              "      <td>8.00</td>\n",
              "      <td>2000.0</td>\n",
              "      <td>S355J2+N-CL1</td>\n",
              "      <td>6.406650e+05</td>\n",
              "      <td>2020-08-01</td>\n",
              "      <td>498.00</td>\n",
              "      <td>6.210600</td>\n",
              "      <td>3.603246</td>\n",
              "      <td>2.079442</td>\n",
              "    </tr>\n",
              "    <tr>\n",
              "      <th>176446</th>\n",
              "      <td>2020-07-08</td>\n",
              "      <td>48.579643</td>\n",
              "      <td>30205078.0</td>\n",
              "      <td>26.0</td>\n",
              "      <td>To be approved</td>\n",
              "      <td>S</td>\n",
              "      <td>10.0</td>\n",
              "      <td>2.90</td>\n",
              "      <td>1780.0</td>\n",
              "      <td>unknown</td>\n",
              "      <td>1.641416e+08</td>\n",
              "      <td>2020-08-01</td>\n",
              "      <td>623.00</td>\n",
              "      <td>6.434547</td>\n",
              "      <td>3.883205</td>\n",
              "      <td>1.064711</td>\n",
              "    </tr>\n",
              "    <tr>\n",
              "      <th>176447</th>\n",
              "      <td>2020-07-08</td>\n",
              "      <td>3022.304001</td>\n",
              "      <td>30336279.0</td>\n",
              "      <td>78.0</td>\n",
              "      <td>Won</td>\n",
              "      <td>W</td>\n",
              "      <td>59.0</td>\n",
              "      <td>2.00</td>\n",
              "      <td>1035.0</td>\n",
              "      <td>unknown</td>\n",
              "      <td>6.406650e+05</td>\n",
              "      <td>2020-07-01</td>\n",
              "      <td>535.00</td>\n",
              "      <td>6.282267</td>\n",
              "      <td>8.013775</td>\n",
              "      <td>0.693147</td>\n",
              "    </tr>\n",
              "    <tr>\n",
              "      <th>176448</th>\n",
              "      <td>2020-07-08</td>\n",
              "      <td>4.568723</td>\n",
              "      <td>30231432.0</td>\n",
              "      <td>78.0</td>\n",
              "      <td>Won</td>\n",
              "      <td>W</td>\n",
              "      <td>41.0</td>\n",
              "      <td>0.50</td>\n",
              "      <td>1250.0</td>\n",
              "      <td>QBR03</td>\n",
              "      <td>6.119930e+05</td>\n",
              "      <td>2020-07-01</td>\n",
              "      <td>974.00</td>\n",
              "      <td>6.881411</td>\n",
              "      <td>1.519234</td>\n",
              "      <td>-0.693147</td>\n",
              "    </tr>\n",
              "    <tr>\n",
              "      <th>176449</th>\n",
              "      <td>2020-07-08</td>\n",
              "      <td>3.004949</td>\n",
              "      <td>30213686.0</td>\n",
              "      <td>78.0</td>\n",
              "      <td>Won</td>\n",
              "      <td>W</td>\n",
              "      <td>10.0</td>\n",
              "      <td>10.00</td>\n",
              "      <td>1000.0</td>\n",
              "      <td>S355J2+N-CL1</td>\n",
              "      <td>6.406650e+05</td>\n",
              "      <td>2020-08-01</td>\n",
              "      <td>490.00</td>\n",
              "      <td>6.194405</td>\n",
              "      <td>1.100261</td>\n",
              "      <td>2.302585</td>\n",
              "    </tr>\n",
              "  </tbody>\n",
              "</table>\n",
              "<p>176436 rows × 16 columns</p>\n",
              "</div>\n",
              "    <div class=\"colab-df-buttons\">\n",
              "\n",
              "  <div class=\"colab-df-container\">\n",
              "    <button class=\"colab-df-convert\" onclick=\"convertToInteractive('df-37e0d39b-1bd2-4c14-bfe5-138d37630596')\"\n",
              "            title=\"Convert this dataframe to an interactive table.\"\n",
              "            style=\"display:none;\">\n",
              "\n",
              "  <svg xmlns=\"http://www.w3.org/2000/svg\" height=\"24px\" viewBox=\"0 -960 960 960\">\n",
              "    <path d=\"M120-120v-720h720v720H120Zm60-500h600v-160H180v160Zm220 220h160v-160H400v160Zm0 220h160v-160H400v160ZM180-400h160v-160H180v160Zm440 0h160v-160H620v160ZM180-180h160v-160H180v160Zm440 0h160v-160H620v160Z\"/>\n",
              "  </svg>\n",
              "    </button>\n",
              "\n",
              "  <style>\n",
              "    .colab-df-container {\n",
              "      display:flex;\n",
              "      gap: 12px;\n",
              "    }\n",
              "\n",
              "    .colab-df-convert {\n",
              "      background-color: #E8F0FE;\n",
              "      border: none;\n",
              "      border-radius: 50%;\n",
              "      cursor: pointer;\n",
              "      display: none;\n",
              "      fill: #1967D2;\n",
              "      height: 32px;\n",
              "      padding: 0 0 0 0;\n",
              "      width: 32px;\n",
              "    }\n",
              "\n",
              "    .colab-df-convert:hover {\n",
              "      background-color: #E2EBFA;\n",
              "      box-shadow: 0px 1px 2px rgba(60, 64, 67, 0.3), 0px 1px 3px 1px rgba(60, 64, 67, 0.15);\n",
              "      fill: #174EA6;\n",
              "    }\n",
              "\n",
              "    .colab-df-buttons div {\n",
              "      margin-bottom: 4px;\n",
              "    }\n",
              "\n",
              "    [theme=dark] .colab-df-convert {\n",
              "      background-color: #3B4455;\n",
              "      fill: #D2E3FC;\n",
              "    }\n",
              "\n",
              "    [theme=dark] .colab-df-convert:hover {\n",
              "      background-color: #434B5C;\n",
              "      box-shadow: 0px 1px 3px 1px rgba(0, 0, 0, 0.15);\n",
              "      filter: drop-shadow(0px 1px 2px rgba(0, 0, 0, 0.3));\n",
              "      fill: #FFFFFF;\n",
              "    }\n",
              "  </style>\n",
              "\n",
              "    <script>\n",
              "      const buttonEl =\n",
              "        document.querySelector('#df-37e0d39b-1bd2-4c14-bfe5-138d37630596 button.colab-df-convert');\n",
              "      buttonEl.style.display =\n",
              "        google.colab.kernel.accessAllowed ? 'block' : 'none';\n",
              "\n",
              "      async function convertToInteractive(key) {\n",
              "        const element = document.querySelector('#df-37e0d39b-1bd2-4c14-bfe5-138d37630596');\n",
              "        const dataTable =\n",
              "          await google.colab.kernel.invokeFunction('convertToInteractive',\n",
              "                                                    [key], {});\n",
              "        if (!dataTable) return;\n",
              "\n",
              "        const docLinkHtml = 'Like what you see? Visit the ' +\n",
              "          '<a target=\"_blank\" href=https://colab.research.google.com/notebooks/data_table.ipynb>data table notebook</a>'\n",
              "          + ' to learn more about interactive tables.';\n",
              "        element.innerHTML = '';\n",
              "        dataTable['output_type'] = 'display_data';\n",
              "        await google.colab.output.renderOutput(dataTable, element);\n",
              "        const docLink = document.createElement('div');\n",
              "        docLink.innerHTML = docLinkHtml;\n",
              "        element.appendChild(docLink);\n",
              "      }\n",
              "    </script>\n",
              "  </div>\n",
              "\n",
              "\n",
              "<div id=\"df-7b691449-067b-482d-9702-794661d38ff8\">\n",
              "  <button class=\"colab-df-quickchart\" onclick=\"quickchart('df-7b691449-067b-482d-9702-794661d38ff8')\"\n",
              "            title=\"Suggest charts.\"\n",
              "            style=\"display:none;\">\n",
              "\n",
              "<svg xmlns=\"http://www.w3.org/2000/svg\" height=\"24px\"viewBox=\"0 0 24 24\"\n",
              "     width=\"24px\">\n",
              "    <g>\n",
              "        <path d=\"M19 3H5c-1.1 0-2 .9-2 2v14c0 1.1.9 2 2 2h14c1.1 0 2-.9 2-2V5c0-1.1-.9-2-2-2zM9 17H7v-7h2v7zm4 0h-2V7h2v10zm4 0h-2v-4h2v4z\"/>\n",
              "    </g>\n",
              "</svg>\n",
              "  </button>\n",
              "\n",
              "<style>\n",
              "  .colab-df-quickchart {\n",
              "      --bg-color: #E8F0FE;\n",
              "      --fill-color: #1967D2;\n",
              "      --hover-bg-color: #E2EBFA;\n",
              "      --hover-fill-color: #174EA6;\n",
              "      --disabled-fill-color: #AAA;\n",
              "      --disabled-bg-color: #DDD;\n",
              "  }\n",
              "\n",
              "  [theme=dark] .colab-df-quickchart {\n",
              "      --bg-color: #3B4455;\n",
              "      --fill-color: #D2E3FC;\n",
              "      --hover-bg-color: #434B5C;\n",
              "      --hover-fill-color: #FFFFFF;\n",
              "      --disabled-bg-color: #3B4455;\n",
              "      --disabled-fill-color: #666;\n",
              "  }\n",
              "\n",
              "  .colab-df-quickchart {\n",
              "    background-color: var(--bg-color);\n",
              "    border: none;\n",
              "    border-radius: 50%;\n",
              "    cursor: pointer;\n",
              "    display: none;\n",
              "    fill: var(--fill-color);\n",
              "    height: 32px;\n",
              "    padding: 0;\n",
              "    width: 32px;\n",
              "  }\n",
              "\n",
              "  .colab-df-quickchart:hover {\n",
              "    background-color: var(--hover-bg-color);\n",
              "    box-shadow: 0 1px 2px rgba(60, 64, 67, 0.3), 0 1px 3px 1px rgba(60, 64, 67, 0.15);\n",
              "    fill: var(--button-hover-fill-color);\n",
              "  }\n",
              "\n",
              "  .colab-df-quickchart-complete:disabled,\n",
              "  .colab-df-quickchart-complete:disabled:hover {\n",
              "    background-color: var(--disabled-bg-color);\n",
              "    fill: var(--disabled-fill-color);\n",
              "    box-shadow: none;\n",
              "  }\n",
              "\n",
              "  .colab-df-spinner {\n",
              "    border: 2px solid var(--fill-color);\n",
              "    border-color: transparent;\n",
              "    border-bottom-color: var(--fill-color);\n",
              "    animation:\n",
              "      spin 1s steps(1) infinite;\n",
              "  }\n",
              "\n",
              "  @keyframes spin {\n",
              "    0% {\n",
              "      border-color: transparent;\n",
              "      border-bottom-color: var(--fill-color);\n",
              "      border-left-color: var(--fill-color);\n",
              "    }\n",
              "    20% {\n",
              "      border-color: transparent;\n",
              "      border-left-color: var(--fill-color);\n",
              "      border-top-color: var(--fill-color);\n",
              "    }\n",
              "    30% {\n",
              "      border-color: transparent;\n",
              "      border-left-color: var(--fill-color);\n",
              "      border-top-color: var(--fill-color);\n",
              "      border-right-color: var(--fill-color);\n",
              "    }\n",
              "    40% {\n",
              "      border-color: transparent;\n",
              "      border-right-color: var(--fill-color);\n",
              "      border-top-color: var(--fill-color);\n",
              "    }\n",
              "    60% {\n",
              "      border-color: transparent;\n",
              "      border-right-color: var(--fill-color);\n",
              "    }\n",
              "    80% {\n",
              "      border-color: transparent;\n",
              "      border-right-color: var(--fill-color);\n",
              "      border-bottom-color: var(--fill-color);\n",
              "    }\n",
              "    90% {\n",
              "      border-color: transparent;\n",
              "      border-bottom-color: var(--fill-color);\n",
              "    }\n",
              "  }\n",
              "</style>\n",
              "\n",
              "  <script>\n",
              "    async function quickchart(key) {\n",
              "      const quickchartButtonEl =\n",
              "        document.querySelector('#' + key + ' button');\n",
              "      quickchartButtonEl.disabled = true;  // To prevent multiple clicks.\n",
              "      quickchartButtonEl.classList.add('colab-df-spinner');\n",
              "      try {\n",
              "        const charts = await google.colab.kernel.invokeFunction(\n",
              "            'suggestCharts', [key], {});\n",
              "      } catch (error) {\n",
              "        console.error('Error during call to suggestCharts:', error);\n",
              "      }\n",
              "      quickchartButtonEl.classList.remove('colab-df-spinner');\n",
              "      quickchartButtonEl.classList.add('colab-df-quickchart-complete');\n",
              "    }\n",
              "    (() => {\n",
              "      let quickchartButtonEl =\n",
              "        document.querySelector('#df-7b691449-067b-482d-9702-794661d38ff8 button');\n",
              "      quickchartButtonEl.style.display =\n",
              "        google.colab.kernel.accessAllowed ? 'block' : 'none';\n",
              "    })();\n",
              "  </script>\n",
              "</div>\n",
              "    </div>\n",
              "  </div>\n"
            ]
          },
          "metadata": {},
          "execution_count": 54
        }
      ],
      "source": [
        "df"
      ]
    },
    {
      "cell_type": "code",
      "execution_count": null,
      "metadata": {
        "id": "fI2ba15G3SXL"
      },
      "outputs": [],
      "source": [
        "#df[['quantity tons','selling_price']].plot.scatter(x='quantity tons',y='selling_price')\n",
        "#df[['quantity tons','selling_price']].corr()\n"
      ]
    },
    {
      "cell_type": "code",
      "execution_count": null,
      "metadata": {
        "id": "B19J2TMN5jgz"
      },
      "outputs": [],
      "source": [
        "#df[['quantity tons_log','selling_price_log']].plot.scatter(x='quantity tons_log',y='selling_price_log')\n",
        "#df[['quantity tons_log','selling_price_log']].corr()"
      ]
    },
    {
      "cell_type": "code",
      "execution_count": null,
      "metadata": {
        "id": "ydZAHnZK4Iz4"
      },
      "outputs": [],
      "source": [
        "#df[['thickness','selling_price']].plot.scatter(x='thickness',y='selling_price')\n",
        "#df[['thickness','selling_price']].corr()"
      ]
    },
    {
      "cell_type": "code",
      "execution_count": null,
      "metadata": {
        "id": "oWJV94ri5Zms"
      },
      "outputs": [],
      "source": [
        "\n",
        "#df[['thickness_log','selling_price_log']].plot.scatter(x='thickness_log',y='selling_price_log')\n",
        "#df[['thickness_log','selling_price_log']].corr()\n",
        "#df[['thickness_log','selling_price_log']].plot.scatter(x='thickness_log',y='selling_price_log')\n",
        "#df[['thickness_log','selling_price_log']].corr()"
      ]
    },
    {
      "cell_type": "code",
      "execution_count": null,
      "metadata": {
        "colab": {
          "base_uri": "https://localhost:8080/",
          "height": 501
        },
        "id": "7ne89x2t5uQm",
        "outputId": "69b40a8b-3210-450f-bb63-0cac96a4e28a"
      },
      "outputs": [
        {
          "output_type": "execute_result",
          "data": {
            "text/plain": [
              "<Axes: xlabel='item type'>"
            ]
          },
          "metadata": {},
          "execution_count": 60
        },
        {
          "output_type": "display_data",
          "data": {
            "text/plain": [
              "<Figure size 640x480 with 1 Axes>"
            ],
            "image/png": "[encoded data removed]"
          },
          "metadata": {}
        }
      ],
      "source": [
        "df.groupby('item type')['selling_price_log'].mean().sort_values().plot(kind='bar')\n"
      ]
    },
    {
      "cell_type": "code",
      "execution_count": null,
      "metadata": {
        "colab": {
          "base_uri": "https://localhost:8080/",
          "height": 559
        },
        "id": "QPNftX3s9FwY",
        "outputId": "4b9eb57c-2411-4b9f-f5dc-691dff4b19a8"
      },
      "outputs": [
        {
          "output_type": "execute_result",
          "data": {
            "text/plain": [
              "<Axes: xlabel='status'>"
            ]
          },
          "metadata": {},
          "execution_count": 61
        },
        {
          "output_type": "display_data",
          "data": {
            "text/plain": [
              "<Figure size 640x480 with 1 Axes>"
            ],
            "image/png": "[encoded data removed]"
          },
          "metadata": {}
        }
      ],
      "source": [
        "df.groupby('status')['selling_price_log'].mean().sort_values().plot(kind='bar')"
      ]
    },
    {
      "cell_type": "code",
      "execution_count": null,
      "metadata": {
        "colab": {
          "base_uri": "https://localhost:8080/",
          "height": 687
        },
        "id": "Np6DZ0WsGyDx",
        "outputId": "f1417029-795e-4ec0-c751-befa4a51632c"
      },
      "outputs": [
        {
          "output_type": "display_data",
          "data": {
            "text/plain": [
              "<Figure size 2000x1000 with 2 Axes>"
            ],
            "image/png": "[encoded data removed]"
          },
          "metadata": {}
        }
      ],
      "source": [
        "# Select only numeric columns from your DataFrame\n",
        "numeric_data = df.select_dtypes(include=[np.number])\n",
        "\n",
        "# Create a correlation matrix for numeric columns\n",
        "correlation_matrix = numeric_data.corr().abs()\n",
        "#if this code not working add [255] code top of this code\n",
        "# Create a heatmap\n",
        "plt.figure(figsize=(20, 10))\n",
        "sns.heatmap(correlation_matrix, annot=True)\n",
        "plt.show()"
      ]
    },
    {
      "cell_type": "code",
      "execution_count": null,
      "metadata": {
        "colab": {
          "base_uri": "https://localhost:8080/",
          "height": 559
        },
        "id": "LRiHtYrYHgdK",
        "outputId": "70f61457-a4cd-44fa-dec9-5e97ceebd764"
      },
      "outputs": [
        {
          "output_type": "execute_result",
          "data": {
            "text/plain": [
              "<Axes: >"
            ]
          },
          "metadata": {},
          "execution_count": 63
        },
        {
          "output_type": "display_data",
          "data": {
            "text/plain": [
              "<Figure size 640x480 with 2 Axes>"
            ],
            "image/png": "[encoded data removed]"
          },
          "metadata": {}
        }
      ],
      "source": [
        "x=df[['quantity tons_log','application','thickness_log','width','selling_price_log','country','customer','product_ref']].corr()\n",
        "sns.heatmap(x, annot=True, cmap=\"YlGnBu\")"
      ]
    },
    {
      "cell_type": "code",
      "execution_count": null,
      "metadata": {
        "colab": {
          "base_uri": "https://localhost:8080/"
        },
        "id": "65oqXw4uOeFG",
        "outputId": "dc968ace-d06a-4380-cdbf-1fa76e80775f"
      },
      "outputs": [
        {
          "output_type": "stream",
          "name": "stdout",
          "text": [
            "['W' 'WI' 'S' 'Others' 'PL' 'IPL' 'SLAWR']\n"
          ]
        }
      ],
      "source": [
        "unique_item_types = df['item type'].unique()\n",
        "\n",
        "print(unique_item_types)"
      ]
    },
    {
      "cell_type": "code",
      "execution_count": null,
      "metadata": {
        "colab": {
          "base_uri": "https://localhost:8080/"
        },
        "id": "b30NPGnOO3m5",
        "outputId": "78b21fef-38a6-49a0-fac1-ddde7670ced3"
      },
      "outputs": [
        {
          "output_type": "stream",
          "name": "stdout",
          "text": [
            "['Won' 'Draft' 'To be approved' 'Lost' 'Not lost for AM' 'Wonderful'\n",
            " 'Revised' 'Offered' 'Offerable']\n"
          ]
        }
      ],
      "source": [
        "unique_status = df['status'].unique()\n",
        "\n",
        "print(unique_status)"
      ]
    },
    {
      "cell_type": "code",
      "execution_count": null,
      "metadata": {
        "id": "XwIHvPxKNr4Q"
      },
      "outputs": [],
      "source": [
        "# encoding categorical variables\n",
        "a = OneHotEncoder(handle_unknown='ignore')\n",
        "a.fit(df[['item type']])\n",
        "a1= a.fit_transform(df[['item type']]).toarray()\n",
        "b = OneHotEncoder(handle_unknown='ignore')\n",
        "b.fit(df[['status']])\n",
        "b2 = b.fit_transform(df[['status']]).toarray()"
      ]
    },
    {
      "cell_type": "code",
      "execution_count": null,
      "metadata": {
        "colab": {
          "base_uri": "https://localhost:8080/"
        },
        "id": "DgAPSsn-PwKj",
        "outputId": "21c7f5bb-9e39-4d1e-f6e9-ff3bf54c2b33"
      },
      "outputs": [
        {
          "output_type": "execute_result",
          "data": {
            "text/plain": [
              "array([[0., 0., 0., ..., 0., 1., 0.],\n",
              "       [0., 0., 0., ..., 0., 1., 0.],\n",
              "       [0., 0., 0., ..., 0., 0., 1.],\n",
              "       ...,\n",
              "       [0., 0., 0., ..., 0., 1., 0.],\n",
              "       [0., 0., 0., ..., 0., 1., 0.],\n",
              "       [0., 0., 0., ..., 0., 1., 0.]])"
            ]
          },
          "metadata": {},
          "execution_count": 67
        }
      ],
      "source": [
        "a1"
      ]
    },
    {
      "cell_type": "code",
      "execution_count": null,
      "metadata": {
        "colab": {
          "base_uri": "https://localhost:8080/",
          "height": 634
        },
        "id": "4q4AeMN2OKlS",
        "outputId": "cb7a6b6f-2709-450e-dd9b-a1a3c0c26acd"
      },
      "outputs": [
        {
          "output_type": "execute_result",
          "data": {
            "text/plain": [
              "         item_date  quantity tons    customer  country          status  \\\n",
              "0       2021-04-01      54.151139  30156308.0     28.0             Won   \n",
              "1       2021-04-01     768.024839  30202938.0     25.0             Won   \n",
              "2       2021-04-01     386.127949  30153963.0     30.0             Won   \n",
              "3       2021-04-01     202.411065  30349574.0     32.0             Won   \n",
              "4       2021-04-01     785.526262  30211560.0     28.0             Won   \n",
              "...            ...            ...         ...      ...             ...   \n",
              "176445  2020-07-08      36.717238  30213686.0     78.0             Won   \n",
              "176446  2020-07-08      48.579643  30205078.0     26.0  To be approved   \n",
              "176447  2020-07-08    3022.304001  30336279.0     78.0             Won   \n",
              "176448  2020-07-08       4.568723  30231432.0     78.0             Won   \n",
              "176449  2020-07-08       3.004949  30213686.0     78.0             Won   \n",
              "\n",
              "       item type  application  thickness   width             material_ref  \\\n",
              "0              W         10.0       2.00  1500.0              DEQ1 S460MC   \n",
              "1              W         41.0       0.80  1210.0                  unknown   \n",
              "2             WI         28.0       0.38   952.0                 S0380700   \n",
              "3              S         59.0       2.30  1317.0  DX51D+ZM310MAO 2.3X1317   \n",
              "4              W         10.0       4.00  2000.0          2_S275JR+AR-CL1   \n",
              "...          ...          ...        ...     ...                      ...   \n",
              "176445         W         10.0       8.00  2000.0             S355J2+N-CL1   \n",
              "176446         S         10.0       2.90  1780.0                  unknown   \n",
              "176447         W         59.0       2.00  1035.0                  unknown   \n",
              "176448         W         41.0       0.50  1250.0                    QBR03   \n",
              "176449         W         10.0      10.00  1000.0             S355J2+N-CL1   \n",
              "\n",
              "         product_ref delivery date  selling_price  selling_price_log  \\\n",
              "0       1.670799e+09    2021-07-01         854.00           6.749931   \n",
              "1       1.668702e+09    2021-04-01        1047.00           6.953684   \n",
              "2       6.283770e+05    2021-01-01         644.33           6.468211   \n",
              "3       1.668702e+09    2021-01-01         768.00           6.643790   \n",
              "4       6.406650e+05    2021-03-01         577.00           6.357842   \n",
              "...              ...           ...            ...                ...   \n",
              "176445  6.406650e+05    2020-08-01         498.00           6.210600   \n",
              "176446  1.641416e+08    2020-08-01         623.00           6.434547   \n",
              "176447  6.406650e+05    2020-07-01         535.00           6.282267   \n",
              "176448  6.119930e+05    2020-07-01         974.00           6.881411   \n",
              "176449  6.406650e+05    2020-08-01         490.00           6.194405   \n",
              "\n",
              "        quantity tons_log  thickness_log  \n",
              "0                3.991779       0.693147  \n",
              "1                6.643822      -0.223144  \n",
              "2                5.956169      -0.967584  \n",
              "3                5.310301       0.832909  \n",
              "4                6.666354       1.386294  \n",
              "...                   ...            ...  \n",
              "176445           3.603246       2.079442  \n",
              "176446           3.883205       1.064711  \n",
              "176447           8.013775       0.693147  \n",
              "176448           1.519234      -0.693147  \n",
              "176449           1.100261       2.302585  \n",
              "\n",
              "[176436 rows x 16 columns]"
            ],
            "text/html": [
              "\n",
              "  <div id=\"df-012a98f7-93a4-4158-9e99-c5a6433e28e2\" class=\"colab-df-container\">\n",
              "    <div>\n",
              "<style scoped>\n",
              "    .dataframe tbody tr th:only-of-type {\n",
              "        vertical-align: middle;\n",
              "    }\n",
              "\n",
              "    .dataframe tbody tr th {\n",
              "        vertical-align: top;\n",
              "    }\n",
              "\n",
              "    .dataframe thead th {\n",
              "        text-align: right;\n",
              "    }\n",
              "</style>\n",
              "<table border=\"1\" class=\"dataframe\">\n",
              "  <thead>\n",
              "    <tr style=\"text-align: right;\">\n",
              "      <th></th>\n",
              "      <th>item_date</th>\n",
              "      <th>quantity tons</th>\n",
              "      <th>customer</th>\n",
              "      <th>country</th>\n",
              "      <th>status</th>\n",
              "      <th>item type</th>\n",
              "      <th>application</th>\n",
              "      <th>thickness</th>\n",
              "      <th>width</th>\n",
              "      <th>material_ref</th>\n",
              "      <th>product_ref</th>\n",
              "      <th>delivery date</th>\n",
              "      <th>selling_price</th>\n",
              "      <th>selling_price_log</th>\n",
              "      <th>quantity tons_log</th>\n",
              "      <th>thickness_log</th>\n",
              "    </tr>\n",
              "  </thead>\n",
              "  <tbody>\n",
              "    <tr>\n",
              "      <th>0</th>\n",
              "      <td>2021-04-01</td>\n",
              "      <td>54.151139</td>\n",
              "      <td>30156308.0</td>\n",
              "      <td>28.0</td>\n",
              "      <td>Won</td>\n",
              "      <td>W</td>\n",
              "      <td>10.0</td>\n",
              "      <td>2.00</td>\n",
              "      <td>1500.0</td>\n",
              "      <td>DEQ1 S460MC</td>\n",
              "      <td>1.670799e+09</td>\n",
              "      <td>2021-07-01</td>\n",
              "      <td>854.00</td>\n",
              "      <td>6.749931</td>\n",
              "      <td>3.991779</td>\n",
              "      <td>0.693147</td>\n",
              "    </tr>\n",
              "    <tr>\n",
              "      <th>1</th>\n",
              "      <td>2021-04-01</td>\n",
              "      <td>768.024839</td>\n",
              "      <td>30202938.0</td>\n",
              "      <td>25.0</td>\n",
              "      <td>Won</td>\n",
              "      <td>W</td>\n",
              "      <td>41.0</td>\n",
              "      <td>0.80</td>\n",
              "      <td>1210.0</td>\n",
              "      <td>unknown</td>\n",
              "      <td>1.668702e+09</td>\n",
              "      <td>2021-04-01</td>\n",
              "      <td>1047.00</td>\n",
              "      <td>6.953684</td>\n",
              "      <td>6.643822</td>\n",
              "      <td>-0.223144</td>\n",
              "    </tr>\n",
              "    <tr>\n",
              "      <th>2</th>\n",
              "      <td>2021-04-01</td>\n",
              "      <td>386.127949</td>\n",
              "      <td>30153963.0</td>\n",
              "      <td>30.0</td>\n",
              "      <td>Won</td>\n",
              "      <td>WI</td>\n",
              "      <td>28.0</td>\n",
              "      <td>0.38</td>\n",
              "      <td>952.0</td>\n",
              "      <td>S0380700</td>\n",
              "      <td>6.283770e+05</td>\n",
              "      <td>2021-01-01</td>\n",
              "      <td>644.33</td>\n",
              "      <td>6.468211</td>\n",
              "      <td>5.956169</td>\n",
              "      <td>-0.967584</td>\n",
              "    </tr>\n",
              "    <tr>\n",
              "      <th>3</th>\n",
              "      <td>2021-04-01</td>\n",
              "      <td>202.411065</td>\n",
              "      <td>30349574.0</td>\n",
              "      <td>32.0</td>\n",
              "      <td>Won</td>\n",
              "      <td>S</td>\n",
              "      <td>59.0</td>\n",
              "      <td>2.30</td>\n",
              "      <td>1317.0</td>\n",
              "      <td>DX51D+ZM310MAO 2.3X1317</td>\n",
              "      <td>1.668702e+09</td>\n",
              "      <td>2021-01-01</td>\n",
              "      <td>768.00</td>\n",
              "      <td>6.643790</td>\n",
              "      <td>5.310301</td>\n",
              "      <td>0.832909</td>\n",
              "    </tr>\n",
              "    <tr>\n",
              "      <th>4</th>\n",
              "      <td>2021-04-01</td>\n",
              "      <td>785.526262</td>\n",
              "      <td>30211560.0</td>\n",
              "      <td>28.0</td>\n",
              "      <td>Won</td>\n",
              "      <td>W</td>\n",
              "      <td>10.0</td>\n",
              "      <td>4.00</td>\n",
              "      <td>2000.0</td>\n",
              "      <td>2_S275JR+AR-CL1</td>\n",
              "      <td>6.406650e+05</td>\n",
              "      <td>2021-03-01</td>\n",
              "      <td>577.00</td>\n",
              "      <td>6.357842</td>\n",
              "      <td>6.666354</td>\n",
              "      <td>1.386294</td>\n",
              "    </tr>\n",
              "    <tr>\n",
              "      <th>...</th>\n",
              "      <td>...</td>\n",
              "      <td>...</td>\n",
              "      <td>...</td>\n",
              "      <td>...</td>\n",
              "      <td>...</td>\n",
              "      <td>...</td>\n",
              "      <td>...</td>\n",
              "      <td>...</td>\n",
              "      <td>...</td>\n",
              "      <td>...</td>\n",
              "      <td>...</td>\n",
              "      <td>...</td>\n",
              "      <td>...</td>\n",
              "      <td>...</td>\n",
              "      <td>...</td>\n",
              "      <td>...</td>\n",
              "    </tr>\n",
              "    <tr>\n",
              "      <th>176445</th>\n",
              "      <td>2020-07-08</td>\n",
              "      <td>36.717238</td>\n",
              "      <td>30213686.0</td>\n",
              "      <td>78.0</td>\n",
              "      <td>Won</td>\n",
              "      <td>W</td>\n",
              "      <td>10.0</td>\n",
              "      <td>8.00</td>\n",
              "      <td>2000.0</td>\n",
              "      <td>S355J2+N-CL1</td>\n",
              "      <td>6.406650e+05</td>\n",
              "      <td>2020-08-01</td>\n",
              "      <td>498.00</td>\n",
              "      <td>6.210600</td>\n",
              "      <td>3.603246</td>\n",
              "      <td>2.079442</td>\n",
              "    </tr>\n",
              "    <tr>\n",
              "      <th>176446</th>\n",
              "      <td>2020-07-08</td>\n",
              "      <td>48.579643</td>\n",
              "      <td>30205078.0</td>\n",
              "      <td>26.0</td>\n",
              "      <td>To be approved</td>\n",
              "      <td>S</td>\n",
              "      <td>10.0</td>\n",
              "      <td>2.90</td>\n",
              "      <td>1780.0</td>\n",
              "      <td>unknown</td>\n",
              "      <td>1.641416e+08</td>\n",
              "      <td>2020-08-01</td>\n",
              "      <td>623.00</td>\n",
              "      <td>6.434547</td>\n",
              "      <td>3.883205</td>\n",
              "      <td>1.064711</td>\n",
              "    </tr>\n",
              "    <tr>\n",
              "      <th>176447</th>\n",
              "      <td>2020-07-08</td>\n",
              "      <td>3022.304001</td>\n",
              "      <td>30336279.0</td>\n",
              "      <td>78.0</td>\n",
              "      <td>Won</td>\n",
              "      <td>W</td>\n",
              "      <td>59.0</td>\n",
              "      <td>2.00</td>\n",
              "      <td>1035.0</td>\n",
              "      <td>unknown</td>\n",
              "      <td>6.406650e+05</td>\n",
              "      <td>2020-07-01</td>\n",
              "      <td>535.00</td>\n",
              "      <td>6.282267</td>\n",
              "      <td>8.013775</td>\n",
              "      <td>0.693147</td>\n",
              "    </tr>\n",
              "    <tr>\n",
              "      <th>176448</th>\n",
              "      <td>2020-07-08</td>\n",
              "      <td>4.568723</td>\n",
              "      <td>30231432.0</td>\n",
              "      <td>78.0</td>\n",
              "      <td>Won</td>\n",
              "      <td>W</td>\n",
              "      <td>41.0</td>\n",
              "      <td>0.50</td>\n",
              "      <td>1250.0</td>\n",
              "      <td>QBR03</td>\n",
              "      <td>6.119930e+05</td>\n",
              "      <td>2020-07-01</td>\n",
              "      <td>974.00</td>\n",
              "      <td>6.881411</td>\n",
              "      <td>1.519234</td>\n",
              "      <td>-0.693147</td>\n",
              "    </tr>\n",
              "    <tr>\n",
              "      <th>176449</th>\n",
              "      <td>2020-07-08</td>\n",
              "      <td>3.004949</td>\n",
              "      <td>30213686.0</td>\n",
              "      <td>78.0</td>\n",
              "      <td>Won</td>\n",
              "      <td>W</td>\n",
              "      <td>10.0</td>\n",
              "      <td>10.00</td>\n",
              "      <td>1000.0</td>\n",
              "      <td>S355J2+N-CL1</td>\n",
              "      <td>6.406650e+05</td>\n",
              "      <td>2020-08-01</td>\n",
              "      <td>490.00</td>\n",
              "      <td>6.194405</td>\n",
              "      <td>1.100261</td>\n",
              "      <td>2.302585</td>\n",
              "    </tr>\n",
              "  </tbody>\n",
              "</table>\n",
              "<p>176436 rows × 16 columns</p>\n",
              "</div>\n",
              "    <div class=\"colab-df-buttons\">\n",
              "\n",
              "  <div class=\"colab-df-container\">\n",
              "    <button class=\"colab-df-convert\" onclick=\"convertToInteractive('df-012a98f7-93a4-4158-9e99-c5a6433e28e2')\"\n",
              "            title=\"Convert this dataframe to an interactive table.\"\n",
              "            style=\"display:none;\">\n",
              "\n",
              "  <svg xmlns=\"http://www.w3.org/2000/svg\" height=\"24px\" viewBox=\"0 -960 960 960\">\n",
              "    <path d=\"M120-120v-720h720v720H120Zm60-500h600v-160H180v160Zm220 220h160v-160H400v160Zm0 220h160v-160H400v160ZM180-400h160v-160H180v160Zm440 0h160v-160H620v160ZM180-180h160v-160H180v160Zm440 0h160v-160H620v160Z\"/>\n",
              "  </svg>\n",
              "    </button>\n",
              "\n",
              "  <style>\n",
              "    .colab-df-container {\n",
              "      display:flex;\n",
              "      gap: 12px;\n",
              "    }\n",
              "\n",
              "    .colab-df-convert {\n",
              "      background-color: #E8F0FE;\n",
              "      border: none;\n",
              "      border-radius: 50%;\n",
              "      cursor: pointer;\n",
              "      display: none;\n",
              "      fill: #1967D2;\n",
              "      height: 32px;\n",
              "      padding: 0 0 0 0;\n",
              "      width: 32px;\n",
              "    }\n",
              "\n",
              "    .colab-df-convert:hover {\n",
              "      background-color: #E2EBFA;\n",
              "      box-shadow: 0px 1px 2px rgba(60, 64, 67, 0.3), 0px 1px 3px 1px rgba(60, 64, 67, 0.15);\n",
              "      fill: #174EA6;\n",
              "    }\n",
              "\n",
              "    .colab-df-buttons div {\n",
              "      margin-bottom: 4px;\n",
              "    }\n",
              "\n",
              "    [theme=dark] .colab-df-convert {\n",
              "      background-color: #3B4455;\n",
              "      fill: #D2E3FC;\n",
              "    }\n",
              "\n",
              "    [theme=dark] .colab-df-convert:hover {\n",
              "      background-color: #434B5C;\n",
              "      box-shadow: 0px 1px 3px 1px rgba(0, 0, 0, 0.15);\n",
              "      filter: drop-shadow(0px 1px 2px rgba(0, 0, 0, 0.3));\n",
              "      fill: #FFFFFF;\n",
              "    }\n",
              "  </style>\n",
              "\n",
              "    <script>\n",
              "      const buttonEl =\n",
              "        document.querySelector('#df-012a98f7-93a4-4158-9e99-c5a6433e28e2 button.colab-df-convert');\n",
              "      buttonEl.style.display =\n",
              "        google.colab.kernel.accessAllowed ? 'block' : 'none';\n",
              "\n",
              "      async function convertToInteractive(key) {\n",
              "        const element = document.querySelector('#df-012a98f7-93a4-4158-9e99-c5a6433e28e2');\n",
              "        const dataTable =\n",
              "          await google.colab.kernel.invokeFunction('convertToInteractive',\n",
              "                                                    [key], {});\n",
              "        if (!dataTable) return;\n",
              "\n",
              "        const docLinkHtml = 'Like what you see? Visit the ' +\n",
              "          '<a target=\"_blank\" href=https://colab.research.google.com/notebooks/data_table.ipynb>data table notebook</a>'\n",
              "          + ' to learn more about interactive tables.';\n",
              "        element.innerHTML = '';\n",
              "        dataTable['output_type'] = 'display_data';\n",
              "        await google.colab.output.renderOutput(dataTable, element);\n",
              "        const docLink = document.createElement('div');\n",
              "        docLink.innerHTML = docLinkHtml;\n",
              "        element.appendChild(docLink);\n",
              "      }\n",
              "    </script>\n",
              "  </div>\n",
              "\n",
              "\n",
              "<div id=\"df-03f28f9e-3ffe-44b5-89e7-058be66b6120\">\n",
              "  <button class=\"colab-df-quickchart\" onclick=\"quickchart('df-03f28f9e-3ffe-44b5-89e7-058be66b6120')\"\n",
              "            title=\"Suggest charts.\"\n",
              "            style=\"display:none;\">\n",
              "\n",
              "<svg xmlns=\"http://www.w3.org/2000/svg\" height=\"24px\"viewBox=\"0 0 24 24\"\n",
              "     width=\"24px\">\n",
              "    <g>\n",
              "        <path d=\"M19 3H5c-1.1 0-2 .9-2 2v14c0 1.1.9 2 2 2h14c1.1 0 2-.9 2-2V5c0-1.1-.9-2-2-2zM9 17H7v-7h2v7zm4 0h-2V7h2v10zm4 0h-2v-4h2v4z\"/>\n",
              "    </g>\n",
              "</svg>\n",
              "  </button>\n",
              "\n",
              "<style>\n",
              "  .colab-df-quickchart {\n",
              "      --bg-color: #E8F0FE;\n",
              "      --fill-color: #1967D2;\n",
              "      --hover-bg-color: #E2EBFA;\n",
              "      --hover-fill-color: #174EA6;\n",
              "      --disabled-fill-color: #AAA;\n",
              "      --disabled-bg-color: #DDD;\n",
              "  }\n",
              "\n",
              "  [theme=dark] .colab-df-quickchart {\n",
              "      --bg-color: #3B4455;\n",
              "      --fill-color: #D2E3FC;\n",
              "      --hover-bg-color: #434B5C;\n",
              "      --hover-fill-color: #FFFFFF;\n",
              "      --disabled-bg-color: #3B4455;\n",
              "      --disabled-fill-color: #666;\n",
              "  }\n",
              "\n",
              "  .colab-df-quickchart {\n",
              "    background-color: var(--bg-color);\n",
              "    border: none;\n",
              "    border-radius: 50%;\n",
              "    cursor: pointer;\n",
              "    display: none;\n",
              "    fill: var(--fill-color);\n",
              "    height: 32px;\n",
              "    padding: 0;\n",
              "    width: 32px;\n",
              "  }\n",
              "\n",
              "  .colab-df-quickchart:hover {\n",
              "    background-color: var(--hover-bg-color);\n",
              "    box-shadow: 0 1px 2px rgba(60, 64, 67, 0.3), 0 1px 3px 1px rgba(60, 64, 67, 0.15);\n",
              "    fill: var(--button-hover-fill-color);\n",
              "  }\n",
              "\n",
              "  .colab-df-quickchart-complete:disabled,\n",
              "  .colab-df-quickchart-complete:disabled:hover {\n",
              "    background-color: var(--disabled-bg-color);\n",
              "    fill: var(--disabled-fill-color);\n",
              "    box-shadow: none;\n",
              "  }\n",
              "\n",
              "  .colab-df-spinner {\n",
              "    border: 2px solid var(--fill-color);\n",
              "    border-color: transparent;\n",
              "    border-bottom-color: var(--fill-color);\n",
              "    animation:\n",
              "      spin 1s steps(1) infinite;\n",
              "  }\n",
              "\n",
              "  @keyframes spin {\n",
              "    0% {\n",
              "      border-color: transparent;\n",
              "      border-bottom-color: var(--fill-color);\n",
              "      border-left-color: var(--fill-color);\n",
              "    }\n",
              "    20% {\n",
              "      border-color: transparent;\n",
              "      border-left-color: var(--fill-color);\n",
              "      border-top-color: var(--fill-color);\n",
              "    }\n",
              "    30% {\n",
              "      border-color: transparent;\n",
              "      border-left-color: var(--fill-color);\n",
              "      border-top-color: var(--fill-color);\n",
              "      border-right-color: var(--fill-color);\n",
              "    }\n",
              "    40% {\n",
              "      border-color: transparent;\n",
              "      border-right-color: var(--fill-color);\n",
              "      border-top-color: var(--fill-color);\n",
              "    }\n",
              "    60% {\n",
              "      border-color: transparent;\n",
              "      border-right-color: var(--fill-color);\n",
              "    }\n",
              "    80% {\n",
              "      border-color: transparent;\n",
              "      border-right-color: var(--fill-color);\n",
              "      border-bottom-color: var(--fill-color);\n",
              "    }\n",
              "    90% {\n",
              "      border-color: transparent;\n",
              "      border-bottom-color: var(--fill-color);\n",
              "    }\n",
              "  }\n",
              "</style>\n",
              "\n",
              "  <script>\n",
              "    async function quickchart(key) {\n",
              "      const quickchartButtonEl =\n",
              "        document.querySelector('#' + key + ' button');\n",
              "      quickchartButtonEl.disabled = true;  // To prevent multiple clicks.\n",
              "      quickchartButtonEl.classList.add('colab-df-spinner');\n",
              "      try {\n",
              "        const charts = await google.colab.kernel.invokeFunction(\n",
              "            'suggestCharts', [key], {});\n",
              "      } catch (error) {\n",
              "        console.error('Error during call to suggestCharts:', error);\n",
              "      }\n",
              "      quickchartButtonEl.classList.remove('colab-df-spinner');\n",
              "      quickchartButtonEl.classList.add('colab-df-quickchart-complete');\n",
              "    }\n",
              "    (() => {\n",
              "      let quickchartButtonEl =\n",
              "        document.querySelector('#df-03f28f9e-3ffe-44b5-89e7-058be66b6120 button');\n",
              "      quickchartButtonEl.style.display =\n",
              "        google.colab.kernel.accessAllowed ? 'block' : 'none';\n",
              "    })();\n",
              "  </script>\n",
              "</div>\n",
              "    </div>\n",
              "  </div>\n"
            ]
          },
          "metadata": {},
          "execution_count": 68
        }
      ],
      "source": [
        "df"
      ]
    },
    {
      "cell_type": "code",
      "execution_count": null,
      "metadata": {
        "id": "OTDU0o4yT6Cs"
      },
      "outputs": [],
      "source": [
        "X=df[['quantity tons_log','status','item type','application','thickness_log','width','country','customer','product_ref']]\n",
        "y=df['selling_price_log']"
      ]
    },
    {
      "cell_type": "code",
      "execution_count": null,
      "metadata": {
        "id": "8m_sHuWuQDPW"
      },
      "outputs": [],
      "source": [
        "# independent features after encoding\n",
        "import numpy as np\n",
        "X= np.concatenate((df[['quantity tons_log',\n",
        "                       'application',\n",
        "                       'thickness_log',\n",
        "                       'width','country',\n",
        "                       'customer',\n",
        "                       'product_ref']].values, a1, b2), axis=1)\n",
        "\n",
        "y=df['selling_price_log']\n",
        "\n",
        "\n"
      ]
    },
    {
      "cell_type": "code",
      "execution_count": null,
      "metadata": {
        "id": "rrAU_UP9vlQZ"
      },
      "outputs": [],
      "source": [
        "X_train, X_test, y_train, y_test = train_test_split(X, y, test_size=0.1, random_state=42)"
      ]
    },
    {
      "cell_type": "code",
      "execution_count": null,
      "metadata": {
        "id": "hQEBpMRlx4-h"
      },
      "outputs": [],
      "source": [
        "#from sklearn.preprocessing import StandardScaler()\n",
        "scaler=StandardScaler()\n",
        "scaler.fit(X_train)\n",
        "\n",
        "X_train=scaler.transform(X_train)\n",
        "X_test=scaler.transform(X_test)"
      ]
    },
    {
      "cell_type": "markdown",
      "source": [
        "**Linear regression**"
      ],
      "metadata": {
        "id": "kBanMPogVMF5"
      }
    },
    {
      "cell_type": "code",
      "execution_count": null,
      "metadata": {
        "colab": {
          "base_uri": "https://localhost:8080/"
        },
        "id": "95NcnIf3yWGg",
        "outputId": "cc67bfb7-3c50-43e7-e219-322e958d6db7"
      },
      "outputs": [
        {
          "output_type": "execute_result",
          "data": {
            "text/plain": [
              "(array([-9.91232332e-03,  1.20593724e-02, -1.12760655e-01,  3.66532768e-03,\n",
              "        -9.74543186e-03,  2.88353388e-03,  8.92887573e-03, -1.94872402e+08,\n",
              "        -8.93179646e+08, -2.66614961e+09, -7.40732293e+09, -3.82206311e+07,\n",
              "        -7.52229020e+09, -8.17667950e+08,  1.09153603e+09,  3.24930139e+09,\n",
              "         2.58126600e+09,  6.57089011e+07,  1.43943762e+08,  1.26941471e+09,\n",
              "         1.25769943e+09,  3.98639727e+09,  2.07795679e+07]),\n",
              " 6.631193115877435)"
            ]
          },
          "metadata": {},
          "execution_count": 73
        }
      ],
      "source": [
        "from sklearn.linear_model import LinearRegression\n",
        "lr_model = LinearRegression()\n",
        "lr_model.fit(X_train,y_train)\n",
        "lr_model.coef_,lr_model.intercept_\n"
      ]
    },
    {
      "cell_type": "code",
      "execution_count": null,
      "metadata": {
        "id": "LvzU-hBW0lpE"
      },
      "outputs": [],
      "source": [
        "#r2_score(y_test,lr_model.predict(X_test))"
      ]
    },
    {
      "cell_type": "code",
      "execution_count": null,
      "metadata": {
        "colab": {
          "base_uri": "https://localhost:8080/"
        },
        "id": "5vQXaTfxC5LJ",
        "outputId": "07d053b7-eba9-4d43-def0-13447674641e"
      },
      "outputs": [
        {
          "output_type": "execute_result",
          "data": {
            "text/plain": [
              "0.8555774432282812"
            ]
          },
          "metadata": {},
          "execution_count": 75
        }
      ],
      "source": [
        "lr_model.score(X_test, y_test)"
      ]
    },
    {
      "cell_type": "code",
      "execution_count": null,
      "metadata": {
        "colab": {
          "base_uri": "https://localhost:8080/"
        },
        "id": "I_yg6Jmf2JDH",
        "outputId": "84dd0812-7a1b-43a3-c5bd-e286e58c8a92"
      },
      "outputs": [
        {
          "output_type": "stream",
          "name": "stdout",
          "text": [
            "0.8623051937061023\n",
            "0.8555774432282812\n"
          ]
        }
      ],
      "source": [
        "lr = LinearRegression()\n",
        "lr.fit(X_train, y_train)\n",
        "print(lr.score(X_train, y_train))\n",
        "print(lr.score(X_test, y_test))"
      ]
    },
    {
      "cell_type": "code",
      "execution_count": 122,
      "metadata": {
        "id": "0Xh13hVTLzV5",
        "colab": {
          "base_uri": "https://localhost:8080/"
        },
        "outputId": "6f1ed77d-047d-4377-9585-46492a90a834"
      },
      "outputs": [
        {
          "output_type": "execute_result",
          "data": {
            "text/plain": [
              "-5.686381669559604e+22"
            ]
          },
          "metadata": {},
          "execution_count": 122
        }
      ],
      "source": [
        "from sklearn.model_selection import cross_val_score\n",
        "#synatx : cross_val_score(model, fts_train, target_train, bins).mean()\n",
        "cross_val_lr_model=cross_val_score(lr_model,X_train,y_train,cv=10).mean()\n",
        "cross_val_lr_model"
      ]
    },
    {
      "cell_type": "markdown",
      "source": [
        "**Decision Tree Regression**"
      ],
      "metadata": {
        "id": "lU_uO0QoVWlY"
      }
    },
    {
      "cell_type": "markdown",
      "source": [
        " **Choosing the best of depth Value**"
      ],
      "metadata": {
        "id": "lKKODFvBVjnJ"
      }
    },
    {
      "cell_type": "code",
      "execution_count": null,
      "metadata": {
        "colab": {
          "base_uri": "https://localhost:8080/"
        },
        "id": "-NB4ZdKZIj4_",
        "outputId": "48603040-e919-4880-9275-413a7204d703"
      },
      "outputs": [
        {
          "output_type": "stream",
          "name": "stdout",
          "text": [
            "Depth :  1  train Score  :  0.820667642127563 cross_val_score :  0.8206745252210151\n",
            "Depth :  2  train Score  :  0.8693711466447538 cross_val_score :  0.8694027978082994\n",
            "Depth :  3  train Score  :  0.8776874228170599 cross_val_score :  0.8776323731044249\n",
            "Depth :  4  train Score  :  0.8843191782922232 cross_val_score :  0.8841729975526331\n",
            "Depth :  5  train Score  :  0.8902304340037481 cross_val_score :  0.887283368243413\n",
            "Depth :  6  train Score  :  0.8930464429273128 cross_val_score :  0.890010086035591\n",
            "Depth :  7  train Score  :  0.8960152724062401 cross_val_score :  0.8926198035623351\n",
            "Depth :  8  train Score  :  0.8998630416694862 cross_val_score :  0.8960839346208939\n",
            "Depth :  9  train Score  :  0.9055540919024727 cross_val_score :  0.9002283017558718\n",
            "Depth :  10  train Score  :  0.9107145201840003 cross_val_score :  0.904301018282719\n",
            "Depth :  11  train Score  :  0.916109479472244 cross_val_score :  0.9073799653428697\n",
            "Depth :  12  train Score  :  0.9236156259631074 cross_val_score :  0.9118101491532233\n",
            "Depth :  13  train Score  :  0.9291546992852333 cross_val_score :  0.9145022674955321\n",
            "Depth :  14  train Score  :  0.9348691467991632 cross_val_score :  0.9171764386380806\n",
            "Depth :  15  train Score  :  0.9409989711781308 cross_val_score :  0.918595156792725\n",
            "Depth :  16  train Score  :  0.9468428490361172 cross_val_score :  0.9165118795414002\n",
            "Depth :  17  train Score  :  0.9524149190054924 cross_val_score :  0.9188680425192235\n",
            "Depth :  18  train Score  :  0.9579597120679092 cross_val_score :  0.9156962930202381\n",
            "Depth :  19  train Score  :  0.9633024107416336 cross_val_score :  0.9169635619096743\n"
          ]
        }
      ],
      "source": [
        "from sklearn.tree import DecisionTreeRegressor\n",
        "\n",
        "max_depth=np.arange(1,20)\n",
        "cross_val_dt=[]\n",
        "for d in max_depth:\n",
        "  dt_regressor= DecisionTreeRegressor(max_depth=d, random_state=0)\n",
        "  dt_regressor.fit(X_train,y_train)\n",
        "  print(\"Depth : \", d, \" train Score  : \", dt_regressor.score(X_train,y_train), \"cross_val_score : \", cross_val_score(dt_regressor,X_train,y_train,cv = 10).mean())\n",
        "  cross_val_dt.append(cross_val_score(dt_regressor,X_train,y_train,cv = 10).mean())"
      ]
    },
    {
      "cell_type": "code",
      "execution_count": null,
      "metadata": {
        "colab": {
          "base_uri": "https://localhost:8080/"
        },
        "id": "HoD32lLcJlz5",
        "outputId": "505fec26-9b59-46ed-d6f5-c4229ecb097b"
      },
      "outputs": [
        {
          "output_type": "execute_result",
          "data": {
            "text/plain": [
              "0.9188680425192235"
            ]
          },
          "metadata": {},
          "execution_count": 81
        }
      ],
      "source": [
        "cross_val_dt_regressor=max(cross_val_dt)\n",
        "cross_val_dt_regressor"
      ]
    },
    {
      "cell_type": "code",
      "execution_count": null,
      "metadata": {
        "colab": {
          "base_uri": "https://localhost:8080/"
        },
        "id": "wHhdknY2J1np",
        "outputId": "88f63dce-96b0-46ab-9ffe-aab0119ea938"
      },
      "outputs": [
        {
          "output_type": "stream",
          "name": "stdout",
          "text": [
            "The best depth is 16 and Cross_val_score is: 0.9188680425192235\n"
          ]
        }
      ],
      "source": [
        "print(\"The best depth is 16 and Cross_val_score is:\",cross_val_dt_regressor)"
      ]
    },
    {
      "cell_type": "markdown",
      "source": [
        "**Implementing Decision Tree Regression**"
      ],
      "metadata": {
        "id": "8RtfALcBVpFS"
      }
    },
    {
      "cell_type": "code",
      "execution_count": null,
      "metadata": {
        "colab": {
          "base_uri": "https://localhost:8080/",
          "height": 74
        },
        "id": "Rorre2_EJ6vT",
        "outputId": "032eea21-817f-4d9d-b280-5d9823b5387f"
      },
      "outputs": [
        {
          "output_type": "execute_result",
          "data": {
            "text/plain": [
              "DecisionTreeRegressor(max_depth=16, random_state=0)"
            ],
            "text/html": [
              "<style>#sk-container-id-1 {color: black;background-color: white;}#sk-container-id-1 pre{padding: 0;}#sk-container-id-1 div.sk-toggleable {background-color: white;}#sk-container-id-1 label.sk-toggleable__label {cursor: pointer;display: block;width: 100%;margin-bottom: 0;padding: 0.3em;box-sizing: border-box;text-align: center;}#sk-container-id-1 label.sk-toggleable__label-arrow:before {content: \"▸\";float: left;margin-right: 0.25em;color: #696969;}#sk-container-id-1 label.sk-toggleable__label-arrow:hover:before {color: black;}#sk-container-id-1 div.sk-estimator:hover label.sk-toggleable__label-arrow:before {color: black;}#sk-container-id-1 div.sk-toggleable__content {max-height: 0;max-width: 0;overflow: hidden;text-align: left;background-color: #f0f8ff;}#sk-container-id-1 div.sk-toggleable__content pre {margin: 0.2em;color: black;border-radius: 0.25em;background-color: #f0f8ff;}#sk-container-id-1 input.sk-toggleable__control:checked~div.sk-toggleable__content {max-height: 200px;max-width: 100%;overflow: auto;}#sk-container-id-1 input.sk-toggleable__control:checked~label.sk-toggleable__label-arrow:before {content: \"▾\";}#sk-container-id-1 div.sk-estimator input.sk-toggleable__control:checked~label.sk-toggleable__label {background-color: #d4ebff;}#sk-container-id-1 div.sk-label input.sk-toggleable__control:checked~label.sk-toggleable__label {background-color: #d4ebff;}#sk-container-id-1 input.sk-hidden--visually {border: 0;clip: rect(1px 1px 1px 1px);clip: rect(1px, 1px, 1px, 1px);height: 1px;margin: -1px;overflow: hidden;padding: 0;position: absolute;width: 1px;}#sk-container-id-1 div.sk-estimator {font-family: monospace;background-color: #f0f8ff;border: 1px dotted black;border-radius: 0.25em;box-sizing: border-box;margin-bottom: 0.5em;}#sk-container-id-1 div.sk-estimator:hover {background-color: #d4ebff;}#sk-container-id-1 div.sk-parallel-item::after {content: \"\";width: 100%;border-bottom: 1px solid gray;flex-grow: 1;}#sk-container-id-1 div.sk-label:hover label.sk-toggleable__label {background-color: #d4ebff;}#sk-container-id-1 div.sk-serial::before {content: \"\";position: absolute;border-left: 1px solid gray;box-sizing: border-box;top: 0;bottom: 0;left: 50%;z-index: 0;}#sk-container-id-1 div.sk-serial {display: flex;flex-direction: column;align-items: center;background-color: white;padding-right: 0.2em;padding-left: 0.2em;position: relative;}#sk-container-id-1 div.sk-item {position: relative;z-index: 1;}#sk-container-id-1 div.sk-parallel {display: flex;align-items: stretch;justify-content: center;background-color: white;position: relative;}#sk-container-id-1 div.sk-item::before, #sk-container-id-1 div.sk-parallel-item::before {content: \"\";position: absolute;border-left: 1px solid gray;box-sizing: border-box;top: 0;bottom: 0;left: 50%;z-index: -1;}#sk-container-id-1 div.sk-parallel-item {display: flex;flex-direction: column;z-index: 1;position: relative;background-color: white;}#sk-container-id-1 div.sk-parallel-item:first-child::after {align-self: flex-end;width: 50%;}#sk-container-id-1 div.sk-parallel-item:last-child::after {align-self: flex-start;width: 50%;}#sk-container-id-1 div.sk-parallel-item:only-child::after {width: 0;}#sk-container-id-1 div.sk-dashed-wrapped {border: 1px dashed gray;margin: 0 0.4em 0.5em 0.4em;box-sizing: border-box;padding-bottom: 0.4em;background-color: white;}#sk-container-id-1 div.sk-label label {font-family: monospace;font-weight: bold;display: inline-block;line-height: 1.2em;}#sk-container-id-1 div.sk-label-container {text-align: center;}#sk-container-id-1 div.sk-container {/* jupyter's `normalize.less` sets `[hidden] { display: none; }` but bootstrap.min.css set `[hidden] { display: none !important; }` so we also need the `!important` here to be able to override the default hidden behavior on the sphinx rendered scikit-learn.org. See: https://github.com/scikit-learn/scikit-learn/issues/21755 */display: inline-block !important;position: relative;}#sk-container-id-1 div.sk-text-repr-fallback {display: none;}</style><div id=\"sk-container-id-1\" class=\"sk-top-container\"><div class=\"sk-text-repr-fallback\"><pre>DecisionTreeRegressor(max_depth=16, random_state=0)</pre><b>In a Jupyter environment, please rerun this cell to show the HTML representation or trust the notebook. <br />On GitHub, the HTML representation is unable to render, please try loading this page with nbviewer.org.</b></div><div class=\"sk-container\" hidden><div class=\"sk-item\"><div class=\"sk-estimator sk-toggleable\"><input class=\"sk-toggleable__control sk-hidden--visually\" id=\"sk-estimator-id-1\" type=\"checkbox\" checked><label for=\"sk-estimator-id-1\" class=\"sk-toggleable__label sk-toggleable__label-arrow\">DecisionTreeRegressor</label><div class=\"sk-toggleable__content\"><pre>DecisionTreeRegressor(max_depth=16, random_state=0)</pre></div></div></div></div></div>"
            ]
          },
          "metadata": {},
          "execution_count": 83
        }
      ],
      "source": [
        "dt_regressor=DecisionTreeRegressor(max_depth=17, random_state=0)\n",
        "dt_regressor.fit(X_train,y_train)"
      ]
    },
    {
      "cell_type": "code",
      "execution_count": null,
      "metadata": {
        "colab": {
          "base_uri": "https://localhost:8080/"
        },
        "id": "ryHxyWDNKGUf",
        "outputId": "9eeadf51-f897-499a-dbd4-900b202295da"
      },
      "outputs": [
        {
          "output_type": "execute_result",
          "data": {
            "text/plain": [
              "0.9165118795414002"
            ]
          },
          "metadata": {},
          "execution_count": 84
        }
      ],
      "source": [
        "cross_val_dt_regressor=cross_val_score(dt_regressor,X_train,y_train,cv=10).mean()\n",
        "cross_val_dt_regressor"
      ]
    },
    {
      "cell_type": "code",
      "execution_count": null,
      "metadata": {
        "colab": {
          "base_uri": "https://localhost:8080/",
          "height": 519
        },
        "id": "u_BLb1cyKO-G",
        "outputId": "43c69b0e-f52f-4307-96db-c3cbbc6d2506"
      },
      "outputs": [
        {
          "output_type": "execute_result",
          "data": {
            "text/plain": [
              "    Importance            Feature\n",
              "14    0.866741  quantity tons_log\n",
              "6     0.067384        application\n",
              "5     0.016000          item type\n",
              "0     0.012205          item_date\n",
              "4     0.010401             status\n",
              "2     0.007887           customer\n",
              "3     0.005880            country\n",
              "1     0.004672      quantity tons\n",
              "12    0.001532      selling_price\n",
              "10    0.001412        product_ref\n",
              "9     0.000336       material_ref\n",
              "13    0.000052  selling_price_log\n",
              "8     0.000015              width\n",
              "7     0.000000          thickness\n",
              "11    0.000000      delivery date"
            ],
            "text/html": [
              "\n",
              "  <div id=\"df-5e98a07c-4a4e-4ef1-bc29-dcb42328abcd\" class=\"colab-df-container\">\n",
              "    <div>\n",
              "<style scoped>\n",
              "    .dataframe tbody tr th:only-of-type {\n",
              "        vertical-align: middle;\n",
              "    }\n",
              "\n",
              "    .dataframe tbody tr th {\n",
              "        vertical-align: top;\n",
              "    }\n",
              "\n",
              "    .dataframe thead th {\n",
              "        text-align: right;\n",
              "    }\n",
              "</style>\n",
              "<table border=\"1\" class=\"dataframe\">\n",
              "  <thead>\n",
              "    <tr style=\"text-align: right;\">\n",
              "      <th></th>\n",
              "      <th>Importance</th>\n",
              "      <th>Feature</th>\n",
              "    </tr>\n",
              "  </thead>\n",
              "  <tbody>\n",
              "    <tr>\n",
              "      <th>14</th>\n",
              "      <td>0.866741</td>\n",
              "      <td>quantity tons_log</td>\n",
              "    </tr>\n",
              "    <tr>\n",
              "      <th>6</th>\n",
              "      <td>0.067384</td>\n",
              "      <td>application</td>\n",
              "    </tr>\n",
              "    <tr>\n",
              "      <th>5</th>\n",
              "      <td>0.016000</td>\n",
              "      <td>item type</td>\n",
              "    </tr>\n",
              "    <tr>\n",
              "      <th>0</th>\n",
              "      <td>0.012205</td>\n",
              "      <td>item_date</td>\n",
              "    </tr>\n",
              "    <tr>\n",
              "      <th>4</th>\n",
              "      <td>0.010401</td>\n",
              "      <td>status</td>\n",
              "    </tr>\n",
              "    <tr>\n",
              "      <th>2</th>\n",
              "      <td>0.007887</td>\n",
              "      <td>customer</td>\n",
              "    </tr>\n",
              "    <tr>\n",
              "      <th>3</th>\n",
              "      <td>0.005880</td>\n",
              "      <td>country</td>\n",
              "    </tr>\n",
              "    <tr>\n",
              "      <th>1</th>\n",
              "      <td>0.004672</td>\n",
              "      <td>quantity tons</td>\n",
              "    </tr>\n",
              "    <tr>\n",
              "      <th>12</th>\n",
              "      <td>0.001532</td>\n",
              "      <td>selling_price</td>\n",
              "    </tr>\n",
              "    <tr>\n",
              "      <th>10</th>\n",
              "      <td>0.001412</td>\n",
              "      <td>product_ref</td>\n",
              "    </tr>\n",
              "    <tr>\n",
              "      <th>9</th>\n",
              "      <td>0.000336</td>\n",
              "      <td>material_ref</td>\n",
              "    </tr>\n",
              "    <tr>\n",
              "      <th>13</th>\n",
              "      <td>0.000052</td>\n",
              "      <td>selling_price_log</td>\n",
              "    </tr>\n",
              "    <tr>\n",
              "      <th>8</th>\n",
              "      <td>0.000015</td>\n",
              "      <td>width</td>\n",
              "    </tr>\n",
              "    <tr>\n",
              "      <th>7</th>\n",
              "      <td>0.000000</td>\n",
              "      <td>thickness</td>\n",
              "    </tr>\n",
              "    <tr>\n",
              "      <th>11</th>\n",
              "      <td>0.000000</td>\n",
              "      <td>delivery date</td>\n",
              "    </tr>\n",
              "  </tbody>\n",
              "</table>\n",
              "</div>\n",
              "    <div class=\"colab-df-buttons\">\n",
              "\n",
              "  <div class=\"colab-df-container\">\n",
              "    <button class=\"colab-df-convert\" onclick=\"convertToInteractive('df-5e98a07c-4a4e-4ef1-bc29-dcb42328abcd')\"\n",
              "            title=\"Convert this dataframe to an interactive table.\"\n",
              "            style=\"display:none;\">\n",
              "\n",
              "  <svg xmlns=\"http://www.w3.org/2000/svg\" height=\"24px\" viewBox=\"0 -960 960 960\">\n",
              "    <path d=\"M120-120v-720h720v720H120Zm60-500h600v-160H180v160Zm220 220h160v-160H400v160Zm0 220h160v-160H400v160ZM180-400h160v-160H180v160Zm440 0h160v-160H620v160ZM180-180h160v-160H180v160Zm440 0h160v-160H620v160Z\"/>\n",
              "  </svg>\n",
              "    </button>\n",
              "\n",
              "  <style>\n",
              "    .colab-df-container {\n",
              "      display:flex;\n",
              "      gap: 12px;\n",
              "    }\n",
              "\n",
              "    .colab-df-convert {\n",
              "      background-color: #E8F0FE;\n",
              "      border: none;\n",
              "      border-radius: 50%;\n",
              "      cursor: pointer;\n",
              "      display: none;\n",
              "      fill: #1967D2;\n",
              "      height: 32px;\n",
              "      padding: 0 0 0 0;\n",
              "      width: 32px;\n",
              "    }\n",
              "\n",
              "    .colab-df-convert:hover {\n",
              "      background-color: #E2EBFA;\n",
              "      box-shadow: 0px 1px 2px rgba(60, 64, 67, 0.3), 0px 1px 3px 1px rgba(60, 64, 67, 0.15);\n",
              "      fill: #174EA6;\n",
              "    }\n",
              "\n",
              "    .colab-df-buttons div {\n",
              "      margin-bottom: 4px;\n",
              "    }\n",
              "\n",
              "    [theme=dark] .colab-df-convert {\n",
              "      background-color: #3B4455;\n",
              "      fill: #D2E3FC;\n",
              "    }\n",
              "\n",
              "    [theme=dark] .colab-df-convert:hover {\n",
              "      background-color: #434B5C;\n",
              "      box-shadow: 0px 1px 3px 1px rgba(0, 0, 0, 0.15);\n",
              "      filter: drop-shadow(0px 1px 2px rgba(0, 0, 0, 0.3));\n",
              "      fill: #FFFFFF;\n",
              "    }\n",
              "  </style>\n",
              "\n",
              "    <script>\n",
              "      const buttonEl =\n",
              "        document.querySelector('#df-5e98a07c-4a4e-4ef1-bc29-dcb42328abcd button.colab-df-convert');\n",
              "      buttonEl.style.display =\n",
              "        google.colab.kernel.accessAllowed ? 'block' : 'none';\n",
              "\n",
              "      async function convertToInteractive(key) {\n",
              "        const element = document.querySelector('#df-5e98a07c-4a4e-4ef1-bc29-dcb42328abcd');\n",
              "        const dataTable =\n",
              "          await google.colab.kernel.invokeFunction('convertToInteractive',\n",
              "                                                    [key], {});\n",
              "        if (!dataTable) return;\n",
              "\n",
              "        const docLinkHtml = 'Like what you see? Visit the ' +\n",
              "          '<a target=\"_blank\" href=https://colab.research.google.com/notebooks/data_table.ipynb>data table notebook</a>'\n",
              "          + ' to learn more about interactive tables.';\n",
              "        element.innerHTML = '';\n",
              "        dataTable['output_type'] = 'display_data';\n",
              "        await google.colab.output.renderOutput(dataTable, element);\n",
              "        const docLink = document.createElement('div');\n",
              "        docLink.innerHTML = docLinkHtml;\n",
              "        element.appendChild(docLink);\n",
              "      }\n",
              "    </script>\n",
              "  </div>\n",
              "\n",
              "\n",
              "<div id=\"df-3757d0ba-4ffc-45a1-bc11-680d0ef5a02d\">\n",
              "  <button class=\"colab-df-quickchart\" onclick=\"quickchart('df-3757d0ba-4ffc-45a1-bc11-680d0ef5a02d')\"\n",
              "            title=\"Suggest charts.\"\n",
              "            style=\"display:none;\">\n",
              "\n",
              "<svg xmlns=\"http://www.w3.org/2000/svg\" height=\"24px\"viewBox=\"0 0 24 24\"\n",
              "     width=\"24px\">\n",
              "    <g>\n",
              "        <path d=\"M19 3H5c-1.1 0-2 .9-2 2v14c0 1.1.9 2 2 2h14c1.1 0 2-.9 2-2V5c0-1.1-.9-2-2-2zM9 17H7v-7h2v7zm4 0h-2V7h2v10zm4 0h-2v-4h2v4z\"/>\n",
              "    </g>\n",
              "</svg>\n",
              "  </button>\n",
              "\n",
              "<style>\n",
              "  .colab-df-quickchart {\n",
              "      --bg-color: #E8F0FE;\n",
              "      --fill-color: #1967D2;\n",
              "      --hover-bg-color: #E2EBFA;\n",
              "      --hover-fill-color: #174EA6;\n",
              "      --disabled-fill-color: #AAA;\n",
              "      --disabled-bg-color: #DDD;\n",
              "  }\n",
              "\n",
              "  [theme=dark] .colab-df-quickchart {\n",
              "      --bg-color: #3B4455;\n",
              "      --fill-color: #D2E3FC;\n",
              "      --hover-bg-color: #434B5C;\n",
              "      --hover-fill-color: #FFFFFF;\n",
              "      --disabled-bg-color: #3B4455;\n",
              "      --disabled-fill-color: #666;\n",
              "  }\n",
              "\n",
              "  .colab-df-quickchart {\n",
              "    background-color: var(--bg-color);\n",
              "    border: none;\n",
              "    border-radius: 50%;\n",
              "    cursor: pointer;\n",
              "    display: none;\n",
              "    fill: var(--fill-color);\n",
              "    height: 32px;\n",
              "    padding: 0;\n",
              "    width: 32px;\n",
              "  }\n",
              "\n",
              "  .colab-df-quickchart:hover {\n",
              "    background-color: var(--hover-bg-color);\n",
              "    box-shadow: 0 1px 2px rgba(60, 64, 67, 0.3), 0 1px 3px 1px rgba(60, 64, 67, 0.15);\n",
              "    fill: var(--button-hover-fill-color);\n",
              "  }\n",
              "\n",
              "  .colab-df-quickchart-complete:disabled,\n",
              "  .colab-df-quickchart-complete:disabled:hover {\n",
              "    background-color: var(--disabled-bg-color);\n",
              "    fill: var(--disabled-fill-color);\n",
              "    box-shadow: none;\n",
              "  }\n",
              "\n",
              "  .colab-df-spinner {\n",
              "    border: 2px solid var(--fill-color);\n",
              "    border-color: transparent;\n",
              "    border-bottom-color: var(--fill-color);\n",
              "    animation:\n",
              "      spin 1s steps(1) infinite;\n",
              "  }\n",
              "\n",
              "  @keyframes spin {\n",
              "    0% {\n",
              "      border-color: transparent;\n",
              "      border-bottom-color: var(--fill-color);\n",
              "      border-left-color: var(--fill-color);\n",
              "    }\n",
              "    20% {\n",
              "      border-color: transparent;\n",
              "      border-left-color: var(--fill-color);\n",
              "      border-top-color: var(--fill-color);\n",
              "    }\n",
              "    30% {\n",
              "      border-color: transparent;\n",
              "      border-left-color: var(--fill-color);\n",
              "      border-top-color: var(--fill-color);\n",
              "      border-right-color: var(--fill-color);\n",
              "    }\n",
              "    40% {\n",
              "      border-color: transparent;\n",
              "      border-right-color: var(--fill-color);\n",
              "      border-top-color: var(--fill-color);\n",
              "    }\n",
              "    60% {\n",
              "      border-color: transparent;\n",
              "      border-right-color: var(--fill-color);\n",
              "    }\n",
              "    80% {\n",
              "      border-color: transparent;\n",
              "      border-right-color: var(--fill-color);\n",
              "      border-bottom-color: var(--fill-color);\n",
              "    }\n",
              "    90% {\n",
              "      border-color: transparent;\n",
              "      border-bottom-color: var(--fill-color);\n",
              "    }\n",
              "  }\n",
              "</style>\n",
              "\n",
              "  <script>\n",
              "    async function quickchart(key) {\n",
              "      const quickchartButtonEl =\n",
              "        document.querySelector('#' + key + ' button');\n",
              "      quickchartButtonEl.disabled = true;  // To prevent multiple clicks.\n",
              "      quickchartButtonEl.classList.add('colab-df-spinner');\n",
              "      try {\n",
              "        const charts = await google.colab.kernel.invokeFunction(\n",
              "            'suggestCharts', [key], {});\n",
              "      } catch (error) {\n",
              "        console.error('Error during call to suggestCharts:', error);\n",
              "      }\n",
              "      quickchartButtonEl.classList.remove('colab-df-spinner');\n",
              "      quickchartButtonEl.classList.add('colab-df-quickchart-complete');\n",
              "    }\n",
              "    (() => {\n",
              "      let quickchartButtonEl =\n",
              "        document.querySelector('#df-3757d0ba-4ffc-45a1-bc11-680d0ef5a02d button');\n",
              "      quickchartButtonEl.style.display =\n",
              "        google.colab.kernel.accessAllowed ? 'block' : 'none';\n",
              "    })();\n",
              "  </script>\n",
              "</div>\n",
              "    </div>\n",
              "  </div>\n"
            ]
          },
          "metadata": {},
          "execution_count": 85
        }
      ],
      "source": [
        "ftImp = list(zip(dt_regressor.feature_importances_, df.columns[:-1]))\n",
        "imp = pd.DataFrame(ftImp, columns = [\"Importance\",\"Feature\"])\n",
        "imp.sort_values(\"Importance\",ascending = False,inplace=True)\n",
        "imp"
      ]
    },
    {
      "cell_type": "markdown",
      "source": [
        "**Extreme Gradient Boosting Regression**"
      ],
      "metadata": {
        "id": "AvnVLpCyVvH5"
      }
    },
    {
      "cell_type": "markdown",
      "source": [
        "**Choosing the best Learning Rate**"
      ],
      "metadata": {
        "id": "hDEtcFhTVz_R"
      }
    },
    {
      "cell_type": "code",
      "source": [
        "import xgboost as xgb\n",
        "\n",
        "cross_val_xgb=[]\n",
        "for lr in [0.01,0.05,0.08,0.1,0.2,0.25,0.3]:\n",
        "  xgb_regressor= xgb.XGBRegressor(learning_rate = lr,n_estimators=100)\n",
        "  xgb_regressor.fit(X_train,y_train)\n",
        "  print(\"Learning rate : \", lr,\"cross_val_score:\", cross_val_score(xgb_regressor,X_train,y_train,cv = 15).mean())\n",
        "  cross_val_xgb.append(cross_val_score(xgb_regressor,X_train,y_train,cv = 15).mean())"
      ],
      "metadata": {
        "colab": {
          "base_uri": "https://localhost:8080/"
        },
        "id": "YKAAFBngEGSm",
        "outputId": "012a915c-5962-49a6-aeff-9f935f7808c1"
      },
      "execution_count": 91,
      "outputs": [
        {
          "output_type": "stream",
          "name": "stdout",
          "text": [
            "Learning rate :  0.01 cross_val_score: 0.7726801312572562\n",
            "Learning rate :  0.05 cross_val_score: 0.9036655025283891\n",
            "Learning rate :  0.08 cross_val_score: 0.9087285241399353\n",
            "Learning rate :  0.1 cross_val_score: 0.9109785298317614\n",
            "Learning rate :  0.2 cross_val_score: 0.9187615194746256\n",
            "Learning rate :  0.25 cross_val_score: 0.9205647226002577\n",
            "Learning rate :  0.3 cross_val_score: 0.9225329226998954\n"
          ]
        }
      ]
    },
    {
      "cell_type": "code",
      "source": [
        "cross_val_xgb_regressor=max(cross_val_xgb)\n",
        "cross_val_xgb_regressor"
      ],
      "metadata": {
        "colab": {
          "base_uri": "https://localhost:8080/"
        },
        "id": "i6BSbLsHTeYh",
        "outputId": "e5f81155-c790-44ff-ae0f-6b126a1d5e7b"
      },
      "execution_count": 92,
      "outputs": [
        {
          "output_type": "execute_result",
          "data": {
            "text/plain": [
              "0.9225329226998954"
            ]
          },
          "metadata": {},
          "execution_count": 92
        }
      ]
    },
    {
      "cell_type": "code",
      "source": [
        "print(\"The best Learning rate is 0.3 and Cross_val_score is:\",cross_val_xgb_regressor)"
      ],
      "metadata": {
        "colab": {
          "base_uri": "https://localhost:8080/"
        },
        "id": "yfMJ80UCTgz6",
        "outputId": "0e4c97f9-7e8b-41f0-87f0-e42deacc7da9"
      },
      "execution_count": 93,
      "outputs": [
        {
          "output_type": "stream",
          "name": "stdout",
          "text": [
            "The best Learning rate is 0.3 and Cross_val_score is: 0.9225329226998954\n"
          ]
        }
      ]
    },
    {
      "cell_type": "markdown",
      "source": [
        "**Implementing Extreme Gradient Boosting Regression**"
      ],
      "metadata": {
        "id": "Sp4SzABgV5Gh"
      }
    },
    {
      "cell_type": "code",
      "source": [
        "  xgb_regressor= xgb.XGBRegressor(learning_rate =0.3,n_estimators=100) # initialise the model\n",
        "  xgb_regressor.fit(X_train,y_train) #train the model\n"
      ],
      "metadata": {
        "colab": {
          "base_uri": "https://localhost:8080/",
          "height": 248
        },
        "id": "DyhsCK8kTp5h",
        "outputId": "5f2f0752-3007-4ec6-c819-67643cf4fd6b"
      },
      "execution_count": 95,
      "outputs": [
        {
          "output_type": "execute_result",
          "data": {
            "text/plain": [
              "XGBRegressor(base_score=None, booster=None, callbacks=None,\n",
              "             colsample_bylevel=None, colsample_bynode=None,\n",
              "             colsample_bytree=None, device=None, early_stopping_rounds=None,\n",
              "             enable_categorical=False, eval_metric=None, feature_types=None,\n",
              "             gamma=None, grow_policy=None, importance_type=None,\n",
              "             interaction_constraints=None, learning_rate=0.3, max_bin=None,\n",
              "             max_cat_threshold=None, max_cat_to_onehot=None,\n",
              "             max_delta_step=None, max_depth=None, max_leaves=None,\n",
              "             min_child_weight=None, missing=nan, monotone_constraints=None,\n",
              "             multi_strategy=None, n_estimators=100, n_jobs=None,\n",
              "             num_parallel_tree=None, random_state=None, ...)"
            ],
            "text/html": [
              "<style>#sk-container-id-3 {color: black;background-color: white;}#sk-container-id-3 pre{padding: 0;}#sk-container-id-3 div.sk-toggleable {background-color: white;}#sk-container-id-3 label.sk-toggleable__label {cursor: pointer;display: block;width: 100%;margin-bottom: 0;padding: 0.3em;box-sizing: border-box;text-align: center;}#sk-container-id-3 label.sk-toggleable__label-arrow:before {content: \"▸\";float: left;margin-right: 0.25em;color: #696969;}#sk-container-id-3 label.sk-toggleable__label-arrow:hover:before {color: black;}#sk-container-id-3 div.sk-estimator:hover label.sk-toggleable__label-arrow:before {color: black;}#sk-container-id-3 div.sk-toggleable__content {max-height: 0;max-width: 0;overflow: hidden;text-align: left;background-color: #f0f8ff;}#sk-container-id-3 div.sk-toggleable__content pre {margin: 0.2em;color: black;border-radius: 0.25em;background-color: #f0f8ff;}#sk-container-id-3 input.sk-toggleable__control:checked~div.sk-toggleable__content {max-height: 200px;max-width: 100%;overflow: auto;}#sk-container-id-3 input.sk-toggleable__control:checked~label.sk-toggleable__label-arrow:before {content: \"▾\";}#sk-container-id-3 div.sk-estimator input.sk-toggleable__control:checked~label.sk-toggleable__label {background-color: #d4ebff;}#sk-container-id-3 div.sk-label input.sk-toggleable__control:checked~label.sk-toggleable__label {background-color: #d4ebff;}#sk-container-id-3 input.sk-hidden--visually {border: 0;clip: rect(1px 1px 1px 1px);clip: rect(1px, 1px, 1px, 1px);height: 1px;margin: -1px;overflow: hidden;padding: 0;position: absolute;width: 1px;}#sk-container-id-3 div.sk-estimator {font-family: monospace;background-color: #f0f8ff;border: 1px dotted black;border-radius: 0.25em;box-sizing: border-box;margin-bottom: 0.5em;}#sk-container-id-3 div.sk-estimator:hover {background-color: #d4ebff;}#sk-container-id-3 div.sk-parallel-item::after {content: \"\";width: 100%;border-bottom: 1px solid gray;flex-grow: 1;}#sk-container-id-3 div.sk-label:hover label.sk-toggleable__label {background-color: #d4ebff;}#sk-container-id-3 div.sk-serial::before {content: \"\";position: absolute;border-left: 1px solid gray;box-sizing: border-box;top: 0;bottom: 0;left: 50%;z-index: 0;}#sk-container-id-3 div.sk-serial {display: flex;flex-direction: column;align-items: center;background-color: white;padding-right: 0.2em;padding-left: 0.2em;position: relative;}#sk-container-id-3 div.sk-item {position: relative;z-index: 1;}#sk-container-id-3 div.sk-parallel {display: flex;align-items: stretch;justify-content: center;background-color: white;position: relative;}#sk-container-id-3 div.sk-item::before, #sk-container-id-3 div.sk-parallel-item::before {content: \"\";position: absolute;border-left: 1px solid gray;box-sizing: border-box;top: 0;bottom: 0;left: 50%;z-index: -1;}#sk-container-id-3 div.sk-parallel-item {display: flex;flex-direction: column;z-index: 1;position: relative;background-color: white;}#sk-container-id-3 div.sk-parallel-item:first-child::after {align-self: flex-end;width: 50%;}#sk-container-id-3 div.sk-parallel-item:last-child::after {align-self: flex-start;width: 50%;}#sk-container-id-3 div.sk-parallel-item:only-child::after {width: 0;}#sk-container-id-3 div.sk-dashed-wrapped {border: 1px dashed gray;margin: 0 0.4em 0.5em 0.4em;box-sizing: border-box;padding-bottom: 0.4em;background-color: white;}#sk-container-id-3 div.sk-label label {font-family: monospace;font-weight: bold;display: inline-block;line-height: 1.2em;}#sk-container-id-3 div.sk-label-container {text-align: center;}#sk-container-id-3 div.sk-container {/* jupyter's `normalize.less` sets `[hidden] { display: none; }` but bootstrap.min.css set `[hidden] { display: none !important; }` so we also need the `!important` here to be able to override the default hidden behavior on the sphinx rendered scikit-learn.org. See: https://github.com/scikit-learn/scikit-learn/issues/21755 */display: inline-block !important;position: relative;}#sk-container-id-3 div.sk-text-repr-fallback {display: none;}</style><div id=\"sk-container-id-3\" class=\"sk-top-container\"><div class=\"sk-text-repr-fallback\"><pre>XGBRegressor(base_score=None, booster=None, callbacks=None,\n",
              "             colsample_bylevel=None, colsample_bynode=None,\n",
              "             colsample_bytree=None, device=None, early_stopping_rounds=None,\n",
              "             enable_categorical=False, eval_metric=None, feature_types=None,\n",
              "             gamma=None, grow_policy=None, importance_type=None,\n",
              "             interaction_constraints=None, learning_rate=0.3, max_bin=None,\n",
              "             max_cat_threshold=None, max_cat_to_onehot=None,\n",
              "             max_delta_step=None, max_depth=None, max_leaves=None,\n",
              "             min_child_weight=None, missing=nan, monotone_constraints=None,\n",
              "             multi_strategy=None, n_estimators=100, n_jobs=None,\n",
              "             num_parallel_tree=None, random_state=None, ...)</pre><b>In a Jupyter environment, please rerun this cell to show the HTML representation or trust the notebook. <br />On GitHub, the HTML representation is unable to render, please try loading this page with nbviewer.org.</b></div><div class=\"sk-container\" hidden><div class=\"sk-item\"><div class=\"sk-estimator sk-toggleable\"><input class=\"sk-toggleable__control sk-hidden--visually\" id=\"sk-estimator-id-3\" type=\"checkbox\" checked><label for=\"sk-estimator-id-3\" class=\"sk-toggleable__label sk-toggleable__label-arrow\">XGBRegressor</label><div class=\"sk-toggleable__content\"><pre>XGBRegressor(base_score=None, booster=None, callbacks=None,\n",
              "             colsample_bylevel=None, colsample_bynode=None,\n",
              "             colsample_bytree=None, device=None, early_stopping_rounds=None,\n",
              "             enable_categorical=False, eval_metric=None, feature_types=None,\n",
              "             gamma=None, grow_policy=None, importance_type=None,\n",
              "             interaction_constraints=None, learning_rate=0.3, max_bin=None,\n",
              "             max_cat_threshold=None, max_cat_to_onehot=None,\n",
              "             max_delta_step=None, max_depth=None, max_leaves=None,\n",
              "             min_child_weight=None, missing=nan, monotone_constraints=None,\n",
              "             multi_strategy=None, n_estimators=100, n_jobs=None,\n",
              "             num_parallel_tree=None, random_state=None, ...)</pre></div></div></div></div></div>"
            ]
          },
          "metadata": {},
          "execution_count": 95
        }
      ]
    },
    {
      "cell_type": "code",
      "source": [
        "cross_val_xgb_regressor=cross_val_score(xgb_regressor,X_train,y_train,cv=15).mean()\n",
        "cross_val_xgb_regressor"
      ],
      "metadata": {
        "colab": {
          "base_uri": "https://localhost:8080/"
        },
        "id": "MOF3H7PiTvwR",
        "outputId": "d481883e-dd11-492b-f173-ddbc012475b1"
      },
      "execution_count": 96,
      "outputs": [
        {
          "output_type": "execute_result",
          "data": {
            "text/plain": [
              "0.9225329226998954"
            ]
          },
          "metadata": {},
          "execution_count": 96
        }
      ]
    },
    {
      "cell_type": "markdown",
      "source": [
        "**Random Forest Regression**"
      ],
      "metadata": {
        "id": "wumgajxYV9oC"
      }
    },
    {
      "cell_type": "markdown",
      "source": [
        "**Choosing the best depth value**"
      ],
      "metadata": {
        "id": "cqrab7vpWCUy"
      }
    },
    {
      "cell_type": "code",
      "source": [
        "from sklearn.ensemble import RandomForestRegressor\n",
        "\n",
        "max_depth=np.array([2,4,8,10,12,14,16,18])\n",
        "cross_val_rf=[]\n",
        "for d in max_depth:\n",
        "  rf_regressor=RandomForestRegressor(max_depth=d, random_state=0)\n",
        "  rf_regressor.fit(X_train,y_train)\n",
        "  print(\"Depth : \", d, \"cross_val_score : \", cross_val_score(rf_regressor,X_train,y_train,cv = 10).mean())\n",
        "  cross_val_rf.append(cross_val_score(rf_regressor,X_train,y_train,cv = 10).mean())"
      ],
      "metadata": {
        "colab": {
          "base_uri": "https://localhost:8080/"
        },
        "id": "UJgZar1UtyKx",
        "outputId": "fbab96d8-1140-46f7-bbb6-1d3f4effdaa5"
      },
      "execution_count": 103,
      "outputs": [
        {
          "output_type": "stream",
          "name": "stdout",
          "text": [
            "Depth :  2 cross_val_score :  0.8693990028981604\n",
            "Depth :  4 cross_val_score :  0.8846013480516539\n",
            "Depth :  8 cross_val_score :  0.8988082522802181\n",
            "Depth :  10 cross_val_score :  0.9088560428178495\n",
            "Depth :  12 cross_val_score :  0.9184619097123106\n",
            "Depth :  14 cross_val_score :  0.9263858682021435\n",
            "Depth :  16 cross_val_score :  0.9320214365633236\n",
            "Depth :  18 cross_val_score :  0.9352886097157793\n"
          ]
        }
      ]
    },
    {
      "cell_type": "code",
      "source": [
        "cross_val_rf_regressor=max(cross_val_rf)\n",
        "cross_val_rf_regressor"
      ],
      "metadata": {
        "colab": {
          "base_uri": "https://localhost:8080/"
        },
        "id": "y5DXDoSnOIUL",
        "outputId": "f2cd6a9c-1d8f-4d3a-8c72-cd2a9d632634"
      },
      "execution_count": 104,
      "outputs": [
        {
          "output_type": "execute_result",
          "data": {
            "text/plain": [
              "0.9352886097157793"
            ]
          },
          "metadata": {},
          "execution_count": 104
        }
      ]
    },
    {
      "cell_type": "code",
      "source": [
        "print(\"The best depth is 18 and Cross_val_score is:\",cross_val_rf_regressor)"
      ],
      "metadata": {
        "colab": {
          "base_uri": "https://localhost:8080/"
        },
        "id": "GkeHuIHPOQJK",
        "outputId": "22e51678-6a2b-4184-9a98-331f7ded2cbe"
      },
      "execution_count": 105,
      "outputs": [
        {
          "output_type": "stream",
          "name": "stdout",
          "text": [
            "The best depth is 18 and Cross_val_score is: 0.9352886097157793\n"
          ]
        }
      ]
    },
    {
      "cell_type": "markdown",
      "source": [
        "**Implementing Random Forest Regression**"
      ],
      "metadata": {
        "id": "3-eYQwIQWFuo"
      }
    },
    {
      "cell_type": "code",
      "source": [
        "rf_regressor=RandomForestRegressor(max_depth=18, random_state=0)\n",
        "rf_regressor.fit(X_train,y_train)"
      ],
      "metadata": {
        "colab": {
          "base_uri": "https://localhost:8080/",
          "height": 75
        },
        "id": "QIzPOoN0O6AB",
        "outputId": "78a919a6-c3b0-4dc6-fd42-a99aa38ed6af"
      },
      "execution_count": 109,
      "outputs": [
        {
          "output_type": "execute_result",
          "data": {
            "text/plain": [
              "RandomForestRegressor(max_depth=18, random_state=0)"
            ],
            "text/html": [
              "<style>#sk-container-id-5 {color: black;background-color: white;}#sk-container-id-5 pre{padding: 0;}#sk-container-id-5 div.sk-toggleable {background-color: white;}#sk-container-id-5 label.sk-toggleable__label {cursor: pointer;display: block;width: 100%;margin-bottom: 0;padding: 0.3em;box-sizing: border-box;text-align: center;}#sk-container-id-5 label.sk-toggleable__label-arrow:before {content: \"▸\";float: left;margin-right: 0.25em;color: #696969;}#sk-container-id-5 label.sk-toggleable__label-arrow:hover:before {color: black;}#sk-container-id-5 div.sk-estimator:hover label.sk-toggleable__label-arrow:before {color: black;}#sk-container-id-5 div.sk-toggleable__content {max-height: 0;max-width: 0;overflow: hidden;text-align: left;background-color: #f0f8ff;}#sk-container-id-5 div.sk-toggleable__content pre {margin: 0.2em;color: black;border-radius: 0.25em;background-color: #f0f8ff;}#sk-container-id-5 input.sk-toggleable__control:checked~div.sk-toggleable__content {max-height: 200px;max-width: 100%;overflow: auto;}#sk-container-id-5 input.sk-toggleable__control:checked~label.sk-toggleable__label-arrow:before {content: \"▾\";}#sk-container-id-5 div.sk-estimator input.sk-toggleable__control:checked~label.sk-toggleable__label {background-color: #d4ebff;}#sk-container-id-5 div.sk-label input.sk-toggleable__control:checked~label.sk-toggleable__label {background-color: #d4ebff;}#sk-container-id-5 input.sk-hidden--visually {border: 0;clip: rect(1px 1px 1px 1px);clip: rect(1px, 1px, 1px, 1px);height: 1px;margin: -1px;overflow: hidden;padding: 0;position: absolute;width: 1px;}#sk-container-id-5 div.sk-estimator {font-family: monospace;background-color: #f0f8ff;border: 1px dotted black;border-radius: 0.25em;box-sizing: border-box;margin-bottom: 0.5em;}#sk-container-id-5 div.sk-estimator:hover {background-color: #d4ebff;}#sk-container-id-5 div.sk-parallel-item::after {content: \"\";width: 100%;border-bottom: 1px solid gray;flex-grow: 1;}#sk-container-id-5 div.sk-label:hover label.sk-toggleable__label {background-color: #d4ebff;}#sk-container-id-5 div.sk-serial::before {content: \"\";position: absolute;border-left: 1px solid gray;box-sizing: border-box;top: 0;bottom: 0;left: 50%;z-index: 0;}#sk-container-id-5 div.sk-serial {display: flex;flex-direction: column;align-items: center;background-color: white;padding-right: 0.2em;padding-left: 0.2em;position: relative;}#sk-container-id-5 div.sk-item {position: relative;z-index: 1;}#sk-container-id-5 div.sk-parallel {display: flex;align-items: stretch;justify-content: center;background-color: white;position: relative;}#sk-container-id-5 div.sk-item::before, #sk-container-id-5 div.sk-parallel-item::before {content: \"\";position: absolute;border-left: 1px solid gray;box-sizing: border-box;top: 0;bottom: 0;left: 50%;z-index: -1;}#sk-container-id-5 div.sk-parallel-item {display: flex;flex-direction: column;z-index: 1;position: relative;background-color: white;}#sk-container-id-5 div.sk-parallel-item:first-child::after {align-self: flex-end;width: 50%;}#sk-container-id-5 div.sk-parallel-item:last-child::after {align-self: flex-start;width: 50%;}#sk-container-id-5 div.sk-parallel-item:only-child::after {width: 0;}#sk-container-id-5 div.sk-dashed-wrapped {border: 1px dashed gray;margin: 0 0.4em 0.5em 0.4em;box-sizing: border-box;padding-bottom: 0.4em;background-color: white;}#sk-container-id-5 div.sk-label label {font-family: monospace;font-weight: bold;display: inline-block;line-height: 1.2em;}#sk-container-id-5 div.sk-label-container {text-align: center;}#sk-container-id-5 div.sk-container {/* jupyter's `normalize.less` sets `[hidden] { display: none; }` but bootstrap.min.css set `[hidden] { display: none !important; }` so we also need the `!important` here to be able to override the default hidden behavior on the sphinx rendered scikit-learn.org. See: https://github.com/scikit-learn/scikit-learn/issues/21755 */display: inline-block !important;position: relative;}#sk-container-id-5 div.sk-text-repr-fallback {display: none;}</style><div id=\"sk-container-id-5\" class=\"sk-top-container\"><div class=\"sk-text-repr-fallback\"><pre>RandomForestRegressor(max_depth=18, random_state=0)</pre><b>In a Jupyter environment, please rerun this cell to show the HTML representation or trust the notebook. <br />On GitHub, the HTML representation is unable to render, please try loading this page with nbviewer.org.</b></div><div class=\"sk-container\" hidden><div class=\"sk-item\"><div class=\"sk-estimator sk-toggleable\"><input class=\"sk-toggleable__control sk-hidden--visually\" id=\"sk-estimator-id-5\" type=\"checkbox\" checked><label for=\"sk-estimator-id-5\" class=\"sk-toggleable__label sk-toggleable__label-arrow\">RandomForestRegressor</label><div class=\"sk-toggleable__content\"><pre>RandomForestRegressor(max_depth=18, random_state=0)</pre></div></div></div></div></div>"
            ]
          },
          "metadata": {},
          "execution_count": 109
        }
      ]
    },
    {
      "cell_type": "code",
      "source": [
        "cross_val_rf_regressor=cross_val_score(rf_regressor,X_train,y_train,cv=10).mean()\n",
        "cross_val_rf_regressor"
      ],
      "metadata": {
        "colab": {
          "base_uri": "https://localhost:8080/"
        },
        "id": "otM_PWXNO8Y7",
        "outputId": "929efe94-5060-4916-85c6-e70a746d53ae"
      },
      "execution_count": 110,
      "outputs": [
        {
          "output_type": "execute_result",
          "data": {
            "text/plain": [
              "0.9352886097157793"
            ]
          },
          "metadata": {},
          "execution_count": 110
        }
      ]
    },
    {
      "cell_type": "markdown",
      "source": [
        "** R2 Score for Machine-Learning Models**"
      ],
      "metadata": {
        "id": "_hGtwzbsWLDI"
      }
    },
    {
      "cell_type": "code",
      "source": [
        "from sklearn.metrics import r2_score\n",
        "y_pred_lr=lr_model.predict(X_test)\n",
        "y_pred_dt= dt_regressor.predict(X_test)\n",
        "y_pred_rf=rf_regressor.predict(X_test)\n",
        "y_pred_xgb=xgb_regressor.predict(X_test)"
      ],
      "metadata": {
        "id": "3xYsRmXXTwsy"
      },
      "execution_count": 112,
      "outputs": []
    },
    {
      "cell_type": "code",
      "source": [
        "R2_score_lr=r2_score(y_test,y_pred_lr)\n",
        "R2_score_dt=r2_score(y_test,y_pred_dt)\n",
        "R2_score_rf=r2_score(y_test,y_pred_rf)\n",
        "R2_score_xgb=r2_score(y_test,y_pred_xgb)"
      ],
      "metadata": {
        "id": "jZGVEF7QT6M4"
      },
      "execution_count": 116,
      "outputs": []
    },
    {
      "cell_type": "code",
      "source": [
        "print(\"R2 Score for Linear Regression Model:\",R2_score_lr)\n",
        "print(\"R2 Score for Decision Tree Regression Model: \",R2_score_dt)\n",
        "print(\"R2 Score for Random Forest Regression Model: \",R2_score_rf)\n",
        "print(\"R2 Score for Extreme-Gradient Boosting Regression Model: \",R2_score_xgb)"
      ],
      "metadata": {
        "colab": {
          "base_uri": "https://localhost:8080/"
        },
        "id": "clbSrh65ULT5",
        "outputId": "81fb75cb-88e1-4f31-da05-d6411b1a6b1a"
      },
      "execution_count": 118,
      "outputs": [
        {
          "output_type": "stream",
          "name": "stdout",
          "text": [
            "R2 Score for Linear Regression Model: 0.8555774433007005\n",
            "R2 Score for Decision Tree Regression Model:  0.9095766437058667\n",
            "R2 Score for Random Forest Regression Model:  0.9268504955575462\n",
            "R2 Score for Extreme-Gradient Boosting Regression Model:  0.9143518768615677\n"
          ]
        }
      ]
    },
    {
      "cell_type": "markdown",
      "source": [
        "**Cross-Validation Score for Machine-Learning Models**"
      ],
      "metadata": {
        "id": "WcdmUgSvWQ8Z"
      }
    },
    {
      "cell_type": "code",
      "source": [
        "print(\"Cross Validation Score for Linear Regression Model:\",cross_val_lr_model)\n",
        "print(\"Cross Validation Score for Decision Tree Regression Model: \",cross_val_dt_regressor)\n",
        "print(\"Cross Validation Score for Random Forest Regression Model: \",cross_val_rf_regressor)\n",
        "print(\"Cross Validation Score for Extreme-Gradient Boosting Regression Model: \",cross_val_xgb_regressor)"
      ],
      "metadata": {
        "colab": {
          "base_uri": "https://localhost:8080/"
        },
        "id": "LjfnG3nuUSzJ",
        "outputId": "a8ccaabd-6a72-4c69-8c78-f8da62009d55"
      },
      "execution_count": 123,
      "outputs": [
        {
          "output_type": "stream",
          "name": "stdout",
          "text": [
            "Cross Validation Score for Linear Regression Model: -5.686381669559604e+22\n",
            "Cross Validation Score for Decision Tree Regression Model:  0.9165118795414002\n",
            "Cross Validation Score for Random Forest Regression Model:  0.9352886097157793\n",
            "Cross Validation Score for Extreme-Gradient Boosting Regression Model:  0.9225329226998954\n"
          ]
        }
      ]
    },
    {
      "cell_type": "markdown",
      "source": [
        "**The best Model is Random Forest : 0.9352886097157793**"
      ],
      "metadata": {
        "id": "HfZROJQyUuqn"
      }
    }
  ],
  "metadata": {
    "colab": {
      "provenance": []
    },
    "kernelspec": {
      "display_name": "Python 3",
      "name": "python3"
    },
    "language_info": {
      "name": "python"
    }
  },
  "nbformat": 4,
  "nbformat_minor": 0
}